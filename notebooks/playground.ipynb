{
 "cells": [
  {
   "cell_type": "code",
   "execution_count": 1,
   "id": "d3129eda",
   "metadata": {},
   "outputs": [],
   "source": [
    "import torch\n",
    "import evaluate\n",
    "from rich import print, print_json\n",
    "from shinkai.core.expirement import Expirement, ExpirementMetrics\n",
    "from transformers import AutoModelForCausalLM, AutoTokenizer\n",
    "from datasets import DatasetDict \n",
    "from shinkai.constants import CACHE_DIR\n",
    "from shinkai.core.loader import load_ift\n",
    "from tqdm import tqdm"
   ]
  },
  {
   "cell_type": "code",
   "execution_count": 2,
   "id": "fa6c72dc",
   "metadata": {},
   "outputs": [
    {
     "data": {
      "text/html": [
       "<pre style=\"white-space:pre;overflow-x:auto;line-height:normal;font-family:Menlo,'DejaVu Sans Mono',consolas,'Courier New',monospace\"><span style=\"color: #800080; text-decoration-color: #800080; font-weight: bold\">DatasetDict</span><span style=\"font-weight: bold\">({</span>\n",
       "    train: <span style=\"color: #800080; text-decoration-color: #800080; font-weight: bold\">Dataset</span><span style=\"font-weight: bold\">({</span>\n",
       "        features: <span style=\"font-weight: bold\">[</span><span style=\"color: #008000; text-decoration-color: #008000\">'instruction'</span>, <span style=\"color: #008000; text-decoration-color: #008000\">'input'</span>, <span style=\"color: #008000; text-decoration-color: #008000\">'output'</span><span style=\"font-weight: bold\">]</span>,\n",
       "        num_rows: <span style=\"color: #008080; text-decoration-color: #008080; font-weight: bold\">1090</span>\n",
       "    <span style=\"font-weight: bold\">})</span>\n",
       "    test: <span style=\"color: #800080; text-decoration-color: #800080; font-weight: bold\">Dataset</span><span style=\"font-weight: bold\">({</span>\n",
       "        features: <span style=\"font-weight: bold\">[</span><span style=\"color: #008000; text-decoration-color: #008000\">'instruction'</span>, <span style=\"color: #008000; text-decoration-color: #008000\">'input'</span>, <span style=\"color: #008000; text-decoration-color: #008000\">'output'</span><span style=\"font-weight: bold\">]</span>,\n",
       "        num_rows: <span style=\"color: #008080; text-decoration-color: #008080; font-weight: bold\">6</span>\n",
       "    <span style=\"font-weight: bold\">})</span>\n",
       "<span style=\"font-weight: bold\">})</span>\n",
       "</pre>\n"
      ],
      "text/plain": [
       "\u001b[1;35mDatasetDict\u001b[0m\u001b[1m(\u001b[0m\u001b[1m{\u001b[0m\n",
       "    train: \u001b[1;35mDataset\u001b[0m\u001b[1m(\u001b[0m\u001b[1m{\u001b[0m\n",
       "        features: \u001b[1m[\u001b[0m\u001b[32m'instruction'\u001b[0m, \u001b[32m'input'\u001b[0m, \u001b[32m'output'\u001b[0m\u001b[1m]\u001b[0m,\n",
       "        num_rows: \u001b[1;36m1090\u001b[0m\n",
       "    \u001b[1m}\u001b[0m\u001b[1m)\u001b[0m\n",
       "    test: \u001b[1;35mDataset\u001b[0m\u001b[1m(\u001b[0m\u001b[1m{\u001b[0m\n",
       "        features: \u001b[1m[\u001b[0m\u001b[32m'instruction'\u001b[0m, \u001b[32m'input'\u001b[0m, \u001b[32m'output'\u001b[0m\u001b[1m]\u001b[0m,\n",
       "        num_rows: \u001b[1;36m6\u001b[0m\n",
       "    \u001b[1m}\u001b[0m\u001b[1m)\u001b[0m\n",
       "\u001b[1m}\u001b[0m\u001b[1m)\u001b[0m\n"
      ]
     },
     "metadata": {},
     "output_type": "display_data"
    }
   ],
   "source": [
    "ds = load_ift(testSize=0.005)\n",
    "print(ds)"
   ]
  },
  {
   "cell_type": "code",
   "execution_count": 3,
   "id": "aea8e3d7",
   "metadata": {},
   "outputs": [
    {
     "data": {
      "text/plain": [
       "LlamaForCausalLM(\n",
       "  (model): LlamaModel(\n",
       "    (embed_tokens): Embedding(32256, 2048)\n",
       "    (layers): ModuleList(\n",
       "      (0-23): 24 x LlamaDecoderLayer(\n",
       "        (self_attn): LlamaAttention(\n",
       "          (q_proj): Linear(in_features=2048, out_features=2048, bias=False)\n",
       "          (k_proj): Linear(in_features=2048, out_features=2048, bias=False)\n",
       "          (v_proj): Linear(in_features=2048, out_features=2048, bias=False)\n",
       "          (o_proj): Linear(in_features=2048, out_features=2048, bias=False)\n",
       "        )\n",
       "        (mlp): LlamaMLP(\n",
       "          (gate_proj): Linear(in_features=2048, out_features=5504, bias=False)\n",
       "          (up_proj): Linear(in_features=2048, out_features=5504, bias=False)\n",
       "          (down_proj): Linear(in_features=5504, out_features=2048, bias=False)\n",
       "          (act_fn): SiLU()\n",
       "        )\n",
       "        (input_layernorm): LlamaRMSNorm((2048,), eps=1e-06)\n",
       "        (post_attention_layernorm): LlamaRMSNorm((2048,), eps=1e-06)\n",
       "      )\n",
       "    )\n",
       "    (norm): LlamaRMSNorm((2048,), eps=1e-06)\n",
       "    (rotary_emb): LlamaRotaryEmbedding()\n",
       "  )\n",
       "  (lm_head): Linear(in_features=2048, out_features=32256, bias=False)\n",
       ")"
      ]
     },
     "execution_count": 3,
     "metadata": {},
     "output_type": "execute_result"
    }
   ],
   "source": [
    "device = \"mps\" if torch.cuda.is_available() else \"cpu\"\n",
    "model = AutoModelForCausalLM.from_pretrained(\"deepseek-ai/deepseek-coder-1.3b-base\", cache_dir=\"../\" + CACHE_DIR).to(device)\n",
    "tokenizer = AutoTokenizer.from_pretrained(\"deepseek-ai/deepseek-coder-1.3b-base\", cache_dir=\"../\" + CACHE_DIR)\n",
    "\n",
    "model.eval()"
   ]
  },
  {
   "cell_type": "code",
   "execution_count": 4,
   "id": "36956b99",
   "metadata": {},
   "outputs": [],
   "source": [
    "ds_test = ds[\"test\"]"
   ]
  },
  {
   "cell_type": "code",
   "execution_count": null,
   "id": "ea7bc039",
   "metadata": {},
   "outputs": [],
   "source": [
    "promt = \"\"\"\n",
    "You are a Swift documentation assistant.\n",
    "\n",
    "Your task is to add precise and complete Swift-style documentation comments (///) to the function below. Follow Apple's Xcode documentation conventions.\n",
    "\n",
    "The documentation must include:\n",
    "- A one-sentence summary of the function’s purpose.\n",
    "- A \"- Parameters:\" section explaining each parameter clearly, including its type and role.\n",
    "- A \"- Returns:\" section that describes the return value (if the function returns something), with its type.\n",
    "\n",
    "Guidelines:\n",
    "- Use concise, technical English appropriate for developer-facing API docs.\n",
    "- Include type hints in explanations (e.g., “an integer”, “a string array”).\n",
    "- If the function is generic (<T>), explain the generic behavior clearly.\n",
    "- Do not include any commentary or explanation outside the code block.\n",
    "- The output must be a single Swift code block containing only the function and its documentation.\n",
    "\n",
    "```swift\n",
    "func median(of numbers: [Double]) -> Double? {\n",
    "    guard !numbers.isEmpty else { return nil }\n",
    "    let sorted = numbers.sorted()\n",
    "    let mid = sorted.count / 2\n",
    "    return sorted.count % 2 == 0\n",
    "        ? (sorted[mid - 1] + sorted[mid]) / 2\n",
    "        : sorted[mid]\n",
    "}\n",
    "```\n",
    "\"\"\"\n",
    "\n",
    "print(model.generation_config)\n",
    "inputs = tokenizer(promt, return_tensors=\"pt\").to(device)\n",
    "outputs = model.generate(\n",
    "    **inputs,\n",
    "    max_new_tokens = 200,\n",
    "    eos_token_id=tokenizer.eos_token_id,\n",
    "    pad_token_id=tokenizer.eos_token_id,   # чтобы декодер не ругался\n",
    "    do_sample=True,\n",
    "    temperature=0.5,\n",
    "    top_p=0.95      # запрет на повтор 4-грамм\n",
    ")\n",
    "print(outputs)"
   ]
  },
  {
   "cell_type": "code",
   "execution_count": null,
   "id": "2a2e11ec",
   "metadata": {},
   "outputs": [],
   "source": [
    "result = tokenizer.decode(outputs[0][inputs.input_ids.shape[1]:], skip_special_tokens=True)\n",
    "print(result)"
   ]
  },
  {
   "cell_type": "code",
   "execution_count": null,
   "id": "2dc56f8d",
   "metadata": {},
   "outputs": [],
   "source": [
    "outputs = model.generate(\n",
    "    **inputs,\n",
    "    max_new_tokens=128,\n",
    "    return_dict_in_generate=True,\n",
    "    output_scores = False\n",
    ")\n",
    "\n",
    "# Получаем только сгенерированную часть\n",
    "generated_tokens = outputs.sequences[0][inputs.input_ids.shape[1]:]\n",
    "result = tokenizer.decode(generated_tokens, skip_special_tokens=True)\n",
    "print(result)"
   ]
  },
  {
   "cell_type": "markdown",
   "id": "0d2cc61e",
   "metadata": {},
   "source": [
    "### Metrics Test"
   ]
  },
  {
   "cell_type": "code",
   "execution_count": 44,
   "id": "a1dc04c1",
   "metadata": {},
   "outputs": [
    {
     "data": {
      "text/html": [
       "<pre style=\"white-space:pre;overflow-x:auto;line-height:normal;font-family:Menlo,'DejaVu Sans Mono',consolas,'Courier New',monospace\">GenerationConfig <span style=\"font-weight: bold\">{</span>\n",
       "  <span style=\"color: #008000; text-decoration-color: #008000\">\"bos_token_id\"</span>: <span style=\"color: #008080; text-decoration-color: #008080; font-weight: bold\">32013</span>,\n",
       "  <span style=\"color: #008000; text-decoration-color: #008000\">\"eos_token_id\"</span>: <span style=\"color: #008080; text-decoration-color: #008080; font-weight: bold\">32014</span>\n",
       "<span style=\"font-weight: bold\">}</span>\n",
       "\n",
       "</pre>\n"
      ],
      "text/plain": [
       "GenerationConfig \u001b[1m{\u001b[0m\n",
       "  \u001b[32m\"bos_token_id\"\u001b[0m: \u001b[1;36m32013\u001b[0m,\n",
       "  \u001b[32m\"eos_token_id\"\u001b[0m: \u001b[1;36m32014\u001b[0m\n",
       "\u001b[1m}\u001b[0m\n",
       "\n"
      ]
     },
     "metadata": {},
     "output_type": "display_data"
    },
    {
     "data": {
      "text/html": [
       "<pre style=\"white-space:pre;overflow-x:auto;line-height:normal;font-family:Menlo,'DejaVu Sans Mono',consolas,'Courier New',monospace\"><span style=\"color: #800080; text-decoration-color: #800080; font-weight: bold\">tensor</span><span style=\"font-weight: bold\">([[</span><span style=\"color: #008080; text-decoration-color: #008080; font-weight: bold\">32013</span>,  <span style=\"color: #008080; text-decoration-color: #008080; font-weight: bold\">2042</span>,   <span style=\"color: #008080; text-decoration-color: #008080; font-weight: bold\">417</span>,  <span style=\"color: #008080; text-decoration-color: #008080; font-weight: bold\">3396</span>,   <span style=\"color: #008080; text-decoration-color: #008080; font-weight: bold\">272</span>,   <span style=\"color: #008080; text-decoration-color: #008080; font-weight: bold\">245</span>, <span style=\"color: #008080; text-decoration-color: #008080; font-weight: bold\">29142</span>,  <span style=\"color: #008080; text-decoration-color: #008080; font-weight: bold\">2974</span>,  <span style=\"color: #008080; text-decoration-color: #008080; font-weight: bold\">4907</span>,    <span style=\"color: #008080; text-decoration-color: #008080; font-weight: bold\">13</span>,\n",
       "           <span style=\"color: #008080; text-decoration-color: #008080; font-weight: bold\">185</span>, <span style=\"color: #008080; text-decoration-color: #008080; font-weight: bold\">17299</span>,   <span style=\"color: #008080; text-decoration-color: #008080; font-weight: bold\">245</span>,  <span style=\"color: #008080; text-decoration-color: #008080; font-weight: bold\">1155</span>,   <span style=\"color: #008080; text-decoration-color: #008080; font-weight: bold\">285</span>,   <span style=\"color: #008080; text-decoration-color: #008080; font-weight: bold\">245</span>,  <span style=\"color: #008080; text-decoration-color: #008080; font-weight: bold\">2567</span>,  <span style=\"color: #008080; text-decoration-color: #008080; font-weight: bold\">6413</span>,   <span style=\"color: #008080; text-decoration-color: #008080; font-weight: bold\">280</span>,  <span style=\"color: #008080; text-decoration-color: #008080; font-weight: bold\">1064</span>,\n",
       "           <span style=\"color: #008080; text-decoration-color: #008080; font-weight: bold\">285</span>,   <span style=\"color: #008080; text-decoration-color: #008080; font-weight: bold\">940</span>,   <span style=\"color: #008080; text-decoration-color: #008080; font-weight: bold\">359</span>,   <span style=\"color: #008080; text-decoration-color: #008080; font-weight: bold\">317</span>,  <span style=\"color: #008080; text-decoration-color: #008080; font-weight: bold\">1219</span>,    <span style=\"color: #008080; text-decoration-color: #008080; font-weight: bold\">11</span>,  <span style=\"color: #008080; text-decoration-color: #008080; font-weight: bold\">3697</span>,   <span style=\"color: #008080; text-decoration-color: #008080; font-weight: bold\">245</span>, <span style=\"color: #008080; text-decoration-color: #008080; font-weight: bold\">12175</span>,  <span style=\"color: #008080; text-decoration-color: #008080; font-weight: bold\">5273</span>,\n",
       "           <span style=\"color: #008080; text-decoration-color: #008080; font-weight: bold\">344</span>,  <span style=\"color: #008080; text-decoration-color: #008080; font-weight: bold\">6688</span>,  <span style=\"color: #008080; text-decoration-color: #008080; font-weight: bold\">3669</span>, <span style=\"color: #008080; text-decoration-color: #008080; font-weight: bold\">15833</span>,  <span style=\"color: #008080; text-decoration-color: #008080; font-weight: bold\">2569</span>,   <span style=\"color: #008080; text-decoration-color: #008080; font-weight: bold\">891</span>,  <span style=\"color: #008080; text-decoration-color: #008080; font-weight: bold\">5474</span>,    <span style=\"color: #008080; text-decoration-color: #008080; font-weight: bold\">13</span>,   <span style=\"color: #008080; text-decoration-color: #008080; font-weight: bold\">185</span>,  <span style=\"color: #008080; text-decoration-color: #008080; font-weight: bold\">9138</span>,\n",
       "          <span style=\"color: #008080; text-decoration-color: #008080; font-weight: bold\">3646</span>,    <span style=\"color: #008080; text-decoration-color: #008080; font-weight: bold\">12</span>,  <span style=\"color: #008080; text-decoration-color: #008080; font-weight: bold\">4410</span>, <span style=\"color: #008080; text-decoration-color: #008080; font-weight: bold\">29142</span>,  <span style=\"color: #008080; text-decoration-color: #008080; font-weight: bold\">6789</span>,    <span style=\"color: #008080; text-decoration-color: #008080; font-weight: bold\">13</span>,   <span style=\"color: #008080; text-decoration-color: #008080; font-weight: bold\">185</span>,   <span style=\"color: #008080; text-decoration-color: #008080; font-weight: bold\">769</span>,  <span style=\"color: #008080; text-decoration-color: #008080; font-weight: bold\">8049</span>,  <span style=\"color: #008080; text-decoration-color: #008080; font-weight: bold\">5164</span>,\n",
       "           <span style=\"color: #008080; text-decoration-color: #008080; font-weight: bold\">285</span>,   <span style=\"color: #008080; text-decoration-color: #008080; font-weight: bold\">967</span>, <span style=\"color: #008080; text-decoration-color: #008080; font-weight: bold\">23866</span>,    <span style=\"color: #008080; text-decoration-color: #008080; font-weight: bold\">11</span>,   <span style=\"color: #008080; text-decoration-color: #008080; font-weight: bold\">285</span>, <span style=\"color: #008080; text-decoration-color: #008080; font-weight: bold\">29184</span>,  <span style=\"color: #008080; text-decoration-color: #008080; font-weight: bold\">6701</span>,   <span style=\"color: #008080; text-decoration-color: #008080; font-weight: bold\">851</span>,  <span style=\"color: #008080; text-decoration-color: #008080; font-weight: bold\">9678</span>,    <span style=\"color: #008080; text-decoration-color: #008080; font-weight: bold\">13</span>,\n",
       "           <span style=\"color: #008080; text-decoration-color: #008080; font-weight: bold\">185</span>,  <span style=\"color: #008080; text-decoration-color: #008080; font-weight: bold\">8925</span>,   <span style=\"color: #008080; text-decoration-color: #008080; font-weight: bold\">885</span>,   <span style=\"color: #008080; text-decoration-color: #008080; font-weight: bold\">254</span>,  <span style=\"color: #008080; text-decoration-color: #008080; font-weight: bold\">5273</span>,   <span style=\"color: #008080; text-decoration-color: #008080; font-weight: bold\">285</span>,   <span style=\"color: #008080; text-decoration-color: #008080; font-weight: bold\">254</span>,  <span style=\"color: #008080; text-decoration-color: #008080; font-weight: bold\">1155</span>,    <span style=\"color: #008080; text-decoration-color: #008080; font-weight: bold\">13</span>,   <span style=\"color: #008080; text-decoration-color: #008080; font-weight: bold\">185</span>,\n",
       "          <span style=\"color: #008080; text-decoration-color: #008080; font-weight: bold\">7312</span>,   <span style=\"color: #008080; text-decoration-color: #008080; font-weight: bold\">957</span>,  <span style=\"color: #008080; text-decoration-color: #008080; font-weight: bold\">9770</span>,   <span style=\"color: #008080; text-decoration-color: #008080; font-weight: bold\">245</span>,    <span style=\"color: #008080; text-decoration-color: #008080; font-weight: bold\">25</span>,  <span style=\"color: #008080; text-decoration-color: #008080; font-weight: bold\">3717</span>,    <span style=\"color: #008080; text-decoration-color: #008080; font-weight: bold\">11</span>,  <span style=\"color: #008080; text-decoration-color: #008080; font-weight: bold\">1070</span>,   <span style=\"color: #008080; text-decoration-color: #008080; font-weight: bold\">270</span>,    <span style=\"color: #008080; text-decoration-color: #008080; font-weight: bold\">25</span>,\n",
       "          <span style=\"color: #008080; text-decoration-color: #008080; font-weight: bold\">3717</span>,     <span style=\"color: #008080; text-decoration-color: #008080; font-weight: bold\">8</span>,   <span style=\"color: #008080; text-decoration-color: #008080; font-weight: bold\">567</span>,    <span style=\"color: #008080; text-decoration-color: #008080; font-weight: bold\">29</span>,  <span style=\"color: #008080; text-decoration-color: #008080; font-weight: bold\">3717</span>,   <span style=\"color: #008080; text-decoration-color: #008080; font-weight: bold\">507</span>,   <span style=\"color: #008080; text-decoration-color: #008080; font-weight: bold\">185</span>,   <span style=\"color: #008080; text-decoration-color: #008080; font-weight: bold\">315</span>,   <span style=\"color: #008080; text-decoration-color: #008080; font-weight: bold\">967</span>,   <span style=\"color: #008080; text-decoration-color: #008080; font-weight: bold\">245</span>,\n",
       "           <span style=\"color: #008080; text-decoration-color: #008080; font-weight: bold\">945</span>,   <span style=\"color: #008080; text-decoration-color: #008080; font-weight: bold\">270</span>,   <span style=\"color: #008080; text-decoration-color: #008080; font-weight: bold\">185</span>,    <span style=\"color: #008080; text-decoration-color: #008080; font-weight: bold\">92</span>,   <span style=\"color: #008080; text-decoration-color: #008080; font-weight: bold\">185</span>,   <span style=\"color: #008080; text-decoration-color: #008080; font-weight: bold\">185</span>, <span style=\"color: #008080; text-decoration-color: #008080; font-weight: bold\">16328</span>,  <span style=\"color: #008080; text-decoration-color: #008080; font-weight: bold\">4282</span>,    <span style=\"color: #008080; text-decoration-color: #008080; font-weight: bold\">82</span>,   <span style=\"color: #008080; text-decoration-color: #008080; font-weight: bold\">979</span>,\n",
       "          <span style=\"color: #008080; text-decoration-color: #008080; font-weight: bold\">5744</span>,    <span style=\"color: #008080; text-decoration-color: #008080; font-weight: bold\">13</span>,   <span style=\"color: #008080; text-decoration-color: #008080; font-weight: bold\">185</span>, <span style=\"color: #008080; text-decoration-color: #008080; font-weight: bold\">16328</span>,   <span style=\"color: #008080; text-decoration-color: #008080; font-weight: bold\">567</span>,  <span style=\"color: #008080; text-decoration-color: #008080; font-weight: bold\">3113</span>,  <span style=\"color: #008080; text-decoration-color: #008080; font-weight: bold\">5543</span>,   <span style=\"color: #008080; text-decoration-color: #008080; font-weight: bold\">245</span>,    <span style=\"color: #008080; text-decoration-color: #008080; font-weight: bold\">25</span>,   <span style=\"color: #008080; text-decoration-color: #008080; font-weight: bold\">428</span>,\n",
       "          <span style=\"color: #008080; text-decoration-color: #008080; font-weight: bold\">1019</span>,  <span style=\"color: #008080; text-decoration-color: #008080; font-weight: bold\">1594</span>,    <span style=\"color: #008080; text-decoration-color: #008080; font-weight: bold\">13</span>,   <span style=\"color: #008080; text-decoration-color: #008080; font-weight: bold\">185</span>, <span style=\"color: #008080; text-decoration-color: #008080; font-weight: bold\">16328</span>,   <span style=\"color: #008080; text-decoration-color: #008080; font-weight: bold\">567</span>,  <span style=\"color: #008080; text-decoration-color: #008080; font-weight: bold\">3113</span>,  <span style=\"color: #008080; text-decoration-color: #008080; font-weight: bold\">5543</span>,   <span style=\"color: #008080; text-decoration-color: #008080; font-weight: bold\">270</span>,    <span style=\"color: #008080; text-decoration-color: #008080; font-weight: bold\">25</span>,\n",
       "           <span style=\"color: #008080; text-decoration-color: #008080; font-weight: bold\">428</span>,  <span style=\"color: #008080; text-decoration-color: #008080; font-weight: bold\">1856</span>,  <span style=\"color: #008080; text-decoration-color: #008080; font-weight: bold\">1594</span>,    <span style=\"color: #008080; text-decoration-color: #008080; font-weight: bold\">13</span>,   <span style=\"color: #008080; text-decoration-color: #008080; font-weight: bold\">185</span>, <span style=\"color: #008080; text-decoration-color: #008080; font-weight: bold\">16328</span>,   <span style=\"color: #008080; text-decoration-color: #008080; font-weight: bold\">567</span>, <span style=\"color: #008080; text-decoration-color: #008080; font-weight: bold\">11570</span>,    <span style=\"color: #008080; text-decoration-color: #008080; font-weight: bold\">25</span>,   <span style=\"color: #008080; text-decoration-color: #008080; font-weight: bold\">428</span>,\n",
       "          <span style=\"color: #008080; text-decoration-color: #008080; font-weight: bold\">2545</span>,   <span style=\"color: #008080; text-decoration-color: #008080; font-weight: bold\">280</span>,   <span style=\"color: #008080; text-decoration-color: #008080; font-weight: bold\">245</span>,   <span style=\"color: #008080; text-decoration-color: #008080; font-weight: bold\">285</span>,   <span style=\"color: #008080; text-decoration-color: #008080; font-weight: bold\">270</span>,    <span style=\"color: #008080; text-decoration-color: #008080; font-weight: bold\">13</span>,   <span style=\"color: #008080; text-decoration-color: #008080; font-weight: bold\">185</span>,  <span style=\"color: #008080; text-decoration-color: #008080; font-weight: bold\">7312</span>,   <span style=\"color: #008080; text-decoration-color: #008080; font-weight: bold\">957</span>,  <span style=\"color: #008080; text-decoration-color: #008080; font-weight: bold\">9770</span>,\n",
       "           <span style=\"color: #008080; text-decoration-color: #008080; font-weight: bold\">245</span>,    <span style=\"color: #008080; text-decoration-color: #008080; font-weight: bold\">25</span>,  <span style=\"color: #008080; text-decoration-color: #008080; font-weight: bold\">3717</span>,    <span style=\"color: #008080; text-decoration-color: #008080; font-weight: bold\">11</span>,  <span style=\"color: #008080; text-decoration-color: #008080; font-weight: bold\">1070</span>,   <span style=\"color: #008080; text-decoration-color: #008080; font-weight: bold\">270</span>,    <span style=\"color: #008080; text-decoration-color: #008080; font-weight: bold\">25</span>,  <span style=\"color: #008080; text-decoration-color: #008080; font-weight: bold\">3717</span>,     <span style=\"color: #008080; text-decoration-color: #008080; font-weight: bold\">8</span>,   <span style=\"color: #008080; text-decoration-color: #008080; font-weight: bold\">567</span>,\n",
       "            <span style=\"color: #008080; text-decoration-color: #008080; font-weight: bold\">29</span>,  <span style=\"color: #008080; text-decoration-color: #008080; font-weight: bold\">3717</span>,   <span style=\"color: #008080; text-decoration-color: #008080; font-weight: bold\">507</span>,   <span style=\"color: #008080; text-decoration-color: #008080; font-weight: bold\">185</span>,   <span style=\"color: #008080; text-decoration-color: #008080; font-weight: bold\">315</span>,   <span style=\"color: #008080; text-decoration-color: #008080; font-weight: bold\">967</span>,   <span style=\"color: #008080; text-decoration-color: #008080; font-weight: bold\">245</span>,   <span style=\"color: #008080; text-decoration-color: #008080; font-weight: bold\">945</span>,   <span style=\"color: #008080; text-decoration-color: #008080; font-weight: bold\">270</span>,   <span style=\"color: #008080; text-decoration-color: #008080; font-weight: bold\">185</span>,\n",
       "            <span style=\"color: #008080; text-decoration-color: #008080; font-weight: bold\">92</span>,   <span style=\"color: #008080; text-decoration-color: #008080; font-weight: bold\">185</span>, <span style=\"color: #008080; text-decoration-color: #008080; font-weight: bold\">32014</span><span style=\"font-weight: bold\">]])</span>\n",
       "</pre>\n"
      ],
      "text/plain": [
       "\u001b[1;35mtensor\u001b[0m\u001b[1m(\u001b[0m\u001b[1m[\u001b[0m\u001b[1m[\u001b[0m\u001b[1;36m32013\u001b[0m,  \u001b[1;36m2042\u001b[0m,   \u001b[1;36m417\u001b[0m,  \u001b[1;36m3396\u001b[0m,   \u001b[1;36m272\u001b[0m,   \u001b[1;36m245\u001b[0m, \u001b[1;36m29142\u001b[0m,  \u001b[1;36m2974\u001b[0m,  \u001b[1;36m4907\u001b[0m,    \u001b[1;36m13\u001b[0m,\n",
       "           \u001b[1;36m185\u001b[0m, \u001b[1;36m17299\u001b[0m,   \u001b[1;36m245\u001b[0m,  \u001b[1;36m1155\u001b[0m,   \u001b[1;36m285\u001b[0m,   \u001b[1;36m245\u001b[0m,  \u001b[1;36m2567\u001b[0m,  \u001b[1;36m6413\u001b[0m,   \u001b[1;36m280\u001b[0m,  \u001b[1;36m1064\u001b[0m,\n",
       "           \u001b[1;36m285\u001b[0m,   \u001b[1;36m940\u001b[0m,   \u001b[1;36m359\u001b[0m,   \u001b[1;36m317\u001b[0m,  \u001b[1;36m1219\u001b[0m,    \u001b[1;36m11\u001b[0m,  \u001b[1;36m3697\u001b[0m,   \u001b[1;36m245\u001b[0m, \u001b[1;36m12175\u001b[0m,  \u001b[1;36m5273\u001b[0m,\n",
       "           \u001b[1;36m344\u001b[0m,  \u001b[1;36m6688\u001b[0m,  \u001b[1;36m3669\u001b[0m, \u001b[1;36m15833\u001b[0m,  \u001b[1;36m2569\u001b[0m,   \u001b[1;36m891\u001b[0m,  \u001b[1;36m5474\u001b[0m,    \u001b[1;36m13\u001b[0m,   \u001b[1;36m185\u001b[0m,  \u001b[1;36m9138\u001b[0m,\n",
       "          \u001b[1;36m3646\u001b[0m,    \u001b[1;36m12\u001b[0m,  \u001b[1;36m4410\u001b[0m, \u001b[1;36m29142\u001b[0m,  \u001b[1;36m6789\u001b[0m,    \u001b[1;36m13\u001b[0m,   \u001b[1;36m185\u001b[0m,   \u001b[1;36m769\u001b[0m,  \u001b[1;36m8049\u001b[0m,  \u001b[1;36m5164\u001b[0m,\n",
       "           \u001b[1;36m285\u001b[0m,   \u001b[1;36m967\u001b[0m, \u001b[1;36m23866\u001b[0m,    \u001b[1;36m11\u001b[0m,   \u001b[1;36m285\u001b[0m, \u001b[1;36m29184\u001b[0m,  \u001b[1;36m6701\u001b[0m,   \u001b[1;36m851\u001b[0m,  \u001b[1;36m9678\u001b[0m,    \u001b[1;36m13\u001b[0m,\n",
       "           \u001b[1;36m185\u001b[0m,  \u001b[1;36m8925\u001b[0m,   \u001b[1;36m885\u001b[0m,   \u001b[1;36m254\u001b[0m,  \u001b[1;36m5273\u001b[0m,   \u001b[1;36m285\u001b[0m,   \u001b[1;36m254\u001b[0m,  \u001b[1;36m1155\u001b[0m,    \u001b[1;36m13\u001b[0m,   \u001b[1;36m185\u001b[0m,\n",
       "          \u001b[1;36m7312\u001b[0m,   \u001b[1;36m957\u001b[0m,  \u001b[1;36m9770\u001b[0m,   \u001b[1;36m245\u001b[0m,    \u001b[1;36m25\u001b[0m,  \u001b[1;36m3717\u001b[0m,    \u001b[1;36m11\u001b[0m,  \u001b[1;36m1070\u001b[0m,   \u001b[1;36m270\u001b[0m,    \u001b[1;36m25\u001b[0m,\n",
       "          \u001b[1;36m3717\u001b[0m,     \u001b[1;36m8\u001b[0m,   \u001b[1;36m567\u001b[0m,    \u001b[1;36m29\u001b[0m,  \u001b[1;36m3717\u001b[0m,   \u001b[1;36m507\u001b[0m,   \u001b[1;36m185\u001b[0m,   \u001b[1;36m315\u001b[0m,   \u001b[1;36m967\u001b[0m,   \u001b[1;36m245\u001b[0m,\n",
       "           \u001b[1;36m945\u001b[0m,   \u001b[1;36m270\u001b[0m,   \u001b[1;36m185\u001b[0m,    \u001b[1;36m92\u001b[0m,   \u001b[1;36m185\u001b[0m,   \u001b[1;36m185\u001b[0m, \u001b[1;36m16328\u001b[0m,  \u001b[1;36m4282\u001b[0m,    \u001b[1;36m82\u001b[0m,   \u001b[1;36m979\u001b[0m,\n",
       "          \u001b[1;36m5744\u001b[0m,    \u001b[1;36m13\u001b[0m,   \u001b[1;36m185\u001b[0m, \u001b[1;36m16328\u001b[0m,   \u001b[1;36m567\u001b[0m,  \u001b[1;36m3113\u001b[0m,  \u001b[1;36m5543\u001b[0m,   \u001b[1;36m245\u001b[0m,    \u001b[1;36m25\u001b[0m,   \u001b[1;36m428\u001b[0m,\n",
       "          \u001b[1;36m1019\u001b[0m,  \u001b[1;36m1594\u001b[0m,    \u001b[1;36m13\u001b[0m,   \u001b[1;36m185\u001b[0m, \u001b[1;36m16328\u001b[0m,   \u001b[1;36m567\u001b[0m,  \u001b[1;36m3113\u001b[0m,  \u001b[1;36m5543\u001b[0m,   \u001b[1;36m270\u001b[0m,    \u001b[1;36m25\u001b[0m,\n",
       "           \u001b[1;36m428\u001b[0m,  \u001b[1;36m1856\u001b[0m,  \u001b[1;36m1594\u001b[0m,    \u001b[1;36m13\u001b[0m,   \u001b[1;36m185\u001b[0m, \u001b[1;36m16328\u001b[0m,   \u001b[1;36m567\u001b[0m, \u001b[1;36m11570\u001b[0m,    \u001b[1;36m25\u001b[0m,   \u001b[1;36m428\u001b[0m,\n",
       "          \u001b[1;36m2545\u001b[0m,   \u001b[1;36m280\u001b[0m,   \u001b[1;36m245\u001b[0m,   \u001b[1;36m285\u001b[0m,   \u001b[1;36m270\u001b[0m,    \u001b[1;36m13\u001b[0m,   \u001b[1;36m185\u001b[0m,  \u001b[1;36m7312\u001b[0m,   \u001b[1;36m957\u001b[0m,  \u001b[1;36m9770\u001b[0m,\n",
       "           \u001b[1;36m245\u001b[0m,    \u001b[1;36m25\u001b[0m,  \u001b[1;36m3717\u001b[0m,    \u001b[1;36m11\u001b[0m,  \u001b[1;36m1070\u001b[0m,   \u001b[1;36m270\u001b[0m,    \u001b[1;36m25\u001b[0m,  \u001b[1;36m3717\u001b[0m,     \u001b[1;36m8\u001b[0m,   \u001b[1;36m567\u001b[0m,\n",
       "            \u001b[1;36m29\u001b[0m,  \u001b[1;36m3717\u001b[0m,   \u001b[1;36m507\u001b[0m,   \u001b[1;36m185\u001b[0m,   \u001b[1;36m315\u001b[0m,   \u001b[1;36m967\u001b[0m,   \u001b[1;36m245\u001b[0m,   \u001b[1;36m945\u001b[0m,   \u001b[1;36m270\u001b[0m,   \u001b[1;36m185\u001b[0m,\n",
       "            \u001b[1;36m92\u001b[0m,   \u001b[1;36m185\u001b[0m, \u001b[1;36m32014\u001b[0m\u001b[1m]\u001b[0m\u001b[1m]\u001b[0m\u001b[1m)\u001b[0m\n"
      ]
     },
     "metadata": {},
     "output_type": "display_data"
    }
   ],
   "source": [
    "# promt = \"\"\"\n",
    "# You are a senior Swift developer.\n",
    "# Given a Swift function, generate a short, plain-language summary as a documentation comment using ///.\n",
    "# Keep the comment concise — just 1–2 sentences describing what the function does.\n",
    "# Return only the documentation and the original function.\n",
    "# It is very important that you only provide the final output without any additional comments or remarks\n",
    "# func median(of numbers: [Double]) -> Double? {\n",
    "#     guard !numbers.isEmpty else { return nil }\n",
    "#     let sorted = numbers.sorted()\n",
    "#     let mid = sorted.count / 2\n",
    "#     return sorted.count % 2 == 0\n",
    "#         ? (sorted[mid - 1] + sorted[mid]) / 2\n",
    "#         : sorted[mid]\n",
    "# }\n",
    "# \"\"\"\n",
    "\n",
    "# Лучшая версия promts\n",
    "promt = \"\"\"You are documenting a Swift codebase.\n",
    "Given a function and a short description of where and how it is used, write a documentation comment that helps future developers understand its purpose.\n",
    "Use ///-style Swift comments.\n",
    "Include parameter and return descriptions, and emphasize intent over implementation.\n",
    "Return only the comment and the function.\n",
    "func add(_ a: Int, _ b: Int) -> Int {\n",
    "    return a + b\n",
    "}\n",
    "\"\"\"\n",
    "\n",
    "print(model.generation_config)\n",
    "inputs = tokenizer(promt, return_tensors=\"pt\").to(device)\n",
    "outputs = model.generate(\n",
    "    **inputs,\n",
    "    max_new_tokens = 200,\n",
    "    eos_token_id=tokenizer.eos_token_id,\n",
    "    pad_token_id=tokenizer.eos_token_id,   # чтобы декодер не ругался\n",
    "    do_sample=True,\n",
    "    temperature=0.6,\n",
    "    top_p=0.95)\n",
    "\n",
    "print(outputs)"
   ]
  },
  {
   "cell_type": "code",
   "execution_count": 45,
   "id": "33f5c479",
   "metadata": {},
   "outputs": [
    {
     "data": {
      "text/html": [
       "<pre style=\"white-space:pre;overflow-x:auto;line-height:normal;font-family:Menlo,'DejaVu Sans Mono',consolas,'Courier New',monospace\"><span style=\"color: #008080; text-decoration-color: #008080; font-weight: bold\">95</span>\n",
       "</pre>\n"
      ],
      "text/plain": [
       "\u001b[1;36m95\u001b[0m\n"
      ]
     },
     "metadata": {},
     "output_type": "display_data"
    },
    {
     "data": {
      "text/html": [
       "<pre style=\"white-space:pre;overflow-x:auto;line-height:normal;font-family:Menlo,'DejaVu Sans Mono',consolas,'Courier New',monospace\"><span style=\"color: #800080; text-decoration-color: #800080; font-weight: bold\">tensor</span><span style=\"font-weight: bold\">([[</span>  <span style=\"color: #008080; text-decoration-color: #008080; font-weight: bold\">185</span>, <span style=\"color: #008080; text-decoration-color: #008080; font-weight: bold\">16328</span>,  <span style=\"color: #008080; text-decoration-color: #008080; font-weight: bold\">4282</span>,    <span style=\"color: #008080; text-decoration-color: #008080; font-weight: bold\">82</span>,   <span style=\"color: #008080; text-decoration-color: #008080; font-weight: bold\">979</span>,  <span style=\"color: #008080; text-decoration-color: #008080; font-weight: bold\">5744</span>,    <span style=\"color: #008080; text-decoration-color: #008080; font-weight: bold\">13</span>,   <span style=\"color: #008080; text-decoration-color: #008080; font-weight: bold\">185</span>, <span style=\"color: #008080; text-decoration-color: #008080; font-weight: bold\">16328</span>,   <span style=\"color: #008080; text-decoration-color: #008080; font-weight: bold\">567</span>,\n",
       "          <span style=\"color: #008080; text-decoration-color: #008080; font-weight: bold\">3113</span>,  <span style=\"color: #008080; text-decoration-color: #008080; font-weight: bold\">5543</span>,   <span style=\"color: #008080; text-decoration-color: #008080; font-weight: bold\">245</span>,    <span style=\"color: #008080; text-decoration-color: #008080; font-weight: bold\">25</span>,   <span style=\"color: #008080; text-decoration-color: #008080; font-weight: bold\">428</span>,  <span style=\"color: #008080; text-decoration-color: #008080; font-weight: bold\">1019</span>,  <span style=\"color: #008080; text-decoration-color: #008080; font-weight: bold\">1594</span>,    <span style=\"color: #008080; text-decoration-color: #008080; font-weight: bold\">13</span>,   <span style=\"color: #008080; text-decoration-color: #008080; font-weight: bold\">185</span>, <span style=\"color: #008080; text-decoration-color: #008080; font-weight: bold\">16328</span>,\n",
       "           <span style=\"color: #008080; text-decoration-color: #008080; font-weight: bold\">567</span>,  <span style=\"color: #008080; text-decoration-color: #008080; font-weight: bold\">3113</span>,  <span style=\"color: #008080; text-decoration-color: #008080; font-weight: bold\">5543</span>,   <span style=\"color: #008080; text-decoration-color: #008080; font-weight: bold\">270</span>,    <span style=\"color: #008080; text-decoration-color: #008080; font-weight: bold\">25</span>,   <span style=\"color: #008080; text-decoration-color: #008080; font-weight: bold\">428</span>,  <span style=\"color: #008080; text-decoration-color: #008080; font-weight: bold\">1856</span>,  <span style=\"color: #008080; text-decoration-color: #008080; font-weight: bold\">1594</span>,    <span style=\"color: #008080; text-decoration-color: #008080; font-weight: bold\">13</span>,   <span style=\"color: #008080; text-decoration-color: #008080; font-weight: bold\">185</span>,\n",
       "         <span style=\"color: #008080; text-decoration-color: #008080; font-weight: bold\">16328</span>,   <span style=\"color: #008080; text-decoration-color: #008080; font-weight: bold\">567</span>, <span style=\"color: #008080; text-decoration-color: #008080; font-weight: bold\">11570</span>,    <span style=\"color: #008080; text-decoration-color: #008080; font-weight: bold\">25</span>,   <span style=\"color: #008080; text-decoration-color: #008080; font-weight: bold\">428</span>,  <span style=\"color: #008080; text-decoration-color: #008080; font-weight: bold\">2545</span>,   <span style=\"color: #008080; text-decoration-color: #008080; font-weight: bold\">280</span>,   <span style=\"color: #008080; text-decoration-color: #008080; font-weight: bold\">245</span>,   <span style=\"color: #008080; text-decoration-color: #008080; font-weight: bold\">285</span>,   <span style=\"color: #008080; text-decoration-color: #008080; font-weight: bold\">270</span>,\n",
       "            <span style=\"color: #008080; text-decoration-color: #008080; font-weight: bold\">13</span>,   <span style=\"color: #008080; text-decoration-color: #008080; font-weight: bold\">185</span>,  <span style=\"color: #008080; text-decoration-color: #008080; font-weight: bold\">7312</span>,   <span style=\"color: #008080; text-decoration-color: #008080; font-weight: bold\">957</span>,  <span style=\"color: #008080; text-decoration-color: #008080; font-weight: bold\">9770</span>,   <span style=\"color: #008080; text-decoration-color: #008080; font-weight: bold\">245</span>,    <span style=\"color: #008080; text-decoration-color: #008080; font-weight: bold\">25</span>,  <span style=\"color: #008080; text-decoration-color: #008080; font-weight: bold\">3717</span>,    <span style=\"color: #008080; text-decoration-color: #008080; font-weight: bold\">11</span>,  <span style=\"color: #008080; text-decoration-color: #008080; font-weight: bold\">1070</span>,\n",
       "           <span style=\"color: #008080; text-decoration-color: #008080; font-weight: bold\">270</span>,    <span style=\"color: #008080; text-decoration-color: #008080; font-weight: bold\">25</span>,  <span style=\"color: #008080; text-decoration-color: #008080; font-weight: bold\">3717</span>,     <span style=\"color: #008080; text-decoration-color: #008080; font-weight: bold\">8</span>,   <span style=\"color: #008080; text-decoration-color: #008080; font-weight: bold\">567</span>,    <span style=\"color: #008080; text-decoration-color: #008080; font-weight: bold\">29</span>,  <span style=\"color: #008080; text-decoration-color: #008080; font-weight: bold\">3717</span>,   <span style=\"color: #008080; text-decoration-color: #008080; font-weight: bold\">507</span>,   <span style=\"color: #008080; text-decoration-color: #008080; font-weight: bold\">185</span>,   <span style=\"color: #008080; text-decoration-color: #008080; font-weight: bold\">315</span>,\n",
       "           <span style=\"color: #008080; text-decoration-color: #008080; font-weight: bold\">967</span>,   <span style=\"color: #008080; text-decoration-color: #008080; font-weight: bold\">245</span>,   <span style=\"color: #008080; text-decoration-color: #008080; font-weight: bold\">945</span>,   <span style=\"color: #008080; text-decoration-color: #008080; font-weight: bold\">270</span>,   <span style=\"color: #008080; text-decoration-color: #008080; font-weight: bold\">185</span>,    <span style=\"color: #008080; text-decoration-color: #008080; font-weight: bold\">92</span>,   <span style=\"color: #008080; text-decoration-color: #008080; font-weight: bold\">185</span>, <span style=\"color: #008080; text-decoration-color: #008080; font-weight: bold\">32014</span><span style=\"font-weight: bold\">]])</span>\n",
       "</pre>\n"
      ],
      "text/plain": [
       "\u001b[1;35mtensor\u001b[0m\u001b[1m(\u001b[0m\u001b[1m[\u001b[0m\u001b[1m[\u001b[0m  \u001b[1;36m185\u001b[0m, \u001b[1;36m16328\u001b[0m,  \u001b[1;36m4282\u001b[0m,    \u001b[1;36m82\u001b[0m,   \u001b[1;36m979\u001b[0m,  \u001b[1;36m5744\u001b[0m,    \u001b[1;36m13\u001b[0m,   \u001b[1;36m185\u001b[0m, \u001b[1;36m16328\u001b[0m,   \u001b[1;36m567\u001b[0m,\n",
       "          \u001b[1;36m3113\u001b[0m,  \u001b[1;36m5543\u001b[0m,   \u001b[1;36m245\u001b[0m,    \u001b[1;36m25\u001b[0m,   \u001b[1;36m428\u001b[0m,  \u001b[1;36m1019\u001b[0m,  \u001b[1;36m1594\u001b[0m,    \u001b[1;36m13\u001b[0m,   \u001b[1;36m185\u001b[0m, \u001b[1;36m16328\u001b[0m,\n",
       "           \u001b[1;36m567\u001b[0m,  \u001b[1;36m3113\u001b[0m,  \u001b[1;36m5543\u001b[0m,   \u001b[1;36m270\u001b[0m,    \u001b[1;36m25\u001b[0m,   \u001b[1;36m428\u001b[0m,  \u001b[1;36m1856\u001b[0m,  \u001b[1;36m1594\u001b[0m,    \u001b[1;36m13\u001b[0m,   \u001b[1;36m185\u001b[0m,\n",
       "         \u001b[1;36m16328\u001b[0m,   \u001b[1;36m567\u001b[0m, \u001b[1;36m11570\u001b[0m,    \u001b[1;36m25\u001b[0m,   \u001b[1;36m428\u001b[0m,  \u001b[1;36m2545\u001b[0m,   \u001b[1;36m280\u001b[0m,   \u001b[1;36m245\u001b[0m,   \u001b[1;36m285\u001b[0m,   \u001b[1;36m270\u001b[0m,\n",
       "            \u001b[1;36m13\u001b[0m,   \u001b[1;36m185\u001b[0m,  \u001b[1;36m7312\u001b[0m,   \u001b[1;36m957\u001b[0m,  \u001b[1;36m9770\u001b[0m,   \u001b[1;36m245\u001b[0m,    \u001b[1;36m25\u001b[0m,  \u001b[1;36m3717\u001b[0m,    \u001b[1;36m11\u001b[0m,  \u001b[1;36m1070\u001b[0m,\n",
       "           \u001b[1;36m270\u001b[0m,    \u001b[1;36m25\u001b[0m,  \u001b[1;36m3717\u001b[0m,     \u001b[1;36m8\u001b[0m,   \u001b[1;36m567\u001b[0m,    \u001b[1;36m29\u001b[0m,  \u001b[1;36m3717\u001b[0m,   \u001b[1;36m507\u001b[0m,   \u001b[1;36m185\u001b[0m,   \u001b[1;36m315\u001b[0m,\n",
       "           \u001b[1;36m967\u001b[0m,   \u001b[1;36m245\u001b[0m,   \u001b[1;36m945\u001b[0m,   \u001b[1;36m270\u001b[0m,   \u001b[1;36m185\u001b[0m,    \u001b[1;36m92\u001b[0m,   \u001b[1;36m185\u001b[0m, \u001b[1;36m32014\u001b[0m\u001b[1m]\u001b[0m\u001b[1m]\u001b[0m\u001b[1m)\u001b[0m\n"
      ]
     },
     "metadata": {},
     "output_type": "display_data"
    },
    {
     "data": {
      "text/html": [
       "<pre style=\"white-space:pre;overflow-x:auto;line-height:normal;font-family:Menlo,'DejaVu Sans Mono',consolas,'Courier New',monospace\">Predict: \n",
       " \n",
       "<span style=\"color: #800080; text-decoration-color: #800080\">///</span> Adds two numbers.\n",
       "<span style=\"color: #800080; text-decoration-color: #800080\">///</span> - Parameter a: The first number.\n",
       "<span style=\"color: #800080; text-decoration-color: #800080\">///</span> - Parameter b: The second number.\n",
       "<span style=\"color: #800080; text-decoration-color: #800080\">///</span> - Returns: The sum of a and b.\n",
       "func <span style=\"color: #800080; text-decoration-color: #800080; font-weight: bold\">add</span><span style=\"font-weight: bold\">(</span>_ a: Int, _ b: Int<span style=\"font-weight: bold\">)</span> -&gt; Int <span style=\"font-weight: bold\">{</span>\n",
       "    return a + b\n",
       "<span style=\"font-weight: bold\">}</span>\n",
       "\n",
       "</pre>\n"
      ],
      "text/plain": [
       "Predict: \n",
       " \n",
       "\u001b[35m/\u001b[0m\u001b[35m/\u001b[0m\u001b[35m/\u001b[0m Adds two numbers.\n",
       "\u001b[35m/\u001b[0m\u001b[35m/\u001b[0m\u001b[35m/\u001b[0m - Parameter a: The first number.\n",
       "\u001b[35m/\u001b[0m\u001b[35m/\u001b[0m\u001b[35m/\u001b[0m - Parameter b: The second number.\n",
       "\u001b[35m/\u001b[0m\u001b[35m/\u001b[0m\u001b[35m/\u001b[0m - Returns: The sum of a and b.\n",
       "func \u001b[1;35madd\u001b[0m\u001b[1m(\u001b[0m_ a: Int, _ b: Int\u001b[1m)\u001b[0m -> Int \u001b[1m{\u001b[0m\n",
       "    return a + b\n",
       "\u001b[1m}\u001b[0m\n",
       "\n"
      ]
     },
     "metadata": {},
     "output_type": "display_data"
    }
   ],
   "source": [
    "# Получаем длины исходных входов\n",
    "input_lengths = inputs['input_ids'].shape[1]\n",
    "print(input_lengths)\n",
    "# Убираем токены prompt'а\n",
    "generated_tokens = outputs[:, input_lengths:]\n",
    "print(generated_tokens)\n",
    "# Декодируем только новые токены\n",
    "predictions = tokenizer.batch_decode(generated_tokens, skip_special_tokens=True)\n",
    "\n",
    "for predict in predictions:\n",
    "    print(\"Predict: \\n\", predict)"
   ]
  },
  {
   "cell_type": "code",
   "execution_count": 46,
   "id": "614d6685",
   "metadata": {},
   "outputs": [
    {
     "data": {
      "text/html": [
       "<pre style=\"white-space:pre;overflow-x:auto;line-height:normal;font-family:Menlo,'DejaVu Sans Mono',consolas,'Courier New',monospace\"><span style=\"color: #800080; text-decoration-color: #800080; font-weight: bold\">torch.Size</span><span style=\"font-weight: bold\">([</span><span style=\"color: #008080; text-decoration-color: #008080; font-weight: bold\">1</span>, <span style=\"color: #008080; text-decoration-color: #008080; font-weight: bold\">163</span><span style=\"font-weight: bold\">])</span>\n",
       "</pre>\n"
      ],
      "text/plain": [
       "\u001b[1;35mtorch.Size\u001b[0m\u001b[1m(\u001b[0m\u001b[1m[\u001b[0m\u001b[1;36m1\u001b[0m, \u001b[1;36m163\u001b[0m\u001b[1m]\u001b[0m\u001b[1m)\u001b[0m\n"
      ]
     },
     "metadata": {},
     "output_type": "display_data"
    }
   ],
   "source": [
    "print(outputs.shape)"
   ]
  },
  {
   "cell_type": "code",
   "execution_count": 47,
   "id": "df70cdc4",
   "metadata": {},
   "outputs": [
    {
     "name": "stderr",
     "output_type": "stream",
     "text": [
      "100%|██████████| 6/6 [02:37<00:00, 26.27s/it]\n"
     ]
    }
   ],
   "source": [
    "predictions = []\n",
    "\n",
    "for input in tqdm(ds_test[\"input\"]):\n",
    "    promt = f\"\"\"You are documenting a Swift codebase.\n",
    "Given a function and a short description of where and how it is used, write a documentation comment that helps future developers understand its purpose.\n",
    "Use ///-style Swift comments.\n",
    "Include parameter and return descriptions, and emphasize intent over implementation.\n",
    "Return only the comment and the function.\n",
    "{input}\n",
    "    \"\"\"\n",
    "    inputs = tokenizer(promt, return_tensors=\"pt\").to(device)\n",
    "    outputs = model.generate(\n",
    "        **inputs,\n",
    "        max_new_tokens = 200,\n",
    "        eos_token_id=tokenizer.eos_token_id,\n",
    "        pad_token_id=tokenizer.eos_token_id,   # чтобы декодер не ругался\n",
    "        do_sample=True,\n",
    "        temperature=0.7,\n",
    "        top_p=0.95)\n",
    "    input_lengths = inputs.input_ids.shape[1]\n",
    "    generated_tokens = outputs[:, input_lengths:]\n",
    "    result = tokenizer.batch_decode(generated_tokens, skip_special_tokens=True)\n",
    "    predictions.append(result[0])"
   ]
  },
  {
   "cell_type": "code",
   "execution_count": 50,
   "id": "977c98e3",
   "metadata": {},
   "outputs": [
    {
     "data": {
      "text/html": [
       "<pre style=\"white-space:pre;overflow-x:auto;line-height:normal;font-family:Menlo,'DejaVu Sans Mono',consolas,'Courier New',monospace\"><span style=\"color: #008000; text-decoration-color: #008000; font-weight: bold\"> Predict </span>\n",
       "</pre>\n"
      ],
      "text/plain": [
       "\u001b[1;32m Predict \u001b[0m\n"
      ]
     },
     "metadata": {},
     "output_type": "display_data"
    },
    {
     "data": {
      "text/html": [
       "<pre style=\"white-space:pre;overflow-x:auto;line-height:normal;font-family:Menlo,'DejaVu Sans Mono',consolas,'Courier New',monospace\">\n",
       "    \n",
       "<span style=\"color: #800080; text-decoration-color: #800080\">/</span>**\n",
       " Returns a random element from an array of strings.\n",
       " @param array - An array of strings.\n",
       " @returns A random element from the array.\n",
       " *<span style=\"color: #800080; text-decoration-color: #800080\">/</span>\n",
       "func <span style=\"color: #800080; text-decoration-color: #800080; font-weight: bold\">randomElementFromStringArray</span><span style=\"font-weight: bold\">(</span>_ array: <span style=\"font-weight: bold\">[</span>String<span style=\"font-weight: bold\">])</span> -&gt; String? <span style=\"font-weight: bold\">{</span>\n",
       "    return <span style=\"color: #800080; text-decoration-color: #800080; font-weight: bold\">array.randomElement</span><span style=\"font-weight: bold\">()</span>\n",
       "<span style=\"font-weight: bold\">}</span>\n",
       "\n",
       "\n",
       "\n",
       "\n",
       "\n",
       "\n",
       "\n",
       "</pre>\n"
      ],
      "text/plain": [
       "\n",
       "    \n",
       "\u001b[35m/\u001b[0m**\n",
       " Returns a random element from an array of strings.\n",
       " @param array - An array of strings.\n",
       " @returns A random element from the array.\n",
       " *\u001b[35m/\u001b[0m\n",
       "func \u001b[1;35mrandomElementFromStringArray\u001b[0m\u001b[1m(\u001b[0m_ array: \u001b[1m[\u001b[0mString\u001b[1m]\u001b[0m\u001b[1m)\u001b[0m -> String? \u001b[1m{\u001b[0m\n",
       "    return \u001b[1;35marray.randomElement\u001b[0m\u001b[1m(\u001b[0m\u001b[1m)\u001b[0m\n",
       "\u001b[1m}\u001b[0m\n",
       "\n",
       "\n",
       "\n",
       "\n",
       "\n",
       "\n",
       "\n"
      ]
     },
     "metadata": {},
     "output_type": "display_data"
    },
    {
     "data": {
      "text/html": [
       "<pre style=\"white-space:pre;overflow-x:auto;line-height:normal;font-family:Menlo,'DejaVu Sans Mono',consolas,'Courier New',monospace\"><span style=\"color: #008000; text-decoration-color: #008000; font-weight: bold\"> Predict </span>\n",
       "</pre>\n"
      ],
      "text/plain": [
       "\u001b[1;32m Predict \u001b[0m\n"
      ]
     },
     "metadata": {},
     "output_type": "display_data"
    },
    {
     "data": {
      "text/html": [
       "<pre style=\"white-space:pre;overflow-x:auto;line-height:normal;font-family:Menlo,'DejaVu Sans Mono',consolas,'Courier New',monospace\">\n",
       "<span style=\"color: #800080; text-decoration-color: #800080\">//</span> Returns the square root of a number.\n",
       "<span style=\"color: #800080; text-decoration-color: #800080\">//</span>\n",
       "<span style=\"color: #800080; text-decoration-color: #800080\">//</span> - number: The number to take the square root of.\n",
       "<span style=\"color: #800080; text-decoration-color: #800080\">//</span> - returns: The square root of `number`.\n",
       "func <span style=\"color: #800080; text-decoration-color: #800080; font-weight: bold\">squareRoot</span><span style=\"font-weight: bold\">(</span>of number: Double<span style=\"font-weight: bold\">)</span> -&gt; Double <span style=\"font-weight: bold\">{</span>\n",
       "    return <span style=\"color: #800080; text-decoration-color: #800080; font-weight: bold\">sqrt</span><span style=\"font-weight: bold\">(</span>number<span style=\"font-weight: bold\">)</span>\n",
       "<span style=\"font-weight: bold\">}</span>\n",
       "\n",
       "\n",
       "\n",
       "</pre>\n"
      ],
      "text/plain": [
       "\n",
       "\u001b[35m/\u001b[0m\u001b[35m/\u001b[0m Returns the square root of a number.\n",
       "\u001b[35m/\u001b[0m\u001b[35m/\u001b[0m\n",
       "\u001b[35m/\u001b[0m\u001b[35m/\u001b[0m - number: The number to take the square root of.\n",
       "\u001b[35m/\u001b[0m\u001b[35m/\u001b[0m - returns: The square root of `number`.\n",
       "func \u001b[1;35msquareRoot\u001b[0m\u001b[1m(\u001b[0mof number: Double\u001b[1m)\u001b[0m -> Double \u001b[1m{\u001b[0m\n",
       "    return \u001b[1;35msqrt\u001b[0m\u001b[1m(\u001b[0mnumber\u001b[1m)\u001b[0m\n",
       "\u001b[1m}\u001b[0m\n",
       "\n",
       "\n",
       "\n"
      ]
     },
     "metadata": {},
     "output_type": "display_data"
    },
    {
     "data": {
      "text/html": [
       "<pre style=\"white-space:pre;overflow-x:auto;line-height:normal;font-family:Menlo,'DejaVu Sans Mono',consolas,'Courier New',monospace\"><span style=\"color: #008000; text-decoration-color: #008000; font-weight: bold\"> Predict </span>\n",
       "</pre>\n"
      ],
      "text/plain": [
       "\u001b[1;32m Predict \u001b[0m\n"
      ]
     },
     "metadata": {},
     "output_type": "display_data"
    },
    {
     "data": {
      "text/html": [
       "<pre style=\"white-space:pre;overflow-x:auto;line-height:normal;font-family:Menlo,'DejaVu Sans Mono',consolas,'Courier New',monospace\">\n",
       "<span style=\"color: #800080; text-decoration-color: #800080\">///</span> Returns a `Bool` indicating whether `array` is a palindrome.\n",
       "<span style=\"color: #800080; text-decoration-color: #800080\">///</span> \n",
       "<span style=\"color: #800080; text-decoration-color: #800080\">///</span> - Parameter array: An array of values of the same type.\n",
       "<span style=\"color: #800080; text-decoration-color: #800080\">///</span> - Return Value: `true` if `array` is a palindrome, `false` otherwise.\n",
       "func isPalindrome<span style=\"font-weight: bold\">&lt;</span><span style=\"color: #ff00ff; text-decoration-color: #ff00ff; font-weight: bold\">T:</span><span style=\"color: #000000; text-decoration-color: #000000\"> Equatable&gt;</span><span style=\"color: #000000; text-decoration-color: #000000; font-weight: bold\">(</span><span style=\"color: #000000; text-decoration-color: #000000\">_ array: </span><span style=\"color: #000000; text-decoration-color: #000000; font-weight: bold\">[</span><span style=\"color: #000000; text-decoration-color: #000000\">T</span><span style=\"color: #000000; text-decoration-color: #000000; font-weight: bold\">])</span><span style=\"color: #000000; text-decoration-color: #000000\"> -</span><span style=\"font-weight: bold\">&gt;</span> Bool <span style=\"font-weight: bold\">{</span>\n",
       "    return array == <span style=\"color: #800080; text-decoration-color: #800080; font-weight: bold\">array.reversed</span><span style=\"font-weight: bold\">()</span>\n",
       "<span style=\"font-weight: bold\">}</span>\n",
       "\n",
       "</pre>\n"
      ],
      "text/plain": [
       "\n",
       "\u001b[35m/\u001b[0m\u001b[35m/\u001b[0m\u001b[35m/\u001b[0m Returns a `Bool` indicating whether `array` is a palindrome.\n",
       "\u001b[35m/\u001b[0m\u001b[35m/\u001b[0m\u001b[35m/\u001b[0m \n",
       "\u001b[35m/\u001b[0m\u001b[35m/\u001b[0m\u001b[35m/\u001b[0m - Parameter array: An array of values of the same type.\n",
       "\u001b[35m/\u001b[0m\u001b[35m/\u001b[0m\u001b[35m/\u001b[0m - Return Value: `true` if `array` is a palindrome, `false` otherwise.\n",
       "func isPalindrome\u001b[1m<\u001b[0m\u001b[1;95mT:\u001b[0m\u001b[39m Equatable>\u001b[0m\u001b[1;39m(\u001b[0m\u001b[39m_ array: \u001b[0m\u001b[1;39m[\u001b[0m\u001b[39mT\u001b[0m\u001b[1;39m]\u001b[0m\u001b[1;39m)\u001b[0m\u001b[39m -\u001b[0m\u001b[1m>\u001b[0m Bool \u001b[1m{\u001b[0m\n",
       "    return array == \u001b[1;35marray.reversed\u001b[0m\u001b[1m(\u001b[0m\u001b[1m)\u001b[0m\n",
       "\u001b[1m}\u001b[0m\n",
       "\n"
      ]
     },
     "metadata": {},
     "output_type": "display_data"
    },
    {
     "data": {
      "text/html": [
       "<pre style=\"white-space:pre;overflow-x:auto;line-height:normal;font-family:Menlo,'DejaVu Sans Mono',consolas,'Courier New',monospace\"><span style=\"color: #008000; text-decoration-color: #008000; font-weight: bold\"> Predict </span>\n",
       "</pre>\n"
      ],
      "text/plain": [
       "\u001b[1;32m Predict \u001b[0m\n"
      ]
     },
     "metadata": {},
     "output_type": "display_data"
    },
    {
     "data": {
      "text/html": [
       "<pre style=\"white-space:pre;overflow-x:auto;line-height:normal;font-family:Menlo,'DejaVu Sans Mono',consolas,'Courier New',monospace\">\n",
       "<span style=\"color: #800080; text-decoration-color: #800080\">/////</span>\n",
       "<span style=\"color: #800080; text-decoration-color: #800080\">//</span> Checks if a given email address is valid.\n",
       "<span style=\"color: #800080; text-decoration-color: #800080\">//</span>\n",
       "<span style=\"color: #800080; text-decoration-color: #800080\">//</span> - Parameter email: The email address to check.\n",
       "<span style=\"color: #800080; text-decoration-color: #800080\">//</span> - Returns: `true` if the email address is valid, `false` otherwise.\n",
       "func <span style=\"color: #800080; text-decoration-color: #800080; font-weight: bold\">isValidEmail</span><span style=\"font-weight: bold\">(</span>email: String<span style=\"font-weight: bold\">)</span> -&gt; Bool <span style=\"font-weight: bold\">{</span>\n",
       "    let pattern = <span style=\"color: #008000; text-decoration-color: #008000\">\"^[A-Z0-9._%+-]+@[A-Z0-9.-]+\\\\.[A-Z]{2,}$\"</span>\n",
       "    let regex = try? <span style=\"color: #800080; text-decoration-color: #800080; font-weight: bold\">NSRegularExpression</span><span style=\"font-weight: bold\">(</span>pattern: pattern, options: .caseInsensitive<span style=\"font-weight: bold\">)</span>\n",
       "    return regex?<span style=\"color: #800080; text-decoration-color: #800080; font-weight: bold\">.firstMatch</span><span style=\"font-weight: bold\">(</span>in: email, options: <span style=\"font-weight: bold\">[]</span>, range: <span style=\"color: #800080; text-decoration-color: #800080; font-weight: bold\">NSRange</span><span style=\"font-weight: bold\">(</span>location: <span style=\"color: #008080; text-decoration-color: #008080; font-weight: bold\">0</span>, length: email.utf16.count<span style=\"font-weight: bold\">))</span> != nil\n",
       "<span style=\"font-weight: bold\">}</span>\n",
       "\n",
       "</pre>\n"
      ],
      "text/plain": [
       "\n",
       "\u001b[35m/\u001b[0m\u001b[35m/\u001b[0m\u001b[35m/\u001b[0m\u001b[35m/\u001b[0m\u001b[35m/\u001b[0m\n",
       "\u001b[35m/\u001b[0m\u001b[35m/\u001b[0m Checks if a given email address is valid.\n",
       "\u001b[35m/\u001b[0m\u001b[35m/\u001b[0m\n",
       "\u001b[35m/\u001b[0m\u001b[35m/\u001b[0m - Parameter email: The email address to check.\n",
       "\u001b[35m/\u001b[0m\u001b[35m/\u001b[0m - Returns: `true` if the email address is valid, `false` otherwise.\n",
       "func \u001b[1;35misValidEmail\u001b[0m\u001b[1m(\u001b[0memail: String\u001b[1m)\u001b[0m -> Bool \u001b[1m{\u001b[0m\n",
       "    let pattern = \u001b[32m\"^\u001b[0m\u001b[32m[\u001b[0m\u001b[32mA-Z0-9._%+-\u001b[0m\u001b[32m]\u001b[0m\u001b[32m+@\u001b[0m\u001b[32m[\u001b[0m\u001b[32mA-Z0-9.-\u001b[0m\u001b[32m]\u001b[0m\u001b[32m+\\\\.\u001b[0m\u001b[32m[\u001b[0m\u001b[32mA-Z\u001b[0m\u001b[32m]\u001b[0m\u001b[32m{\u001b[0m\u001b[32m2,\u001b[0m\u001b[32m}\u001b[0m\u001b[32m$\"\u001b[0m\n",
       "    let regex = try? \u001b[1;35mNSRegularExpression\u001b[0m\u001b[1m(\u001b[0mpattern: pattern, options: .caseInsensitive\u001b[1m)\u001b[0m\n",
       "    return regex?\u001b[1;35m.firstMatch\u001b[0m\u001b[1m(\u001b[0min: email, options: \u001b[1m[\u001b[0m\u001b[1m]\u001b[0m, range: \u001b[1;35mNSRange\u001b[0m\u001b[1m(\u001b[0mlocation: \u001b[1;36m0\u001b[0m, length: email.utf16.count\u001b[1m)\u001b[0m\u001b[1m)\u001b[0m != nil\n",
       "\u001b[1m}\u001b[0m\n",
       "\n"
      ]
     },
     "metadata": {},
     "output_type": "display_data"
    },
    {
     "data": {
      "text/html": [
       "<pre style=\"white-space:pre;overflow-x:auto;line-height:normal;font-family:Menlo,'DejaVu Sans Mono',consolas,'Courier New',monospace\"><span style=\"color: #008000; text-decoration-color: #008000; font-weight: bold\"> Predict </span>\n",
       "</pre>\n"
      ],
      "text/plain": [
       "\u001b[1;32m Predict \u001b[0m\n"
      ]
     },
     "metadata": {},
     "output_type": "display_data"
    },
    {
     "data": {
      "text/html": [
       "<pre style=\"white-space:pre;overflow-x:auto;line-height:normal;font-family:Menlo,'DejaVu Sans Mono',consolas,'Courier New',monospace\">\n",
       "<span style=\"color: #800080; text-decoration-color: #800080\">//</span> <span style=\"color: #800080; text-decoration-color: #800080\">///</span> Adds the digits of a number.\n",
       "<span style=\"color: #800080; text-decoration-color: #800080\">//</span> <span style=\"color: #800080; text-decoration-color: #800080\">///</span> - Parameter number: The number to add the digits of.\n",
       "<span style=\"color: #800080; text-decoration-color: #800080\">//</span> <span style=\"color: #800080; text-decoration-color: #800080\">///</span> - Returns: The sum of the digits of number.\n",
       "<span style=\"color: #800080; text-decoration-color: #800080\">//</span> func <span style=\"color: #800080; text-decoration-color: #800080; font-weight: bold\">sumOfDigits</span><span style=\"font-weight: bold\">(</span>_ number: Int<span style=\"font-weight: bold\">)</span> -&gt; Int <span style=\"font-weight: bold\">{</span>\n",
       "<span style=\"color: #800080; text-decoration-color: #800080\">//</span>     return <span style=\"color: #800080; text-decoration-color: #800080; font-weight: bold\">String</span><span style=\"font-weight: bold\">(</span>number<span style=\"font-weight: bold\">)</span>.compactMap <span style=\"font-weight: bold\">{</span> <span style=\"color: #800080; text-decoration-color: #800080; font-weight: bold\">Int</span><span style=\"font-weight: bold\">(</span><span style=\"color: #800080; text-decoration-color: #800080; font-weight: bold\">String</span><span style=\"font-weight: bold\">(</span>$<span style=\"color: #008080; text-decoration-color: #008080; font-weight: bold\">0</span><span style=\"font-weight: bold\">))</span> <span style=\"font-weight: bold\">}</span><span style=\"color: #800080; text-decoration-color: #800080; font-weight: bold\">.reduce</span><span style=\"font-weight: bold\">(</span><span style=\"color: #008080; text-decoration-color: #008080; font-weight: bold\">0</span>, +<span style=\"font-weight: bold\">)</span>\n",
       "<span style=\"color: #800080; text-decoration-color: #800080\">//</span> <span style=\"font-weight: bold\">}</span>\n",
       "\n",
       "func <span style=\"color: #800080; text-decoration-color: #800080; font-weight: bold\">sumOfDigits</span><span style=\"font-weight: bold\">(</span>_ number: Int<span style=\"font-weight: bold\">)</span> -&gt; Int <span style=\"font-weight: bold\">{</span>\n",
       "    return <span style=\"color: #800080; text-decoration-color: #800080; font-weight: bold\">String</span><span style=\"font-weight: bold\">(</span>number<span style=\"font-weight: bold\">)</span>.compactMap <span style=\"font-weight: bold\">{</span> <span style=\"color: #800080; text-decoration-color: #800080; font-weight: bold\">Int</span><span style=\"font-weight: bold\">(</span><span style=\"color: #800080; text-decoration-color: #800080; font-weight: bold\">String</span><span style=\"font-weight: bold\">(</span>$<span style=\"color: #008080; text-decoration-color: #008080; font-weight: bold\">0</span><span style=\"font-weight: bold\">))</span> <span style=\"font-weight: bold\">}</span><span style=\"color: #800080; text-decoration-color: #800080; font-weight: bold\">.reduce</span><span style=\"font-weight: bold\">(</span><span style=\"color: #008080; text-decoration-color: #008080; font-weight: bold\">0</span>, +<span style=\"font-weight: bold\">)</span>\n",
       "<span style=\"font-weight: bold\">}</span>\n",
       "\n",
       "<span style=\"color: #800080; text-decoration-color: #800080\">//</span> <span style=\"color: #800080; text-decoration-color: #800080\">///</span> Adds the digits of a number.\n",
       "<span style=\"color: #800080; text-decoration-color: #800080\">//</span> <span style=\"color: #800080; text-decoration-color: #800080\">///</span> - Parameter number: The number to add the digits of.\n",
       "<span style=\"color: #800080; text-decoration-color: #800080\">//</span> <span style=\"color: #800080; text-decoration-color: #800080\">///</span> - Returns: The sum of the digits of number.\n",
       "<span style=\"color: #800080; text-decoration-color: #800080\">//</span> func <span style=\"color: #800080; text-decoration-color: #800080; font-weight: bold\">sumOfDigits</span><span style=\"font-weight: bold\">(</span>_ number: Int<span style=\"font-weight: bold\">)</span> -&gt; Int <span style=\"font-weight: bold\">{</span>\n",
       "<span style=\"color: #800080; text-decoration-color: #800080\">//</span>     return String\n",
       "</pre>\n"
      ],
      "text/plain": [
       "\n",
       "\u001b[35m/\u001b[0m\u001b[35m/\u001b[0m \u001b[35m/\u001b[0m\u001b[35m/\u001b[0m\u001b[35m/\u001b[0m Adds the digits of a number.\n",
       "\u001b[35m/\u001b[0m\u001b[35m/\u001b[0m \u001b[35m/\u001b[0m\u001b[35m/\u001b[0m\u001b[35m/\u001b[0m - Parameter number: The number to add the digits of.\n",
       "\u001b[35m/\u001b[0m\u001b[35m/\u001b[0m \u001b[35m/\u001b[0m\u001b[35m/\u001b[0m\u001b[35m/\u001b[0m - Returns: The sum of the digits of number.\n",
       "\u001b[35m/\u001b[0m\u001b[35m/\u001b[0m func \u001b[1;35msumOfDigits\u001b[0m\u001b[1m(\u001b[0m_ number: Int\u001b[1m)\u001b[0m -> Int \u001b[1m{\u001b[0m\n",
       "\u001b[35m/\u001b[0m\u001b[35m/\u001b[0m     return \u001b[1;35mString\u001b[0m\u001b[1m(\u001b[0mnumber\u001b[1m)\u001b[0m.compactMap \u001b[1m{\u001b[0m \u001b[1;35mInt\u001b[0m\u001b[1m(\u001b[0m\u001b[1;35mString\u001b[0m\u001b[1m(\u001b[0m$\u001b[1;36m0\u001b[0m\u001b[1m)\u001b[0m\u001b[1m)\u001b[0m \u001b[1m}\u001b[0m\u001b[1;35m.reduce\u001b[0m\u001b[1m(\u001b[0m\u001b[1;36m0\u001b[0m, +\u001b[1m)\u001b[0m\n",
       "\u001b[35m/\u001b[0m\u001b[35m/\u001b[0m \u001b[1m}\u001b[0m\n",
       "\n",
       "func \u001b[1;35msumOfDigits\u001b[0m\u001b[1m(\u001b[0m_ number: Int\u001b[1m)\u001b[0m -> Int \u001b[1m{\u001b[0m\n",
       "    return \u001b[1;35mString\u001b[0m\u001b[1m(\u001b[0mnumber\u001b[1m)\u001b[0m.compactMap \u001b[1m{\u001b[0m \u001b[1;35mInt\u001b[0m\u001b[1m(\u001b[0m\u001b[1;35mString\u001b[0m\u001b[1m(\u001b[0m$\u001b[1;36m0\u001b[0m\u001b[1m)\u001b[0m\u001b[1m)\u001b[0m \u001b[1m}\u001b[0m\u001b[1;35m.reduce\u001b[0m\u001b[1m(\u001b[0m\u001b[1;36m0\u001b[0m, +\u001b[1m)\u001b[0m\n",
       "\u001b[1m}\u001b[0m\n",
       "\n",
       "\u001b[35m/\u001b[0m\u001b[35m/\u001b[0m \u001b[35m/\u001b[0m\u001b[35m/\u001b[0m\u001b[35m/\u001b[0m Adds the digits of a number.\n",
       "\u001b[35m/\u001b[0m\u001b[35m/\u001b[0m \u001b[35m/\u001b[0m\u001b[35m/\u001b[0m\u001b[35m/\u001b[0m - Parameter number: The number to add the digits of.\n",
       "\u001b[35m/\u001b[0m\u001b[35m/\u001b[0m \u001b[35m/\u001b[0m\u001b[35m/\u001b[0m\u001b[35m/\u001b[0m - Returns: The sum of the digits of number.\n",
       "\u001b[35m/\u001b[0m\u001b[35m/\u001b[0m func \u001b[1;35msumOfDigits\u001b[0m\u001b[1m(\u001b[0m_ number: Int\u001b[1m)\u001b[0m -> Int \u001b[1m{\u001b[0m\n",
       "\u001b[35m/\u001b[0m\u001b[35m/\u001b[0m     return String\n"
      ]
     },
     "metadata": {},
     "output_type": "display_data"
    },
    {
     "data": {
      "text/html": [
       "<pre style=\"white-space:pre;overflow-x:auto;line-height:normal;font-family:Menlo,'DejaVu Sans Mono',consolas,'Courier New',monospace\"><span style=\"color: #008000; text-decoration-color: #008000; font-weight: bold\"> Predict </span>\n",
       "</pre>\n"
      ],
      "text/plain": [
       "\u001b[1;32m Predict \u001b[0m\n"
      ]
     },
     "metadata": {},
     "output_type": "display_data"
    },
    {
     "data": {
      "text/html": [
       "<pre style=\"white-space:pre;overflow-x:auto;line-height:normal;font-family:Menlo,'DejaVu Sans Mono',consolas,'Courier New',monospace\">\n",
       "<span style=\"color: #800080; text-decoration-color: #800080\">//</span> Counts the number of unique values in an array of T.\n",
       "<span style=\"color: #800080; text-decoration-color: #800080\">//</span>\n",
       "<span style=\"color: #800080; text-decoration-color: #800080\">//</span> - Parameters:\n",
       "<span style=\"color: #800080; text-decoration-color: #800080\">//</span>   - in array: The array to check for unique values.\n",
       "<span style=\"color: #800080; text-decoration-color: #800080\">//</span>\n",
       "<span style=\"color: #800080; text-decoration-color: #800080\">//</span> - Returns:\n",
       "<span style=\"color: #800080; text-decoration-color: #800080\">//</span>   - The number of unique values in the array.\n",
       "func <span style=\"color: #800080; text-decoration-color: #800080; font-weight: bold\">countUnique</span><span style=\"font-weight: bold\">(</span>in array: <span style=\"font-weight: bold\">[</span>Int<span style=\"font-weight: bold\">])</span> -&gt; Int <span style=\"font-weight: bold\">{</span>\n",
       "    return <span style=\"color: #800080; text-decoration-color: #800080; font-weight: bold\">Set</span><span style=\"font-weight: bold\">(</span>array<span style=\"font-weight: bold\">)</span>.count\n",
       "<span style=\"font-weight: bold\">}</span>\n",
       "\n",
       "<span style=\"color: #800080; text-decoration-color: #800080\">//</span> Counts the number of unique values in an array of T.\n",
       "<span style=\"color: #800080; text-decoration-color: #800080\">//</span>\n",
       "<span style=\"color: #800080; text-decoration-color: #800080\">//</span> - Parameters:\n",
       "<span style=\"color: #800080; text-decoration-color: #800080\">//</span>   - in array: The array to check for unique values.\n",
       "<span style=\"color: #800080; text-decoration-color: #800080\">//</span>\n",
       "<span style=\"color: #800080; text-decoration-color: #800080\">//</span> - Returns:\n",
       "<span style=\"color: #800080; text-decoration-color: #800080\">//</span>   - The number of unique values in the array.\n",
       "func <span style=\"color: #800080; text-decoration-color: #800080; font-weight: bold\">countUnique</span><span style=\"font-weight: bold\">(</span>in array: <span style=\"font-weight: bold\">[</span>String<span style=\"font-weight: bold\">])</span> -&gt; Int <span style=\"font-weight: bold\">{</span>\n",
       "    return <span style=\"color: #800080; text-decoration-color: #800080; font-weight: bold\">Set</span><span style=\"font-weight: bold\">(</span>array<span style=\"font-weight: bold\">)</span>.count\n",
       "<span style=\"font-weight: bold\">}</span>\n",
       "\n",
       "\n",
       "<span style=\"color: #800080; text-decoration-color: #800080\">//</span> Counts the number of unique values in an array of T.\n",
       "<span style=\"color: #800080; text-decoration-color: #800080\">//</span>\n",
       "<span style=\"color: #800080; text-decoration-color: #800080\">//</span> - Parameters:\n",
       "<span style=\"color: #800080; text-decoration-color: #800080\">//</span>   - in array\n",
       "</pre>\n"
      ],
      "text/plain": [
       "\n",
       "\u001b[35m/\u001b[0m\u001b[35m/\u001b[0m Counts the number of unique values in an array of T.\n",
       "\u001b[35m/\u001b[0m\u001b[35m/\u001b[0m\n",
       "\u001b[35m/\u001b[0m\u001b[35m/\u001b[0m - Parameters:\n",
       "\u001b[35m/\u001b[0m\u001b[35m/\u001b[0m   - in array: The array to check for unique values.\n",
       "\u001b[35m/\u001b[0m\u001b[35m/\u001b[0m\n",
       "\u001b[35m/\u001b[0m\u001b[35m/\u001b[0m - Returns:\n",
       "\u001b[35m/\u001b[0m\u001b[35m/\u001b[0m   - The number of unique values in the array.\n",
       "func \u001b[1;35mcountUnique\u001b[0m\u001b[1m(\u001b[0min array: \u001b[1m[\u001b[0mInt\u001b[1m]\u001b[0m\u001b[1m)\u001b[0m -> Int \u001b[1m{\u001b[0m\n",
       "    return \u001b[1;35mSet\u001b[0m\u001b[1m(\u001b[0marray\u001b[1m)\u001b[0m.count\n",
       "\u001b[1m}\u001b[0m\n",
       "\n",
       "\u001b[35m/\u001b[0m\u001b[35m/\u001b[0m Counts the number of unique values in an array of T.\n",
       "\u001b[35m/\u001b[0m\u001b[35m/\u001b[0m\n",
       "\u001b[35m/\u001b[0m\u001b[35m/\u001b[0m - Parameters:\n",
       "\u001b[35m/\u001b[0m\u001b[35m/\u001b[0m   - in array: The array to check for unique values.\n",
       "\u001b[35m/\u001b[0m\u001b[35m/\u001b[0m\n",
       "\u001b[35m/\u001b[0m\u001b[35m/\u001b[0m - Returns:\n",
       "\u001b[35m/\u001b[0m\u001b[35m/\u001b[0m   - The number of unique values in the array.\n",
       "func \u001b[1;35mcountUnique\u001b[0m\u001b[1m(\u001b[0min array: \u001b[1m[\u001b[0mString\u001b[1m]\u001b[0m\u001b[1m)\u001b[0m -> Int \u001b[1m{\u001b[0m\n",
       "    return \u001b[1;35mSet\u001b[0m\u001b[1m(\u001b[0marray\u001b[1m)\u001b[0m.count\n",
       "\u001b[1m}\u001b[0m\n",
       "\n",
       "\n",
       "\u001b[35m/\u001b[0m\u001b[35m/\u001b[0m Counts the number of unique values in an array of T.\n",
       "\u001b[35m/\u001b[0m\u001b[35m/\u001b[0m\n",
       "\u001b[35m/\u001b[0m\u001b[35m/\u001b[0m - Parameters:\n",
       "\u001b[35m/\u001b[0m\u001b[35m/\u001b[0m   - in array\n"
      ]
     },
     "metadata": {},
     "output_type": "display_data"
    }
   ],
   "source": [
    "for predict in predictions:\n",
    "    print(\"[bold green] Predict [/ bold green]\")\n",
    "    print(predict)"
   ]
  },
  {
   "cell_type": "code",
   "execution_count": 53,
   "id": "a332165b",
   "metadata": {},
   "outputs": [
    {
     "data": {
      "text/html": [
       "<pre style=\"white-space:pre;overflow-x:auto;line-height:normal;font-family:Menlo,'DejaVu Sans Mono',consolas,'Courier New',monospace\"><span style=\"font-weight: bold\">[</span>\n",
       "    <span style=\"color: #008000; text-decoration-color: #008000\">'/// Генерирует случайный элемент из массива строк.\\n/// - Parameter array: Массив строк.\\n/// - Returns: </span>\n",
       "<span style=\"color: #008000; text-decoration-color: #008000\">Случайный элемент из массива.\\nfunc randomElementFromStringArray(_ array: [String]) -&gt; String? {\\n    return </span>\n",
       "<span style=\"color: #008000; text-decoration-color: #008000\">array.randomElement()\\n}'</span>,\n",
       "    <span style=\"color: #008000; text-decoration-color: #008000\">'/// Возвращает число, которое является квадратным корнем из заданного числа.\\n/// - Parameter number: </span>\n",
       "<span style=\"color: #008000; text-decoration-color: #008000\">Число.\\n/// - Returns: Квадратный корень числа.\\nfunc squareRoot(of number: Double) -&gt; Double {\\n    return </span>\n",
       "<span style=\"color: #008000; text-decoration-color: #008000\">sqrt(number)\\n}'</span>,\n",
       "    <span style=\"color: #008000; text-decoration-color: #008000\">'/// Проверяет, является ли массив палиндромом.\\n/// - Parameter array: Массив элементов.\\n/// - Returns: true,</span>\n",
       "<span style=\"color: #008000; text-decoration-color: #008000\">если массив читается одинаково в обе стороны.\\nfunc isPalindrome&lt;T: Equatable&gt;(_ array: [T]) -&gt; Bool {\\n    return </span>\n",
       "<span style=\"color: #008000; text-decoration-color: #008000\">array == array.reversed()\\n}'</span><span style=\"color: #000000; text-decoration-color: #000000\">,</span>\n",
       "<span style=\"color: #000000; text-decoration-color: #000000\">    </span><span style=\"color: #008000; text-decoration-color: #008000\">'/// Проверяет, является ли строка допустимым email.\\n/// - Parameter email: Строка для проверки.\\n/// - </span>\n",
       "<span style=\"color: #008000; text-decoration-color: #008000\">Returns: true, если строка похожа на email.\\nfunc isValidEmail(_ email: String) -&gt; Bool {\\n    let pattern = </span>\n",
       "<span style=\"color: #008000; text-decoration-color: #008000\">\"^[A-Z0-9._%+-]+@[A-Z0-9.-]+\\\\\\\\.[A-Z]{2,}$\"\\n    let regex = try? NSRegularExpression(pattern: pattern, options: </span>\n",
       "<span style=\"color: #008000; text-decoration-color: #008000\">.caseInsensitive)\\n    return regex?.firstMatch(in: email, options: [], range: NSRange(location: 0, length: </span>\n",
       "<span style=\"color: #008000; text-decoration-color: #008000\">email.utf16.count)) != nil\\n}'</span><span style=\"color: #000000; text-decoration-color: #000000\">,</span>\n",
       "<span style=\"color: #000000; text-decoration-color: #000000\">    </span><span style=\"color: #008000; text-decoration-color: #008000\">'/// Считает сумму цифр числа.\\n/// - Parameter number: Число.\\n/// - Returns: Сумма цифр.\\nfunc sumOfDigits(_ </span>\n",
       "<span style=\"color: #008000; text-decoration-color: #008000\">number: Int) -&gt; Int {\\n    return String(number).compactMap { Int(String($0)) }.reduce(0, +)\\n}'</span><span style=\"color: #000000; text-decoration-color: #000000\">,</span>\n",
       "<span style=\"color: #000000; text-decoration-color: #000000\">    </span><span style=\"color: #008000; text-decoration-color: #008000\">'/// Возвращает количество уникальных элементов в массиве.\\n/// - Parameter array: Входной массив.\\n/// - </span>\n",
       "<span style=\"color: #008000; text-decoration-color: #008000\">Returns: Количество уникальных элементов.\\nfunc countUnique&lt;T: Hashable&gt;(in array: [T]) -&gt; Int {\\n    return </span>\n",
       "<span style=\"color: #008000; text-decoration-color: #008000\">Set(array).count\\n}'</span>\n",
       "<span style=\"font-weight: bold\">]</span>\n",
       "</pre>\n"
      ],
      "text/plain": [
       "\u001b[1m[\u001b[0m\n",
       "    \u001b[32m'/// Генерирует случайный элемент из массива строк.\\n/// - Parameter array: Массив строк.\\n/// - Returns: \u001b[0m\n",
       "\u001b[32mСлучайный элемент из массива.\\nfunc randomElementFromStringArray\u001b[0m\u001b[32m(\u001b[0m\u001b[32m_ array: \u001b[0m\u001b[32m[\u001b[0m\u001b[32mString\u001b[0m\u001b[32m]\u001b[0m\u001b[32m)\u001b[0m\u001b[32m -> String? \u001b[0m\u001b[32m{\u001b[0m\u001b[32m\\n    return \u001b[0m\n",
       "\u001b[32marray.randomElement\u001b[0m\u001b[32m(\u001b[0m\u001b[32m)\u001b[0m\u001b[32m\\n\u001b[0m\u001b[32m}\u001b[0m\u001b[32m'\u001b[0m,\n",
       "    \u001b[32m'/// Возвращает число, которое является квадратным корнем из заданного числа.\\n/// - Parameter number: \u001b[0m\n",
       "\u001b[32mЧисло.\\n/// - Returns: Квадратный корень числа.\\nfunc squareRoot\u001b[0m\u001b[32m(\u001b[0m\u001b[32mof number: Double\u001b[0m\u001b[32m)\u001b[0m\u001b[32m -> Double \u001b[0m\u001b[32m{\u001b[0m\u001b[32m\\n    return \u001b[0m\n",
       "\u001b[32msqrt\u001b[0m\u001b[32m(\u001b[0m\u001b[32mnumber\u001b[0m\u001b[32m)\u001b[0m\u001b[32m\\n\u001b[0m\u001b[32m}\u001b[0m\u001b[32m'\u001b[0m,\n",
       "    \u001b[32m'/// Проверяет, является ли массив палиндромом.\\n/// - Parameter array: Массив элементов.\\n/// - Returns: true,\u001b[0m\n",
       "\u001b[32mесли массив читается одинаково в обе стороны.\\nfunc isPalindrome\u001b[0m\u001b[32m<\u001b[0m\u001b[32mT:\u001b[0m\u001b[32m Equatable>\u001b[0m\u001b[32m(\u001b[0m\u001b[32m_ array: \u001b[0m\u001b[32m[\u001b[0m\u001b[32mT\u001b[0m\u001b[32m]\u001b[0m\u001b[32m)\u001b[0m\u001b[32m -> Bool \u001b[0m\u001b[32m{\u001b[0m\u001b[32m\\n    return \u001b[0m\n",
       "\u001b[32marray == array.reversed\u001b[0m\u001b[32m(\u001b[0m\u001b[32m)\u001b[0m\u001b[32m\\n\u001b[0m\u001b[32m}\u001b[0m\u001b[32m'\u001b[0m\u001b[39m,\u001b[0m\n",
       "\u001b[39m    \u001b[0m\u001b[32m'/// Проверяет, является ли строка допустимым email.\\n/// - Parameter email: Строка для проверки.\\n/// - \u001b[0m\n",
       "\u001b[32mReturns: true, если строка похожа на email.\\nfunc isValidEmail\u001b[0m\u001b[32m(\u001b[0m\u001b[32m_ email: String\u001b[0m\u001b[32m)\u001b[0m\u001b[32m -> Bool \u001b[0m\u001b[32m{\u001b[0m\u001b[32m\\n    let pattern = \u001b[0m\n",
       "\u001b[32m\"^\u001b[0m\u001b[32m[\u001b[0m\u001b[32mA-Z0-9._%+-\u001b[0m\u001b[32m]\u001b[0m\u001b[32m+@\u001b[0m\u001b[32m[\u001b[0m\u001b[32mA-Z0-9.-\u001b[0m\u001b[32m]\u001b[0m\u001b[32m+\\\\\\\\.\u001b[0m\u001b[32m[\u001b[0m\u001b[32mA-Z\u001b[0m\u001b[32m]\u001b[0m\u001b[32m{\u001b[0m\u001b[32m2,\u001b[0m\u001b[32m}\u001b[0m\u001b[32m$\"\\n    let regex = try? NSRegularExpression\u001b[0m\u001b[32m(\u001b[0m\u001b[32mpattern: pattern, options: \u001b[0m\n",
       "\u001b[32m.caseInsensitive\u001b[0m\u001b[32m)\u001b[0m\u001b[32m\\n    return regex?.firstMatch\u001b[0m\u001b[32m(\u001b[0m\u001b[32min: email, options: \u001b[0m\u001b[32m[\u001b[0m\u001b[32m]\u001b[0m\u001b[32m, range: NSRange\u001b[0m\u001b[32m(\u001b[0m\u001b[32mlocation: 0, length: \u001b[0m\n",
       "\u001b[32memail.utf16.count\u001b[0m\u001b[32m)\u001b[0m\u001b[32m)\u001b[0m\u001b[32m != nil\\n\u001b[0m\u001b[32m}\u001b[0m\u001b[32m'\u001b[0m\u001b[39m,\u001b[0m\n",
       "\u001b[39m    \u001b[0m\u001b[32m'/// Считает сумму цифр числа.\\n/// - Parameter number: Число.\\n/// - Returns: Сумма цифр.\\nfunc sumOfDigits\u001b[0m\u001b[32m(\u001b[0m\u001b[32m_ \u001b[0m\n",
       "\u001b[32mnumber: Int\u001b[0m\u001b[32m)\u001b[0m\u001b[32m -> Int \u001b[0m\u001b[32m{\u001b[0m\u001b[32m\\n    return String\u001b[0m\u001b[32m(\u001b[0m\u001b[32mnumber\u001b[0m\u001b[32m)\u001b[0m\u001b[32m.compactMap \u001b[0m\u001b[32m{\u001b[0m\u001b[32m Int\u001b[0m\u001b[32m(\u001b[0m\u001b[32mString\u001b[0m\u001b[32m(\u001b[0m\u001b[32m$0\u001b[0m\u001b[32m)\u001b[0m\u001b[32m)\u001b[0m\u001b[32m \u001b[0m\u001b[32m}\u001b[0m\u001b[32m.reduce\u001b[0m\u001b[32m(\u001b[0m\u001b[32m0, +\u001b[0m\u001b[32m)\u001b[0m\u001b[32m\\n\u001b[0m\u001b[32m}\u001b[0m\u001b[32m'\u001b[0m\u001b[39m,\u001b[0m\n",
       "\u001b[39m    \u001b[0m\u001b[32m'/// Возвращает количество уникальных элементов в массиве.\\n/// - Parameter array: Входной массив.\\n/// - \u001b[0m\n",
       "\u001b[32mReturns: Количество уникальных элементов.\\nfunc countUnique<T: Hashable>\u001b[0m\u001b[32m(\u001b[0m\u001b[32min array: \u001b[0m\u001b[32m[\u001b[0m\u001b[32mT\u001b[0m\u001b[32m]\u001b[0m\u001b[32m)\u001b[0m\u001b[32m -\u001b[0m\u001b[32m>\u001b[0m\u001b[32m Int \u001b[0m\u001b[32m{\u001b[0m\u001b[32m\\n    return \u001b[0m\n",
       "\u001b[32mSet\u001b[0m\u001b[32m(\u001b[0m\u001b[32marray\u001b[0m\u001b[32m)\u001b[0m\u001b[32m.count\\n\u001b[0m\u001b[32m}\u001b[0m\u001b[32m'\u001b[0m\n",
       "\u001b[1m]\u001b[0m\n"
      ]
     },
     "metadata": {},
     "output_type": "display_data"
    }
   ],
   "source": [
    "references = ds_test[\"output\"]\n",
    "\n",
    "print(references)"
   ]
  },
  {
   "cell_type": "code",
   "execution_count": 54,
   "id": "cc20f291",
   "metadata": {},
   "outputs": [],
   "source": [
    "rouge = evaluate.load(\"rouge\")"
   ]
  },
  {
   "cell_type": "code",
   "execution_count": 55,
   "id": "0339d160",
   "metadata": {},
   "outputs": [],
   "source": [
    "# Вычисление метрик\n",
    "results = rouge.compute(predictions=predictions, references=references)"
   ]
  },
  {
   "cell_type": "code",
   "execution_count": 56,
   "id": "3117bd00",
   "metadata": {},
   "outputs": [
    {
     "data": {
      "text/html": [
       "<pre style=\"white-space:pre;overflow-x:auto;line-height:normal;font-family:Menlo,'DejaVu Sans Mono',consolas,'Courier New',monospace\">rouge1: <span style=\"color: #008080; text-decoration-color: #008080; font-weight: bold\">0.4927</span>\n",
       "</pre>\n"
      ],
      "text/plain": [
       "rouge1: \u001b[1;36m0.4927\u001b[0m\n"
      ]
     },
     "metadata": {},
     "output_type": "display_data"
    },
    {
     "data": {
      "text/html": [
       "<pre style=\"white-space:pre;overflow-x:auto;line-height:normal;font-family:Menlo,'DejaVu Sans Mono',consolas,'Courier New',monospace\">rouge2: <span style=\"color: #008080; text-decoration-color: #008080; font-weight: bold\">0.3798</span>\n",
       "</pre>\n"
      ],
      "text/plain": [
       "rouge2: \u001b[1;36m0.3798\u001b[0m\n"
      ]
     },
     "metadata": {},
     "output_type": "display_data"
    },
    {
     "data": {
      "text/html": [
       "<pre style=\"white-space:pre;overflow-x:auto;line-height:normal;font-family:Menlo,'DejaVu Sans Mono',consolas,'Courier New',monospace\">rougeL: <span style=\"color: #008080; text-decoration-color: #008080; font-weight: bold\">0.4832</span>\n",
       "</pre>\n"
      ],
      "text/plain": [
       "rougeL: \u001b[1;36m0.4832\u001b[0m\n"
      ]
     },
     "metadata": {},
     "output_type": "display_data"
    },
    {
     "data": {
      "text/html": [
       "<pre style=\"white-space:pre;overflow-x:auto;line-height:normal;font-family:Menlo,'DejaVu Sans Mono',consolas,'Courier New',monospace\">rougeLsum: <span style=\"color: #008080; text-decoration-color: #008080; font-weight: bold\">0.4888</span>\n",
       "</pre>\n"
      ],
      "text/plain": [
       "rougeLsum: \u001b[1;36m0.4888\u001b[0m\n"
      ]
     },
     "metadata": {},
     "output_type": "display_data"
    }
   ],
   "source": [
    "# Вывод результатов\n",
    "for metric, score in results.items():\n",
    "    print(f\"{metric}: {score:.4f}\")"
   ]
  },
  {
   "cell_type": "code",
   "execution_count": 57,
   "id": "7f7eaeb1",
   "metadata": {},
   "outputs": [
    {
     "data": {
      "text/html": [
       "<pre style=\"white-space:pre;overflow-x:auto;line-height:normal;font-family:Menlo,'DejaVu Sans Mono',consolas,'Courier New',monospace\"><span style=\"font-weight: bold\">{</span>\n",
       "    <span style=\"color: #008000; text-decoration-color: #008000\">'rouge1'</span>: <span style=\"color: #800080; text-decoration-color: #800080; font-weight: bold\">np.float64</span><span style=\"font-weight: bold\">(</span><span style=\"color: #008080; text-decoration-color: #008080; font-weight: bold\">0.4926743815794188</span><span style=\"font-weight: bold\">)</span>,\n",
       "    <span style=\"color: #008000; text-decoration-color: #008000\">'rouge2'</span>: <span style=\"color: #800080; text-decoration-color: #800080; font-weight: bold\">np.float64</span><span style=\"font-weight: bold\">(</span><span style=\"color: #008080; text-decoration-color: #008080; font-weight: bold\">0.37982149208674515</span><span style=\"font-weight: bold\">)</span>,\n",
       "    <span style=\"color: #008000; text-decoration-color: #008000\">'rougeL'</span>: <span style=\"color: #800080; text-decoration-color: #800080; font-weight: bold\">np.float64</span><span style=\"font-weight: bold\">(</span><span style=\"color: #008080; text-decoration-color: #008080; font-weight: bold\">0.48323344549967384</span><span style=\"font-weight: bold\">)</span>,\n",
       "    <span style=\"color: #008000; text-decoration-color: #008000\">'rougeLsum'</span>: <span style=\"color: #800080; text-decoration-color: #800080; font-weight: bold\">np.float64</span><span style=\"font-weight: bold\">(</span><span style=\"color: #008080; text-decoration-color: #008080; font-weight: bold\">0.48878264347473044</span><span style=\"font-weight: bold\">)</span>\n",
       "<span style=\"font-weight: bold\">}</span>\n",
       "</pre>\n"
      ],
      "text/plain": [
       "\u001b[1m{\u001b[0m\n",
       "    \u001b[32m'rouge1'\u001b[0m: \u001b[1;35mnp.float64\u001b[0m\u001b[1m(\u001b[0m\u001b[1;36m0.4926743815794188\u001b[0m\u001b[1m)\u001b[0m,\n",
       "    \u001b[32m'rouge2'\u001b[0m: \u001b[1;35mnp.float64\u001b[0m\u001b[1m(\u001b[0m\u001b[1;36m0.37982149208674515\u001b[0m\u001b[1m)\u001b[0m,\n",
       "    \u001b[32m'rougeL'\u001b[0m: \u001b[1;35mnp.float64\u001b[0m\u001b[1m(\u001b[0m\u001b[1;36m0.48323344549967384\u001b[0m\u001b[1m)\u001b[0m,\n",
       "    \u001b[32m'rougeLsum'\u001b[0m: \u001b[1;35mnp.float64\u001b[0m\u001b[1m(\u001b[0m\u001b[1;36m0.48878264347473044\u001b[0m\u001b[1m)\u001b[0m\n",
       "\u001b[1m}\u001b[0m\n"
      ]
     },
     "metadata": {},
     "output_type": "display_data"
    }
   ],
   "source": [
    "print(results)"
   ]
  },
  {
   "cell_type": "code",
   "execution_count": 59,
   "id": "be079d0f",
   "metadata": {},
   "outputs": [
    {
     "data": {
      "text/html": [
       "<pre style=\"white-space:pre;overflow-x:auto;line-height:normal;font-family:Menlo,'DejaVu Sans Mono',consolas,'Courier New',monospace\"><span style=\"font-weight: bold\">{</span>\n",
       "    <span style=\"color: #008000; text-decoration-color: #008000\">'bleu'</span>: <span style=\"color: #008080; text-decoration-color: #008080; font-weight: bold\">0.3932765237048014</span>,\n",
       "    <span style=\"color: #008000; text-decoration-color: #008000\">'precisions'</span>: <span style=\"font-weight: bold\">[</span><span style=\"color: #008080; text-decoration-color: #008080; font-weight: bold\">0.47067039106145253</span>, <span style=\"color: #008080; text-decoration-color: #008080; font-weight: bold\">0.4056338028169014</span>, <span style=\"color: #008080; text-decoration-color: #008080; font-weight: bold\">0.3721590909090909</span>, <span style=\"color: #008080; text-decoration-color: #008080; font-weight: bold\">0.336676217765043</span><span style=\"font-weight: bold\">]</span>,\n",
       "    <span style=\"color: #008000; text-decoration-color: #008000\">'brevity_penalty'</span>: <span style=\"color: #008080; text-decoration-color: #008080; font-weight: bold\">1.0</span>,\n",
       "    <span style=\"color: #008000; text-decoration-color: #008000\">'length_ratio'</span>: <span style=\"color: #008080; text-decoration-color: #008080; font-weight: bold\">1.6807511737089202</span>,\n",
       "    <span style=\"color: #008000; text-decoration-color: #008000\">'translation_length'</span>: <span style=\"color: #008080; text-decoration-color: #008080; font-weight: bold\">716</span>,\n",
       "    <span style=\"color: #008000; text-decoration-color: #008000\">'reference_length'</span>: <span style=\"color: #008080; text-decoration-color: #008080; font-weight: bold\">426</span>\n",
       "<span style=\"font-weight: bold\">}</span>\n",
       "</pre>\n"
      ],
      "text/plain": [
       "\u001b[1m{\u001b[0m\n",
       "    \u001b[32m'bleu'\u001b[0m: \u001b[1;36m0.3932765237048014\u001b[0m,\n",
       "    \u001b[32m'precisions'\u001b[0m: \u001b[1m[\u001b[0m\u001b[1;36m0.47067039106145253\u001b[0m, \u001b[1;36m0.4056338028169014\u001b[0m, \u001b[1;36m0.3721590909090909\u001b[0m, \u001b[1;36m0.336676217765043\u001b[0m\u001b[1m]\u001b[0m,\n",
       "    \u001b[32m'brevity_penalty'\u001b[0m: \u001b[1;36m1.0\u001b[0m,\n",
       "    \u001b[32m'length_ratio'\u001b[0m: \u001b[1;36m1.6807511737089202\u001b[0m,\n",
       "    \u001b[32m'translation_length'\u001b[0m: \u001b[1;36m716\u001b[0m,\n",
       "    \u001b[32m'reference_length'\u001b[0m: \u001b[1;36m426\u001b[0m\n",
       "\u001b[1m}\u001b[0m\n"
      ]
     },
     "metadata": {},
     "output_type": "display_data"
    }
   ],
   "source": [
    "bleu = evaluate.load(\"bleu\")\n",
    "results = bleu.compute(predictions=predictions, references=references)\n",
    "print(results)"
   ]
  },
  {
   "cell_type": "code",
   "execution_count": null,
   "id": "dd1a622c",
   "metadata": {},
   "outputs": [],
   "source": []
  }
 ],
 "metadata": {
  "kernelspec": {
   "display_name": "shinkai-LYQ5IRPl-py3.12",
   "language": "python",
   "name": "python3"
  },
  "language_info": {
   "codemirror_mode": {
    "name": "ipython",
    "version": 3
   },
   "file_extension": ".py",
   "mimetype": "text/x-python",
   "name": "python",
   "nbconvert_exporter": "python",
   "pygments_lexer": "ipython3",
   "version": "3.12.7"
  }
 },
 "nbformat": 4,
 "nbformat_minor": 5
}
