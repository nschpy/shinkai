{
 "cells": [
  {
   "cell_type": "code",
   "execution_count": 1,
   "id": "d3129eda",
   "metadata": {},
   "outputs": [],
   "source": [
    "import torch\n",
    "import evaluate\n",
    "from rich import print, print_json\n",
    "from shinkai.core.expirement import Expirement, ExpirementMetrics\n",
    "from transformers import AutoModelForCausalLM, AutoTokenizer\n",
    "from datasets import DatasetDict \n",
    "from shinkai.constants import CACHE_DIR\n",
    "from shinkai.core.loader import load_ift\n",
    "from tqdm import tqdm"
   ]
  },
  {
   "cell_type": "code",
   "execution_count": 2,
   "id": "fa6c72dc",
   "metadata": {},
   "outputs": [
    {
     "data": {
      "text/html": [
       "<pre style=\"white-space:pre;overflow-x:auto;line-height:normal;font-family:Menlo,'DejaVu Sans Mono',consolas,'Courier New',monospace\"><span style=\"color: #800080; text-decoration-color: #800080; font-weight: bold\">DatasetDict</span><span style=\"font-weight: bold\">({</span>\n",
       "    train: <span style=\"color: #800080; text-decoration-color: #800080; font-weight: bold\">Dataset</span><span style=\"font-weight: bold\">({</span>\n",
       "        features: <span style=\"font-weight: bold\">[</span><span style=\"color: #008000; text-decoration-color: #008000\">'instruction'</span>, <span style=\"color: #008000; text-decoration-color: #008000\">'input'</span>, <span style=\"color: #008000; text-decoration-color: #008000\">'output'</span><span style=\"font-weight: bold\">]</span>,\n",
       "        num_rows: <span style=\"color: #008080; text-decoration-color: #008080; font-weight: bold\">1090</span>\n",
       "    <span style=\"font-weight: bold\">})</span>\n",
       "    test: <span style=\"color: #800080; text-decoration-color: #800080; font-weight: bold\">Dataset</span><span style=\"font-weight: bold\">({</span>\n",
       "        features: <span style=\"font-weight: bold\">[</span><span style=\"color: #008000; text-decoration-color: #008000\">'instruction'</span>, <span style=\"color: #008000; text-decoration-color: #008000\">'input'</span>, <span style=\"color: #008000; text-decoration-color: #008000\">'output'</span><span style=\"font-weight: bold\">]</span>,\n",
       "        num_rows: <span style=\"color: #008080; text-decoration-color: #008080; font-weight: bold\">6</span>\n",
       "    <span style=\"font-weight: bold\">})</span>\n",
       "<span style=\"font-weight: bold\">})</span>\n",
       "</pre>\n"
      ],
      "text/plain": [
       "\u001b[1;35mDatasetDict\u001b[0m\u001b[1m(\u001b[0m\u001b[1m{\u001b[0m\n",
       "    train: \u001b[1;35mDataset\u001b[0m\u001b[1m(\u001b[0m\u001b[1m{\u001b[0m\n",
       "        features: \u001b[1m[\u001b[0m\u001b[32m'instruction'\u001b[0m, \u001b[32m'input'\u001b[0m, \u001b[32m'output'\u001b[0m\u001b[1m]\u001b[0m,\n",
       "        num_rows: \u001b[1;36m1090\u001b[0m\n",
       "    \u001b[1m}\u001b[0m\u001b[1m)\u001b[0m\n",
       "    test: \u001b[1;35mDataset\u001b[0m\u001b[1m(\u001b[0m\u001b[1m{\u001b[0m\n",
       "        features: \u001b[1m[\u001b[0m\u001b[32m'instruction'\u001b[0m, \u001b[32m'input'\u001b[0m, \u001b[32m'output'\u001b[0m\u001b[1m]\u001b[0m,\n",
       "        num_rows: \u001b[1;36m6\u001b[0m\n",
       "    \u001b[1m}\u001b[0m\u001b[1m)\u001b[0m\n",
       "\u001b[1m}\u001b[0m\u001b[1m)\u001b[0m\n"
      ]
     },
     "metadata": {},
     "output_type": "display_data"
    }
   ],
   "source": [
    "ds = load_ift(testSize=0.005)\n",
    "print(ds)"
   ]
  },
  {
   "cell_type": "code",
   "execution_count": 3,
   "id": "aea8e3d7",
   "metadata": {},
   "outputs": [
    {
     "data": {
      "text/plain": [
       "LlamaForCausalLM(\n",
       "  (model): LlamaModel(\n",
       "    (embed_tokens): Embedding(49152, 2048)\n",
       "    (layers): ModuleList(\n",
       "      (0-23): 24 x LlamaDecoderLayer(\n",
       "        (self_attn): LlamaAttention(\n",
       "          (q_proj): Linear(in_features=2048, out_features=2048, bias=False)\n",
       "          (k_proj): Linear(in_features=2048, out_features=2048, bias=False)\n",
       "          (v_proj): Linear(in_features=2048, out_features=2048, bias=False)\n",
       "          (o_proj): Linear(in_features=2048, out_features=2048, bias=False)\n",
       "        )\n",
       "        (mlp): LlamaMLP(\n",
       "          (gate_proj): Linear(in_features=2048, out_features=8192, bias=False)\n",
       "          (up_proj): Linear(in_features=2048, out_features=8192, bias=False)\n",
       "          (down_proj): Linear(in_features=8192, out_features=2048, bias=False)\n",
       "          (act_fn): SiLU()\n",
       "        )\n",
       "        (input_layernorm): LlamaRMSNorm((2048,), eps=1e-05)\n",
       "        (post_attention_layernorm): LlamaRMSNorm((2048,), eps=1e-05)\n",
       "      )\n",
       "    )\n",
       "    (norm): LlamaRMSNorm((2048,), eps=1e-05)\n",
       "    (rotary_emb): LlamaRotaryEmbedding()\n",
       "  )\n",
       "  (lm_head): Linear(in_features=2048, out_features=49152, bias=False)\n",
       ")"
      ]
     },
     "execution_count": 3,
     "metadata": {},
     "output_type": "execute_result"
    }
   ],
   "source": [
    "device = \"mps\" if torch.cuda.is_available() else \"cpu\"\n",
    "model = AutoModelForCausalLM.from_pretrained(\"HuggingFaceTB/SmolLM2-1.7B-Instruct\", cache_dir=\"../\" + CACHE_DIR).to(device)\n",
    "tokenizer = AutoTokenizer.from_pretrained(\"HuggingFaceTB/SmolLM2-1.7B-Instruct\", cache_dir=\"../\" + CACHE_DIR)\n",
    "\n",
    "model.eval()"
   ]
  },
  {
   "cell_type": "code",
   "execution_count": 4,
   "id": "36956b99",
   "metadata": {},
   "outputs": [],
   "source": [
    "ds_test = ds[\"test\"]"
   ]
  },
  {
   "cell_type": "code",
   "execution_count": null,
   "id": "ea7bc039",
   "metadata": {},
   "outputs": [],
   "source": [
    "promt = \"\"\"\n",
    "You are a Swift documentation assistant.\n",
    "\n",
    "Your task is to add precise and complete Swift-style documentation comments (///) to the function below. Follow Apple's Xcode documentation conventions.\n",
    "\n",
    "The documentation must include:\n",
    "- A one-sentence summary of the function’s purpose.\n",
    "- A \"- Parameters:\" section explaining each parameter clearly, including its type and role.\n",
    "- A \"- Returns:\" section that describes the return value (if the function returns something), with its type.\n",
    "\n",
    "Guidelines:\n",
    "- Use concise, technical English appropriate for developer-facing API docs.\n",
    "- Include type hints in explanations (e.g., “an integer”, “a string array”).\n",
    "- If the function is generic (<T>), explain the generic behavior clearly.\n",
    "- Do not include any commentary or explanation outside the code block.\n",
    "- The output must be a single Swift code block containing only the function and its documentation.\n",
    "\n",
    "```swift\n",
    "func median(of numbers: [Double]) -> Double? {\n",
    "    guard !numbers.isEmpty else { return nil }\n",
    "    let sorted = numbers.sorted()\n",
    "    let mid = sorted.count / 2\n",
    "    return sorted.count % 2 == 0\n",
    "        ? (sorted[mid - 1] + sorted[mid]) / 2\n",
    "        : sorted[mid]\n",
    "}\n",
    "```\n",
    "\"\"\"\n",
    "\n",
    "print(model.generation_config)\n",
    "inputs = tokenizer(promt, return_tensors=\"pt\").to(device)\n",
    "outputs = model.generate(\n",
    "    **inputs,\n",
    "    max_new_tokens = 200,\n",
    "    eos_token_id=tokenizer.eos_token_id,\n",
    "    pad_token_id=tokenizer.eos_token_id,   # чтобы декодер не ругался\n",
    "    do_sample=True,\n",
    "    temperature=0.5,\n",
    "    top_p=0.95      # запрет на повтор 4-грамм\n",
    ")\n",
    "print(outputs)"
   ]
  },
  {
   "cell_type": "code",
   "execution_count": null,
   "id": "2a2e11ec",
   "metadata": {},
   "outputs": [],
   "source": [
    "result = tokenizer.decode(outputs[0][inputs.input_ids.shape[1]:], skip_special_tokens=True)\n",
    "print(result)"
   ]
  },
  {
   "cell_type": "code",
   "execution_count": null,
   "id": "2dc56f8d",
   "metadata": {},
   "outputs": [],
   "source": [
    "outputs = model.generate(\n",
    "    **inputs,\n",
    "    max_new_tokens=128,\n",
    "    return_dict_in_generate=True,\n",
    "    output_scores = False\n",
    ")\n",
    "\n",
    "# Получаем только сгенерированную часть\n",
    "generated_tokens = outputs.sequences[0][inputs.input_ids.shape[1]:]\n",
    "result = tokenizer.decode(generated_tokens, skip_special_tokens=True)\n",
    "print(result)"
   ]
  },
  {
   "cell_type": "markdown",
   "id": "0d2cc61e",
   "metadata": {},
   "source": [
    "### Metrics Test"
   ]
  },
  {
   "cell_type": "code",
   "execution_count": null,
   "id": "a1dc04c1",
   "metadata": {},
   "outputs": [
    {
     "data": {
      "text/html": [
       "<pre style=\"white-space:pre;overflow-x:auto;line-height:normal;font-family:Menlo,'DejaVu Sans Mono',consolas,'Courier New',monospace\">GenerationConfig <span style=\"font-weight: bold\">{</span>\n",
       "  <span style=\"color: #008000; text-decoration-color: #008000\">\"bos_token_id\"</span>: <span style=\"color: #008080; text-decoration-color: #008080; font-weight: bold\">151643</span>,\n",
       "  <span style=\"color: #008000; text-decoration-color: #008000\">\"do_sample\"</span>: true,\n",
       "  <span style=\"color: #008000; text-decoration-color: #008000\">\"eos_token_id\"</span>: <span style=\"font-weight: bold\">[</span>\n",
       "    <span style=\"color: #008080; text-decoration-color: #008080; font-weight: bold\">151645</span>,\n",
       "    <span style=\"color: #008080; text-decoration-color: #008080; font-weight: bold\">151643</span>\n",
       "  <span style=\"font-weight: bold\">]</span>,\n",
       "  <span style=\"color: #008000; text-decoration-color: #008000\">\"pad_token_id\"</span>: <span style=\"color: #008080; text-decoration-color: #008080; font-weight: bold\">151643</span>,\n",
       "  <span style=\"color: #008000; text-decoration-color: #008000\">\"temperature\"</span>: <span style=\"color: #008080; text-decoration-color: #008080; font-weight: bold\">0.6</span>,\n",
       "  <span style=\"color: #008000; text-decoration-color: #008000\">\"top_k\"</span>: <span style=\"color: #008080; text-decoration-color: #008080; font-weight: bold\">20</span>,\n",
       "  <span style=\"color: #008000; text-decoration-color: #008000\">\"top_p\"</span>: <span style=\"color: #008080; text-decoration-color: #008080; font-weight: bold\">0.95</span>\n",
       "<span style=\"font-weight: bold\">}</span>\n",
       "\n",
       "</pre>\n"
      ],
      "text/plain": [
       "GenerationConfig \u001b[1m{\u001b[0m\n",
       "  \u001b[32m\"bos_token_id\"\u001b[0m: \u001b[1;36m151643\u001b[0m,\n",
       "  \u001b[32m\"do_sample\"\u001b[0m: true,\n",
       "  \u001b[32m\"eos_token_id\"\u001b[0m: \u001b[1m[\u001b[0m\n",
       "    \u001b[1;36m151645\u001b[0m,\n",
       "    \u001b[1;36m151643\u001b[0m\n",
       "  \u001b[1m]\u001b[0m,\n",
       "  \u001b[32m\"pad_token_id\"\u001b[0m: \u001b[1;36m151643\u001b[0m,\n",
       "  \u001b[32m\"temperature\"\u001b[0m: \u001b[1;36m0.6\u001b[0m,\n",
       "  \u001b[32m\"top_k\"\u001b[0m: \u001b[1;36m20\u001b[0m,\n",
       "  \u001b[32m\"top_p\"\u001b[0m: \u001b[1;36m0.95\u001b[0m\n",
       "\u001b[1m}\u001b[0m\n",
       "\n"
      ]
     },
     "metadata": {},
     "output_type": "display_data"
    },
    {
     "data": {
      "text/html": [
       "<pre style=\"white-space:pre;overflow-x:auto;line-height:normal;font-family:Menlo,'DejaVu Sans Mono',consolas,'Courier New',monospace\"><span style=\"color: #800080; text-decoration-color: #800080; font-weight: bold\">tensor</span><span style=\"font-weight: bold\">([[</span>  <span style=\"color: #008080; text-decoration-color: #008080; font-weight: bold\">198</span>,  <span style=\"color: #008080; text-decoration-color: #008080; font-weight: bold\">2610</span>,   <span style=\"color: #008080; text-decoration-color: #008080; font-weight: bold\">525</span>, <span style=\"color: #008080; text-decoration-color: #008080; font-weight: bold\">66971</span>,   <span style=\"color: #008080; text-decoration-color: #008080; font-weight: bold\">264</span>, <span style=\"color: #008080; text-decoration-color: #008080; font-weight: bold\">23670</span>,  <span style=\"color: #008080; text-decoration-color: #008080; font-weight: bold\">2038</span>,  <span style=\"color: #008080; text-decoration-color: #008080; font-weight: bold\">3152</span>,    <span style=\"color: #008080; text-decoration-color: #008080; font-weight: bold\">13</span>, <span style=\"color: #008080; text-decoration-color: #008080; font-weight: bold\">16246</span>,\n",
       "           <span style=\"color: #008080; text-decoration-color: #008080; font-weight: bold\">264</span>,   <span style=\"color: #008080; text-decoration-color: #008080; font-weight: bold\">729</span>,   <span style=\"color: #008080; text-decoration-color: #008080; font-weight: bold\">323</span>,   <span style=\"color: #008080; text-decoration-color: #008080; font-weight: bold\">264</span>,  <span style=\"color: #008080; text-decoration-color: #008080; font-weight: bold\">2805</span>,  <span style=\"color: #008080; text-decoration-color: #008080; font-weight: bold\">4008</span>,   <span style=\"color: #008080; text-decoration-color: #008080; font-weight: bold\">315</span>,  <span style=\"color: #008080; text-decoration-color: #008080; font-weight: bold\">1380</span>,   <span style=\"color: #008080; text-decoration-color: #008080; font-weight: bold\">323</span>,  <span style=\"color: #008080; text-decoration-color: #008080; font-weight: bold\">1246</span>,\n",
       "           <span style=\"color: #008080; text-decoration-color: #008080; font-weight: bold\">432</span>,   <span style=\"color: #008080; text-decoration-color: #008080; font-weight: bold\">374</span>,  <span style=\"color: #008080; text-decoration-color: #008080; font-weight: bold\">1483</span>,    <span style=\"color: #008080; text-decoration-color: #008080; font-weight: bold\">11</span>,  <span style=\"color: #008080; text-decoration-color: #008080; font-weight: bold\">3270</span>,   <span style=\"color: #008080; text-decoration-color: #008080; font-weight: bold\">264</span>,  <span style=\"color: #008080; text-decoration-color: #008080; font-weight: bold\">9705</span>,  <span style=\"color: #008080; text-decoration-color: #008080; font-weight: bold\">3980</span>,   <span style=\"color: #008080; text-decoration-color: #008080; font-weight: bold\">429</span>,  <span style=\"color: #008080; text-decoration-color: #008080; font-weight: bold\">8609</span>,\n",
       "          <span style=\"color: #008080; text-decoration-color: #008080; font-weight: bold\">3853</span>, <span style=\"color: #008080; text-decoration-color: #008080; font-weight: bold\">13402</span>,  <span style=\"color: #008080; text-decoration-color: #008080; font-weight: bold\">3535</span>,  <span style=\"color: #008080; text-decoration-color: #008080; font-weight: bold\">1181</span>,  <span style=\"color: #008080; text-decoration-color: #008080; font-weight: bold\">7428</span>,   <span style=\"color: #008080; text-decoration-color: #008080; font-weight: bold\">624</span>, <span style=\"color: #008080; text-decoration-color: #008080; font-weight: bold\">10253</span>,  <span style=\"color: #008080; text-decoration-color: #008080; font-weight: bold\">1048</span>,    <span style=\"color: #008080; text-decoration-color: #008080; font-weight: bold\">12</span>,  <span style=\"color: #008080; text-decoration-color: #008080; font-weight: bold\">3528</span>,\n",
       "         <span style=\"color: #008080; text-decoration-color: #008080; font-weight: bold\">23670</span>,  <span style=\"color: #008080; text-decoration-color: #008080; font-weight: bold\">6042</span>,   <span style=\"color: #008080; text-decoration-color: #008080; font-weight: bold\">624</span>, <span style=\"color: #008080; text-decoration-color: #008080; font-weight: bold\">22283</span>,  <span style=\"color: #008080; text-decoration-color: #008080; font-weight: bold\">5733</span>,   <span style=\"color: #008080; text-decoration-color: #008080; font-weight: bold\">323</span>,   <span style=\"color: #008080; text-decoration-color: #008080; font-weight: bold\">470</span>, <span style=\"color: #008080; text-decoration-color: #008080; font-weight: bold\">27787</span>,    <span style=\"color: #008080; text-decoration-color: #008080; font-weight: bold\">11</span>,   <span style=\"color: #008080; text-decoration-color: #008080; font-weight: bold\">323</span>,\n",
       "         <span style=\"color: #008080; text-decoration-color: #008080; font-weight: bold\">45932</span>,  <span style=\"color: #008080; text-decoration-color: #008080; font-weight: bold\">7385</span>,   <span style=\"color: #008080; text-decoration-color: #008080; font-weight: bold\">916</span>,  <span style=\"color: #008080; text-decoration-color: #008080; font-weight: bold\">8129</span>,   <span style=\"color: #008080; text-decoration-color: #008080; font-weight: bold\">624</span>,  <span style=\"color: #008080; text-decoration-color: #008080; font-weight: bold\">5598</span>,  <span style=\"color: #008080; text-decoration-color: #008080; font-weight: bold\">1172</span>,   <span style=\"color: #008080; text-decoration-color: #008080; font-weight: bold\">279</span>,  <span style=\"color: #008080; text-decoration-color: #008080; font-weight: bold\">3980</span>,   <span style=\"color: #008080; text-decoration-color: #008080; font-weight: bold\">323</span>,\n",
       "           <span style=\"color: #008080; text-decoration-color: #008080; font-weight: bold\">279</span>,   <span style=\"color: #008080; text-decoration-color: #008080; font-weight: bold\">729</span>,    <span style=\"color: #008080; text-decoration-color: #008080; font-weight: bold\">11</span>,   <span style=\"color: #008080; text-decoration-color: #008080; font-weight: bold\">902</span>, <span style=\"color: #008080; text-decoration-color: #008080; font-weight: bold\">36275</span>,    <span style=\"color: #008080; text-decoration-color: #008080; font-weight: bold\">11</span>,  <span style=\"color: #008080; text-decoration-color: #008080; font-weight: bold\">8388</span>,    <span style=\"color: #008080; text-decoration-color: #008080; font-weight: bold\">11</span>,   <span style=\"color: #008080; text-decoration-color: #008080; font-weight: bold\">902</span>, <span style=\"color: #008080; text-decoration-color: #008080; font-weight: bold\">13153</span>,\n",
       "          <span style=\"color: #008080; text-decoration-color: #008080; font-weight: bold\">2550</span>,   <span style=\"color: #008080; text-decoration-color: #008080; font-weight: bold\">624</span>,  <span style=\"color: #008080; text-decoration-color: #008080; font-weight: bold\">5152</span>,   <span style=\"color: #008080; text-decoration-color: #008080; font-weight: bold\">510</span>,  <span style=\"color: #008080; text-decoration-color: #008080; font-weight: bold\">2830</span>,  <span style=\"color: #008080; text-decoration-color: #008080; font-weight: bold\">4194</span>,  <span style=\"color: #008080; text-decoration-color: #008080; font-weight: bold\">1691</span>, <span style=\"color: #008080; text-decoration-color: #008080; font-weight: bold\">44491</span>,  <span style=\"color: #008080; text-decoration-color: #008080; font-weight: bold\">1857</span>,  <span style=\"color: #008080; text-decoration-color: #008080; font-weight: bold\">2490</span>,\n",
       "          <span style=\"color: #008080; text-decoration-color: #008080; font-weight: bold\">1334</span>,    <span style=\"color: #008080; text-decoration-color: #008080; font-weight: bold\">25</span>,   <span style=\"color: #008080; text-decoration-color: #008080; font-weight: bold\">508</span>,   <span style=\"color: #008080; text-decoration-color: #008080; font-weight: bold\">703</span>,  <span style=\"color: #008080; text-decoration-color: #008080; font-weight: bold\">2467</span>,  <span style=\"color: #008080; text-decoration-color: #008080; font-weight: bold\">1464</span>,   <span style=\"color: #008080; text-decoration-color: #008080; font-weight: bold\">923</span>,    <span style=\"color: #008080; text-decoration-color: #008080; font-weight: bold\">30</span>,   <span style=\"color: #008080; text-decoration-color: #008080; font-weight: bold\">341</span>,   <span style=\"color: #008080; text-decoration-color: #008080; font-weight: bold\">262</span>,\n",
       "           <span style=\"color: #008080; text-decoration-color: #008080; font-weight: bold\">470</span>,  <span style=\"color: #008080; text-decoration-color: #008080; font-weight: bold\">1334</span>,  <span style=\"color: #008080; text-decoration-color: #008080; font-weight: bold\">7829</span>,  <span style=\"color: #008080; text-decoration-color: #008080; font-weight: bold\">1691</span>,   <span style=\"color: #008080; text-decoration-color: #008080; font-weight: bold\">741</span>,    <span style=\"color: #008080; text-decoration-color: #008080; font-weight: bold\">92</span>,   <span style=\"color: #008080; text-decoration-color: #008080; font-weight: bold\">715</span>,  <span style=\"color: #008080; text-decoration-color: #008080; font-weight: bold\">5009</span>,   <span style=\"color: #008080; text-decoration-color: #008080; font-weight: bold\">510</span>,  <span style=\"color: #008080; text-decoration-color: #008080; font-weight: bold\">1986</span>,\n",
       "           <span style=\"color: #008080; text-decoration-color: #008080; font-weight: bold\">729</span>,  <span style=\"color: #008080; text-decoration-color: #008080; font-weight: bold\">4675</span>,   <span style=\"color: #008080; text-decoration-color: #008080; font-weight: bold\">264</span>,  <span style=\"color: #008080; text-decoration-color: #008080; font-weight: bold\">4194</span>,  <span style=\"color: #008080; text-decoration-color: #008080; font-weight: bold\">2392</span>,   <span style=\"color: #008080; text-decoration-color: #008080; font-weight: bold\">504</span>,   <span style=\"color: #008080; text-decoration-color: #008080; font-weight: bold\">264</span>,  <span style=\"color: #008080; text-decoration-color: #008080; font-weight: bold\">2661</span>,  <span style=\"color: #008080; text-decoration-color: #008080; font-weight: bold\">1334</span>,   <span style=\"color: #008080; text-decoration-color: #008080; font-weight: bold\">315</span>,\n",
       "          <span style=\"color: #008080; text-decoration-color: #008080; font-weight: bold\">9069</span>,    <span style=\"color: #008080; text-decoration-color: #008080; font-weight: bold\">11</span>,   <span style=\"color: #008080; text-decoration-color: #008080; font-weight: bold\">476</span>,  <span style=\"color: #008080; text-decoration-color: #008080; font-weight: bold\">2092</span>,   <span style=\"color: #008080; text-decoration-color: #008080; font-weight: bold\">421</span>,   <span style=\"color: #008080; text-decoration-color: #008080; font-weight: bold\">279</span>,  <span style=\"color: #008080; text-decoration-color: #008080; font-weight: bold\">1334</span>,   <span style=\"color: #008080; text-decoration-color: #008080; font-weight: bold\">374</span>,  <span style=\"color: #008080; text-decoration-color: #008080; font-weight: bold\">4287</span>,   <span style=\"color: #008080; text-decoration-color: #008080; font-weight: bold\">624</span>,\n",
       "           <span style=\"color: #008080; text-decoration-color: #008080; font-weight: bold\">785</span>,   <span style=\"color: #008080; text-decoration-color: #008080; font-weight: bold\">729</span>,   <span style=\"color: #008080; text-decoration-color: #008080; font-weight: bold\">374</span>,  <span style=\"color: #008080; text-decoration-color: #008080; font-weight: bold\">1483</span>,   <span style=\"color: #008080; text-decoration-color: #008080; font-weight: bold\">304</span>,   <span style=\"color: #008080; text-decoration-color: #008080; font-weight: bold\">279</span>,  <span style=\"color: #008080; text-decoration-color: #008080; font-weight: bold\">1845</span>,   <span style=\"color: #008080; text-decoration-color: #008080; font-weight: bold\">594</span>,  <span style=\"color: #008080; text-decoration-color: #008080; font-weight: bold\">6200</span>, <span style=\"color: #008080; text-decoration-color: #008080; font-weight: bold\">12218</span>,\n",
       "           <span style=\"color: #008080; text-decoration-color: #008080; font-weight: bold\">311</span>,  <span style=\"color: #008080; text-decoration-color: #008080; font-weight: bold\">7807</span>,   <span style=\"color: #008080; text-decoration-color: #008080; font-weight: bold\">264</span>,  <span style=\"color: #008080; text-decoration-color: #008080; font-weight: bold\">4194</span>,   <span style=\"color: #008080; text-decoration-color: #008080; font-weight: bold\">914</span>,   <span style=\"color: #008080; text-decoration-color: #008080; font-weight: bold\">504</span>,   <span style=\"color: #008080; text-decoration-color: #008080; font-weight: bold\">264</span>,  <span style=\"color: #008080; text-decoration-color: #008080; font-weight: bold\">1140</span>,   <span style=\"color: #008080; text-decoration-color: #008080; font-weight: bold\">315</span>,  <span style=\"color: #008080; text-decoration-color: #008080; font-weight: bold\">9069</span>,\n",
       "           <span style=\"color: #008080; text-decoration-color: #008080; font-weight: bold\">624</span>,   <span style=\"color: #008080; text-decoration-color: #008080; font-weight: bold\">785</span>,   <span style=\"color: #008080; text-decoration-color: #008080; font-weight: bold\">729</span>,   <span style=\"color: #008080; text-decoration-color: #008080; font-weight: bold\">374</span>,  <span style=\"color: #008080; text-decoration-color: #008080; font-weight: bold\">2598</span>,   <span style=\"color: #008080; text-decoration-color: #008080; font-weight: bold\">304</span>,   <span style=\"color: #008080; text-decoration-color: #008080; font-weight: bold\">279</span>,  <span style=\"color: #008080; text-decoration-color: #008080; font-weight: bold\">1887</span>,   <span style=\"color: #008080; text-decoration-color: #008080; font-weight: bold\">729</span>,   <span style=\"color: #008080; text-decoration-color: #008080; font-weight: bold\">315</span>,\n",
       "           <span style=\"color: #008080; text-decoration-color: #008080; font-weight: bold\">279</span>,  <span style=\"color: #008080; text-decoration-color: #008080; font-weight: bold\">1845</span>,   <span style=\"color: #008080; text-decoration-color: #008080; font-weight: bold\">311</span>,   <span style=\"color: #008080; text-decoration-color: #008080; font-weight: bold\">633</span>,   <span style=\"color: #008080; text-decoration-color: #008080; font-weight: bold\">264</span>,  <span style=\"color: #008080; text-decoration-color: #008080; font-weight: bold\">4194</span>,   <span style=\"color: #008080; text-decoration-color: #008080; font-weight: bold\">914</span>,   <span style=\"color: #008080; text-decoration-color: #008080; font-weight: bold\">369</span>,  <span style=\"color: #008080; text-decoration-color: #008080; font-weight: bold\">3037</span>,   <span style=\"color: #008080; text-decoration-color: #008080; font-weight: bold\">382</span>,\n",
       "           <span style=\"color: #008080; text-decoration-color: #008080; font-weight: bold\">785</span>,  <span style=\"color: #008080; text-decoration-color: #008080; font-weight: bold\">3980</span>,  <span style=\"color: #008080; text-decoration-color: #008080; font-weight: bold\">1265</span>,   <span style=\"color: #008080; text-decoration-color: #008080; font-weight: bold\">387</span>,   <span style=\"color: #008080; text-decoration-color: #008080; font-weight: bold\">304</span>,   <span style=\"color: #008080; text-decoration-color: #008080; font-weight: bold\">279</span>,  <span style=\"color: #008080; text-decoration-color: #008080; font-weight: bold\">1352</span>,   <span style=\"color: #008080; text-decoration-color: #008080; font-weight: bold\">315</span>,   <span style=\"color: #008080; text-decoration-color: #008080; font-weight: bold\">510</span>,  <span style=\"color: #008080; text-decoration-color: #008080; font-weight: bold\">2575</span>,\n",
       "           <span style=\"color: #008080; text-decoration-color: #008080; font-weight: bold\">366</span>,  <span style=\"color: #008080; text-decoration-color: #008080; font-weight: bold\">1688</span>, <span style=\"color: #008080; text-decoration-color: #008080; font-weight: bold\">11494</span>,  <span style=\"color: #008080; text-decoration-color: #008080; font-weight: bold\">2235</span>,    <span style=\"color: #008080; text-decoration-color: #008080; font-weight: bold\">27</span>, <span style=\"color: #008080; text-decoration-color: #008080; font-weight: bold\">16181</span>, <span style=\"color: #008080; text-decoration-color: #008080; font-weight: bold\">10604</span>,    <span style=\"color: #008080; text-decoration-color: #008080; font-weight: bold\">29</span>,   <span style=\"color: #008080; text-decoration-color: #008080; font-weight: bold\">366</span>, <span style=\"color: #008080; text-decoration-color: #008080; font-weight: bold\">16181</span>,\n",
       "         <span style=\"color: #008080; text-decoration-color: #008080; font-weight: bold\">11494</span>,    <span style=\"color: #008080; text-decoration-color: #008080; font-weight: bold\">29</span>, <span style=\"color: #008080; text-decoration-color: #008080; font-weight: bold\">32574</span>,  <span style=\"color: #008080; text-decoration-color: #008080; font-weight: bold\">1464</span>,   <span style=\"color: #008080; text-decoration-color: #008080; font-weight: bold\">366</span>,   <span style=\"color: #008080; text-decoration-color: #008080; font-weight: bold\">689</span>, <span style=\"color: #008080; text-decoration-color: #008080; font-weight: bold\">10604</span>,   <span style=\"color: #008080; text-decoration-color: #008080; font-weight: bold\">397</span>,  <span style=\"color: #008080; text-decoration-color: #008080; font-weight: bold\">2575</span>,   <span style=\"color: #008080; text-decoration-color: #008080; font-weight: bold\">256</span>,\n",
       "           <span style=\"color: #008080; text-decoration-color: #008080; font-weight: bold\">366</span>,  <span style=\"color: #008080; text-decoration-color: #008080; font-weight: bold\">4684</span>,   <span style=\"color: #008080; text-decoration-color: #008080; font-weight: bold\">397</span>,  <span style=\"color: #008080; text-decoration-color: #008080; font-weight: bold\">2575</span>,   <span style=\"color: #008080; text-decoration-color: #008080; font-weight: bold\">257</span>,   <span style=\"color: #008080; text-decoration-color: #008080; font-weight: bold\">366</span>, <span style=\"color: #008080; text-decoration-color: #008080; font-weight: bold\">16181</span>, <span style=\"color: #008080; text-decoration-color: #008080; font-weight: bold\">52547</span>,    <span style=\"color: #008080; text-decoration-color: #008080; font-weight: bold\">81</span>,   <span style=\"color: #008080; text-decoration-color: #008080; font-weight: bold\">804</span>,\n",
       "           <span style=\"color: #008080; text-decoration-color: #008080; font-weight: bold\">397</span>,  <span style=\"color: #008080; text-decoration-color: #008080; font-weight: bold\">2575</span>,   <span style=\"color: #008080; text-decoration-color: #008080; font-weight: bold\">981</span>,   <span style=\"color: #008080; text-decoration-color: #008080; font-weight: bold\">366</span>, <span style=\"color: #008080; text-decoration-color: #008080; font-weight: bold\">16181</span>, <span style=\"color: #008080; text-decoration-color: #008080; font-weight: bold\">52547</span>,    <span style=\"color: #008080; text-decoration-color: #008080; font-weight: bold\">81</span>,   <span style=\"color: #008080; text-decoration-color: #008080; font-weight: bold\">804</span>,   <span style=\"color: #008080; text-decoration-color: #008080; font-weight: bold\">397</span>,  <span style=\"color: #008080; text-decoration-color: #008080; font-weight: bold\">2575</span>,\n",
       "           <span style=\"color: #008080; text-decoration-color: #008080; font-weight: bold\">257</span>,   <span style=\"color: #008080; text-decoration-color: #008080; font-weight: bold\">690</span>, <span style=\"color: #008080; text-decoration-color: #008080; font-weight: bold\">16181</span>, <span style=\"color: #008080; text-decoration-color: #008080; font-weight: bold\">52547</span>,    <span style=\"color: #008080; text-decoration-color: #008080; font-weight: bold\">81</span>,   <span style=\"color: #008080; text-decoration-color: #008080; font-weight: bold\">804</span>,   <span style=\"color: #008080; text-decoration-color: #008080; font-weight: bold\">397</span>,  <span style=\"color: #008080; text-decoration-color: #008080; font-weight: bold\">2575</span>,   <span style=\"color: #008080; text-decoration-color: #008080; font-weight: bold\">257</span>,   <span style=\"color: #008080; text-decoration-color: #008080; font-weight: bold\">366</span>,\n",
       "           <span style=\"color: #008080; text-decoration-color: #008080; font-weight: bold\">689</span>, <span style=\"color: #008080; text-decoration-color: #008080; font-weight: bold\">52547</span>,    <span style=\"color: #008080; text-decoration-color: #008080; font-weight: bold\">81</span>,   <span style=\"color: #008080; text-decoration-color: #008080; font-weight: bold\">804</span>,   <span style=\"color: #008080; text-decoration-color: #008080; font-weight: bold\">397</span>,  <span style=\"color: #008080; text-decoration-color: #008080; font-weight: bold\">2575</span>,   <span style=\"color: #008080; text-decoration-color: #008080; font-weight: bold\">981</span>,   <span style=\"color: #008080; text-decoration-color: #008080; font-weight: bold\">366</span>,   <span style=\"color: #008080; text-decoration-color: #008080; font-weight: bold\">689</span>, <span style=\"color: #008080; text-decoration-color: #008080; font-weight: bold\">52547</span>,\n",
       "            <span style=\"color: #008080; text-decoration-color: #008080; font-weight: bold\">81</span>,   <span style=\"color: #008080; text-decoration-color: #008080; font-weight: bold\">804</span>,   <span style=\"color: #008080; text-decoration-color: #008080; font-weight: bold\">397</span>,  <span style=\"color: #008080; text-decoration-color: #008080; font-weight: bold\">2575</span>,   <span style=\"color: #008080; text-decoration-color: #008080; font-weight: bold\">256</span>,   <span style=\"color: #008080; text-decoration-color: #008080; font-weight: bold\">690</span>,  <span style=\"color: #008080; text-decoration-color: #008080; font-weight: bold\">4684</span>,   <span style=\"color: #008080; text-decoration-color: #008080; font-weight: bold\">397</span>,  <span style=\"color: #008080; text-decoration-color: #008080; font-weight: bold\">2575</span>,   <span style=\"color: #008080; text-decoration-color: #008080; font-weight: bold\">690</span>,\n",
       "          <span style=\"color: #008080; text-decoration-color: #008080; font-weight: bold\">1688</span>, <span style=\"color: #008080; text-decoration-color: #008080; font-weight: bold\">11494</span>,   <span style=\"color: #008080; text-decoration-color: #008080; font-weight: bold\">397</span>,   <span style=\"color: #008080; text-decoration-color: #008080; font-weight: bold\">785</span>,   <span style=\"color: #008080; text-decoration-color: #008080; font-weight: bold\">729</span>,   <span style=\"color: #008080; text-decoration-color: #008080; font-weight: bold\">374</span>,  <span style=\"color: #008080; text-decoration-color: #008080; font-weight: bold\">2598</span>,   <span style=\"color: #008080; text-decoration-color: #008080; font-weight: bold\">304</span>,   <span style=\"color: #008080; text-decoration-color: #008080; font-weight: bold\">279</span>,  <span style=\"color: #008080; text-decoration-color: #008080; font-weight: bold\">1887</span>,\n",
       "           <span style=\"color: #008080; text-decoration-color: #008080; font-weight: bold\">729</span>,   <span style=\"color: #008080; text-decoration-color: #008080; font-weight: bold\">315</span>,   <span style=\"color: #008080; text-decoration-color: #008080; font-weight: bold\">279</span>,  <span style=\"color: #008080; text-decoration-color: #008080; font-weight: bold\">1845</span>,   <span style=\"color: #008080; text-decoration-color: #008080; font-weight: bold\">311</span>,   <span style=\"color: #008080; text-decoration-color: #008080; font-weight: bold\">633</span>,   <span style=\"color: #008080; text-decoration-color: #008080; font-weight: bold\">264</span>,  <span style=\"color: #008080; text-decoration-color: #008080; font-weight: bold\">4194</span>,   <span style=\"color: #008080; text-decoration-color: #008080; font-weight: bold\">914</span>,   <span style=\"color: #008080; text-decoration-color: #008080; font-weight: bold\">369</span>,\n",
       "          <span style=\"color: #008080; text-decoration-color: #008080; font-weight: bold\">3037</span>,   <span style=\"color: #008080; text-decoration-color: #008080; font-weight: bold\">624</span>,   <span style=\"color: #008080; text-decoration-color: #008080; font-weight: bold\">785</span>,   <span style=\"color: #008080; text-decoration-color: #008080; font-weight: bold\">729</span>,   <span style=\"color: #008080; text-decoration-color: #008080; font-weight: bold\">374</span>,  <span style=\"color: #008080; text-decoration-color: #008080; font-weight: bold\">1483</span>,   <span style=\"color: #008080; text-decoration-color: #008080; font-weight: bold\">304</span>,   <span style=\"color: #008080; text-decoration-color: #008080; font-weight: bold\">279</span>,  <span style=\"color: #008080; text-decoration-color: #008080; font-weight: bold\">1845</span>,   <span style=\"color: #008080; text-decoration-color: #008080; font-weight: bold\">594</span>,\n",
       "          <span style=\"color: #008080; text-decoration-color: #008080; font-weight: bold\">6200</span>, <span style=\"color: #008080; text-decoration-color: #008080; font-weight: bold\">12218</span>,   <span style=\"color: #008080; text-decoration-color: #008080; font-weight: bold\">311</span>,  <span style=\"color: #008080; text-decoration-color: #008080; font-weight: bold\">7807</span>,   <span style=\"color: #008080; text-decoration-color: #008080; font-weight: bold\">264</span>,  <span style=\"color: #008080; text-decoration-color: #008080; font-weight: bold\">4194</span>,   <span style=\"color: #008080; text-decoration-color: #008080; font-weight: bold\">914</span>,   <span style=\"color: #008080; text-decoration-color: #008080; font-weight: bold\">504</span>,   <span style=\"color: #008080; text-decoration-color: #008080; font-weight: bold\">264</span>,  <span style=\"color: #008080; text-decoration-color: #008080; font-weight: bold\">1140</span>,\n",
       "           <span style=\"color: #008080; text-decoration-color: #008080; font-weight: bold\">315</span>,  <span style=\"color: #008080; text-decoration-color: #008080; font-weight: bold\">9069</span>,   <span style=\"color: #008080; text-decoration-color: #008080; font-weight: bold\">624</span>,   <span style=\"color: #008080; text-decoration-color: #008080; font-weight: bold\">785</span>,   <span style=\"color: #008080; text-decoration-color: #008080; font-weight: bold\">729</span>,  <span style=\"color: #008080; text-decoration-color: #008080; font-weight: bold\">4675</span>,   <span style=\"color: #008080; text-decoration-color: #008080; font-weight: bold\">264</span>,  <span style=\"color: #008080; text-decoration-color: #008080; font-weight: bold\">4194</span>,  <span style=\"color: #008080; text-decoration-color: #008080; font-weight: bold\">2392</span>,   <span style=\"color: #008080; text-decoration-color: #008080; font-weight: bold\">504</span>,\n",
       "           <span style=\"color: #008080; text-decoration-color: #008080; font-weight: bold\">264</span>,  <span style=\"color: #008080; text-decoration-color: #008080; font-weight: bold\">2661</span>,  <span style=\"color: #008080; text-decoration-color: #008080; font-weight: bold\">1334</span>,   <span style=\"color: #008080; text-decoration-color: #008080; font-weight: bold\">315</span>,  <span style=\"color: #008080; text-decoration-color: #008080; font-weight: bold\">9069</span>,    <span style=\"color: #008080; text-decoration-color: #008080; font-weight: bold\">11</span>,   <span style=\"color: #008080; text-decoration-color: #008080; font-weight: bold\">476</span>,  <span style=\"color: #008080; text-decoration-color: #008080; font-weight: bold\">2092</span>,   <span style=\"color: #008080; text-decoration-color: #008080; font-weight: bold\">421</span>,   <span style=\"color: #008080; text-decoration-color: #008080; font-weight: bold\">279</span>,\n",
       "          <span style=\"color: #008080; text-decoration-color: #008080; font-weight: bold\">1334</span>,   <span style=\"color: #008080; text-decoration-color: #008080; font-weight: bold\">374</span>,  <span style=\"color: #008080; text-decoration-color: #008080; font-weight: bold\">4287</span>,   <span style=\"color: #008080; text-decoration-color: #008080; font-weight: bold\">624</span>,   <span style=\"color: #008080; text-decoration-color: #008080; font-weight: bold\">785</span>,   <span style=\"color: #008080; text-decoration-color: #008080; font-weight: bold\">729</span>,   <span style=\"color: #008080; text-decoration-color: #008080; font-weight: bold\">374</span>,  <span style=\"color: #008080; text-decoration-color: #008080; font-weight: bold\">1483</span>,   <span style=\"color: #008080; text-decoration-color: #008080; font-weight: bold\">304</span>,   <span style=\"color: #008080; text-decoration-color: #008080; font-weight: bold\">279</span>,\n",
       "          <span style=\"color: #008080; text-decoration-color: #008080; font-weight: bold\">1845</span>,   <span style=\"color: #008080; text-decoration-color: #008080; font-weight: bold\">594</span>,  <span style=\"color: #008080; text-decoration-color: #008080; font-weight: bold\">6200</span>, <span style=\"color: #008080; text-decoration-color: #008080; font-weight: bold\">12218</span>,   <span style=\"color: #008080; text-decoration-color: #008080; font-weight: bold\">311</span>,  <span style=\"color: #008080; text-decoration-color: #008080; font-weight: bold\">7807</span>,   <span style=\"color: #008080; text-decoration-color: #008080; font-weight: bold\">264</span>,  <span style=\"color: #008080; text-decoration-color: #008080; font-weight: bold\">4194</span>,   <span style=\"color: #008080; text-decoration-color: #008080; font-weight: bold\">914</span>,   <span style=\"color: #008080; text-decoration-color: #008080; font-weight: bold\">504</span>,\n",
       "           <span style=\"color: #008080; text-decoration-color: #008080; font-weight: bold\">264</span>,  <span style=\"color: #008080; text-decoration-color: #008080; font-weight: bold\">1140</span>,   <span style=\"color: #008080; text-decoration-color: #008080; font-weight: bold\">315</span>,  <span style=\"color: #008080; text-decoration-color: #008080; font-weight: bold\">9069</span>,   <span style=\"color: #008080; text-decoration-color: #008080; font-weight: bold\">624</span>,   <span style=\"color: #008080; text-decoration-color: #008080; font-weight: bold\">785</span>,   <span style=\"color: #008080; text-decoration-color: #008080; font-weight: bold\">729</span>,   <span style=\"color: #008080; text-decoration-color: #008080; font-weight: bold\">374</span>,  <span style=\"color: #008080; text-decoration-color: #008080; font-weight: bold\">1483</span>,   <span style=\"color: #008080; text-decoration-color: #008080; font-weight: bold\">304</span>,\n",
       "           <span style=\"color: #008080; text-decoration-color: #008080; font-weight: bold\">279</span>,  <span style=\"color: #008080; text-decoration-color: #008080; font-weight: bold\">1887</span>,   <span style=\"color: #008080; text-decoration-color: #008080; font-weight: bold\">729</span>,   <span style=\"color: #008080; text-decoration-color: #008080; font-weight: bold\">315</span>,   <span style=\"color: #008080; text-decoration-color: #008080; font-weight: bold\">279</span>,  <span style=\"color: #008080; text-decoration-color: #008080; font-weight: bold\">1845</span>,   <span style=\"color: #008080; text-decoration-color: #008080; font-weight: bold\">311</span>,   <span style=\"color: #008080; text-decoration-color: #008080; font-weight: bold\">633</span>,   <span style=\"color: #008080; text-decoration-color: #008080; font-weight: bold\">264</span>,  <span style=\"color: #008080; text-decoration-color: #008080; font-weight: bold\">4194</span>,\n",
       "           <span style=\"color: #008080; text-decoration-color: #008080; font-weight: bold\">914</span>,   <span style=\"color: #008080; text-decoration-color: #008080; font-weight: bold\">369</span>,  <span style=\"color: #008080; text-decoration-color: #008080; font-weight: bold\">3037</span>,   <span style=\"color: #008080; text-decoration-color: #008080; font-weight: bold\">624</span>,   <span style=\"color: #008080; text-decoration-color: #008080; font-weight: bold\">785</span>,   <span style=\"color: #008080; text-decoration-color: #008080; font-weight: bold\">729</span>,  <span style=\"color: #008080; text-decoration-color: #008080; font-weight: bold\">4675</span>,   <span style=\"color: #008080; text-decoration-color: #008080; font-weight: bold\">264</span>,  <span style=\"color: #008080; text-decoration-color: #008080; font-weight: bold\">4194</span>,  <span style=\"color: #008080; text-decoration-color: #008080; font-weight: bold\">2392</span>,\n",
       "           <span style=\"color: #008080; text-decoration-color: #008080; font-weight: bold\">504</span>,   <span style=\"color: #008080; text-decoration-color: #008080; font-weight: bold\">264</span>,  <span style=\"color: #008080; text-decoration-color: #008080; font-weight: bold\">2661</span><span style=\"font-weight: bold\">]])</span>\n",
       "</pre>\n"
      ],
      "text/plain": [
       "\u001b[1;35mtensor\u001b[0m\u001b[1m(\u001b[0m\u001b[1m[\u001b[0m\u001b[1m[\u001b[0m  \u001b[1;36m198\u001b[0m,  \u001b[1;36m2610\u001b[0m,   \u001b[1;36m525\u001b[0m, \u001b[1;36m66971\u001b[0m,   \u001b[1;36m264\u001b[0m, \u001b[1;36m23670\u001b[0m,  \u001b[1;36m2038\u001b[0m,  \u001b[1;36m3152\u001b[0m,    \u001b[1;36m13\u001b[0m, \u001b[1;36m16246\u001b[0m,\n",
       "           \u001b[1;36m264\u001b[0m,   \u001b[1;36m729\u001b[0m,   \u001b[1;36m323\u001b[0m,   \u001b[1;36m264\u001b[0m,  \u001b[1;36m2805\u001b[0m,  \u001b[1;36m4008\u001b[0m,   \u001b[1;36m315\u001b[0m,  \u001b[1;36m1380\u001b[0m,   \u001b[1;36m323\u001b[0m,  \u001b[1;36m1246\u001b[0m,\n",
       "           \u001b[1;36m432\u001b[0m,   \u001b[1;36m374\u001b[0m,  \u001b[1;36m1483\u001b[0m,    \u001b[1;36m11\u001b[0m,  \u001b[1;36m3270\u001b[0m,   \u001b[1;36m264\u001b[0m,  \u001b[1;36m9705\u001b[0m,  \u001b[1;36m3980\u001b[0m,   \u001b[1;36m429\u001b[0m,  \u001b[1;36m8609\u001b[0m,\n",
       "          \u001b[1;36m3853\u001b[0m, \u001b[1;36m13402\u001b[0m,  \u001b[1;36m3535\u001b[0m,  \u001b[1;36m1181\u001b[0m,  \u001b[1;36m7428\u001b[0m,   \u001b[1;36m624\u001b[0m, \u001b[1;36m10253\u001b[0m,  \u001b[1;36m1048\u001b[0m,    \u001b[1;36m12\u001b[0m,  \u001b[1;36m3528\u001b[0m,\n",
       "         \u001b[1;36m23670\u001b[0m,  \u001b[1;36m6042\u001b[0m,   \u001b[1;36m624\u001b[0m, \u001b[1;36m22283\u001b[0m,  \u001b[1;36m5733\u001b[0m,   \u001b[1;36m323\u001b[0m,   \u001b[1;36m470\u001b[0m, \u001b[1;36m27787\u001b[0m,    \u001b[1;36m11\u001b[0m,   \u001b[1;36m323\u001b[0m,\n",
       "         \u001b[1;36m45932\u001b[0m,  \u001b[1;36m7385\u001b[0m,   \u001b[1;36m916\u001b[0m,  \u001b[1;36m8129\u001b[0m,   \u001b[1;36m624\u001b[0m,  \u001b[1;36m5598\u001b[0m,  \u001b[1;36m1172\u001b[0m,   \u001b[1;36m279\u001b[0m,  \u001b[1;36m3980\u001b[0m,   \u001b[1;36m323\u001b[0m,\n",
       "           \u001b[1;36m279\u001b[0m,   \u001b[1;36m729\u001b[0m,    \u001b[1;36m11\u001b[0m,   \u001b[1;36m902\u001b[0m, \u001b[1;36m36275\u001b[0m,    \u001b[1;36m11\u001b[0m,  \u001b[1;36m8388\u001b[0m,    \u001b[1;36m11\u001b[0m,   \u001b[1;36m902\u001b[0m, \u001b[1;36m13153\u001b[0m,\n",
       "          \u001b[1;36m2550\u001b[0m,   \u001b[1;36m624\u001b[0m,  \u001b[1;36m5152\u001b[0m,   \u001b[1;36m510\u001b[0m,  \u001b[1;36m2830\u001b[0m,  \u001b[1;36m4194\u001b[0m,  \u001b[1;36m1691\u001b[0m, \u001b[1;36m44491\u001b[0m,  \u001b[1;36m1857\u001b[0m,  \u001b[1;36m2490\u001b[0m,\n",
       "          \u001b[1;36m1334\u001b[0m,    \u001b[1;36m25\u001b[0m,   \u001b[1;36m508\u001b[0m,   \u001b[1;36m703\u001b[0m,  \u001b[1;36m2467\u001b[0m,  \u001b[1;36m1464\u001b[0m,   \u001b[1;36m923\u001b[0m,    \u001b[1;36m30\u001b[0m,   \u001b[1;36m341\u001b[0m,   \u001b[1;36m262\u001b[0m,\n",
       "           \u001b[1;36m470\u001b[0m,  \u001b[1;36m1334\u001b[0m,  \u001b[1;36m7829\u001b[0m,  \u001b[1;36m1691\u001b[0m,   \u001b[1;36m741\u001b[0m,    \u001b[1;36m92\u001b[0m,   \u001b[1;36m715\u001b[0m,  \u001b[1;36m5009\u001b[0m,   \u001b[1;36m510\u001b[0m,  \u001b[1;36m1986\u001b[0m,\n",
       "           \u001b[1;36m729\u001b[0m,  \u001b[1;36m4675\u001b[0m,   \u001b[1;36m264\u001b[0m,  \u001b[1;36m4194\u001b[0m,  \u001b[1;36m2392\u001b[0m,   \u001b[1;36m504\u001b[0m,   \u001b[1;36m264\u001b[0m,  \u001b[1;36m2661\u001b[0m,  \u001b[1;36m1334\u001b[0m,   \u001b[1;36m315\u001b[0m,\n",
       "          \u001b[1;36m9069\u001b[0m,    \u001b[1;36m11\u001b[0m,   \u001b[1;36m476\u001b[0m,  \u001b[1;36m2092\u001b[0m,   \u001b[1;36m421\u001b[0m,   \u001b[1;36m279\u001b[0m,  \u001b[1;36m1334\u001b[0m,   \u001b[1;36m374\u001b[0m,  \u001b[1;36m4287\u001b[0m,   \u001b[1;36m624\u001b[0m,\n",
       "           \u001b[1;36m785\u001b[0m,   \u001b[1;36m729\u001b[0m,   \u001b[1;36m374\u001b[0m,  \u001b[1;36m1483\u001b[0m,   \u001b[1;36m304\u001b[0m,   \u001b[1;36m279\u001b[0m,  \u001b[1;36m1845\u001b[0m,   \u001b[1;36m594\u001b[0m,  \u001b[1;36m6200\u001b[0m, \u001b[1;36m12218\u001b[0m,\n",
       "           \u001b[1;36m311\u001b[0m,  \u001b[1;36m7807\u001b[0m,   \u001b[1;36m264\u001b[0m,  \u001b[1;36m4194\u001b[0m,   \u001b[1;36m914\u001b[0m,   \u001b[1;36m504\u001b[0m,   \u001b[1;36m264\u001b[0m,  \u001b[1;36m1140\u001b[0m,   \u001b[1;36m315\u001b[0m,  \u001b[1;36m9069\u001b[0m,\n",
       "           \u001b[1;36m624\u001b[0m,   \u001b[1;36m785\u001b[0m,   \u001b[1;36m729\u001b[0m,   \u001b[1;36m374\u001b[0m,  \u001b[1;36m2598\u001b[0m,   \u001b[1;36m304\u001b[0m,   \u001b[1;36m279\u001b[0m,  \u001b[1;36m1887\u001b[0m,   \u001b[1;36m729\u001b[0m,   \u001b[1;36m315\u001b[0m,\n",
       "           \u001b[1;36m279\u001b[0m,  \u001b[1;36m1845\u001b[0m,   \u001b[1;36m311\u001b[0m,   \u001b[1;36m633\u001b[0m,   \u001b[1;36m264\u001b[0m,  \u001b[1;36m4194\u001b[0m,   \u001b[1;36m914\u001b[0m,   \u001b[1;36m369\u001b[0m,  \u001b[1;36m3037\u001b[0m,   \u001b[1;36m382\u001b[0m,\n",
       "           \u001b[1;36m785\u001b[0m,  \u001b[1;36m3980\u001b[0m,  \u001b[1;36m1265\u001b[0m,   \u001b[1;36m387\u001b[0m,   \u001b[1;36m304\u001b[0m,   \u001b[1;36m279\u001b[0m,  \u001b[1;36m1352\u001b[0m,   \u001b[1;36m315\u001b[0m,   \u001b[1;36m510\u001b[0m,  \u001b[1;36m2575\u001b[0m,\n",
       "           \u001b[1;36m366\u001b[0m,  \u001b[1;36m1688\u001b[0m, \u001b[1;36m11494\u001b[0m,  \u001b[1;36m2235\u001b[0m,    \u001b[1;36m27\u001b[0m, \u001b[1;36m16181\u001b[0m, \u001b[1;36m10604\u001b[0m,    \u001b[1;36m29\u001b[0m,   \u001b[1;36m366\u001b[0m, \u001b[1;36m16181\u001b[0m,\n",
       "         \u001b[1;36m11494\u001b[0m,    \u001b[1;36m29\u001b[0m, \u001b[1;36m32574\u001b[0m,  \u001b[1;36m1464\u001b[0m,   \u001b[1;36m366\u001b[0m,   \u001b[1;36m689\u001b[0m, \u001b[1;36m10604\u001b[0m,   \u001b[1;36m397\u001b[0m,  \u001b[1;36m2575\u001b[0m,   \u001b[1;36m256\u001b[0m,\n",
       "           \u001b[1;36m366\u001b[0m,  \u001b[1;36m4684\u001b[0m,   \u001b[1;36m397\u001b[0m,  \u001b[1;36m2575\u001b[0m,   \u001b[1;36m257\u001b[0m,   \u001b[1;36m366\u001b[0m, \u001b[1;36m16181\u001b[0m, \u001b[1;36m52547\u001b[0m,    \u001b[1;36m81\u001b[0m,   \u001b[1;36m804\u001b[0m,\n",
       "           \u001b[1;36m397\u001b[0m,  \u001b[1;36m2575\u001b[0m,   \u001b[1;36m981\u001b[0m,   \u001b[1;36m366\u001b[0m, \u001b[1;36m16181\u001b[0m, \u001b[1;36m52547\u001b[0m,    \u001b[1;36m81\u001b[0m,   \u001b[1;36m804\u001b[0m,   \u001b[1;36m397\u001b[0m,  \u001b[1;36m2575\u001b[0m,\n",
       "           \u001b[1;36m257\u001b[0m,   \u001b[1;36m690\u001b[0m, \u001b[1;36m16181\u001b[0m, \u001b[1;36m52547\u001b[0m,    \u001b[1;36m81\u001b[0m,   \u001b[1;36m804\u001b[0m,   \u001b[1;36m397\u001b[0m,  \u001b[1;36m2575\u001b[0m,   \u001b[1;36m257\u001b[0m,   \u001b[1;36m366\u001b[0m,\n",
       "           \u001b[1;36m689\u001b[0m, \u001b[1;36m52547\u001b[0m,    \u001b[1;36m81\u001b[0m,   \u001b[1;36m804\u001b[0m,   \u001b[1;36m397\u001b[0m,  \u001b[1;36m2575\u001b[0m,   \u001b[1;36m981\u001b[0m,   \u001b[1;36m366\u001b[0m,   \u001b[1;36m689\u001b[0m, \u001b[1;36m52547\u001b[0m,\n",
       "            \u001b[1;36m81\u001b[0m,   \u001b[1;36m804\u001b[0m,   \u001b[1;36m397\u001b[0m,  \u001b[1;36m2575\u001b[0m,   \u001b[1;36m256\u001b[0m,   \u001b[1;36m690\u001b[0m,  \u001b[1;36m4684\u001b[0m,   \u001b[1;36m397\u001b[0m,  \u001b[1;36m2575\u001b[0m,   \u001b[1;36m690\u001b[0m,\n",
       "          \u001b[1;36m1688\u001b[0m, \u001b[1;36m11494\u001b[0m,   \u001b[1;36m397\u001b[0m,   \u001b[1;36m785\u001b[0m,   \u001b[1;36m729\u001b[0m,   \u001b[1;36m374\u001b[0m,  \u001b[1;36m2598\u001b[0m,   \u001b[1;36m304\u001b[0m,   \u001b[1;36m279\u001b[0m,  \u001b[1;36m1887\u001b[0m,\n",
       "           \u001b[1;36m729\u001b[0m,   \u001b[1;36m315\u001b[0m,   \u001b[1;36m279\u001b[0m,  \u001b[1;36m1845\u001b[0m,   \u001b[1;36m311\u001b[0m,   \u001b[1;36m633\u001b[0m,   \u001b[1;36m264\u001b[0m,  \u001b[1;36m4194\u001b[0m,   \u001b[1;36m914\u001b[0m,   \u001b[1;36m369\u001b[0m,\n",
       "          \u001b[1;36m3037\u001b[0m,   \u001b[1;36m624\u001b[0m,   \u001b[1;36m785\u001b[0m,   \u001b[1;36m729\u001b[0m,   \u001b[1;36m374\u001b[0m,  \u001b[1;36m1483\u001b[0m,   \u001b[1;36m304\u001b[0m,   \u001b[1;36m279\u001b[0m,  \u001b[1;36m1845\u001b[0m,   \u001b[1;36m594\u001b[0m,\n",
       "          \u001b[1;36m6200\u001b[0m, \u001b[1;36m12218\u001b[0m,   \u001b[1;36m311\u001b[0m,  \u001b[1;36m7807\u001b[0m,   \u001b[1;36m264\u001b[0m,  \u001b[1;36m4194\u001b[0m,   \u001b[1;36m914\u001b[0m,   \u001b[1;36m504\u001b[0m,   \u001b[1;36m264\u001b[0m,  \u001b[1;36m1140\u001b[0m,\n",
       "           \u001b[1;36m315\u001b[0m,  \u001b[1;36m9069\u001b[0m,   \u001b[1;36m624\u001b[0m,   \u001b[1;36m785\u001b[0m,   \u001b[1;36m729\u001b[0m,  \u001b[1;36m4675\u001b[0m,   \u001b[1;36m264\u001b[0m,  \u001b[1;36m4194\u001b[0m,  \u001b[1;36m2392\u001b[0m,   \u001b[1;36m504\u001b[0m,\n",
       "           \u001b[1;36m264\u001b[0m,  \u001b[1;36m2661\u001b[0m,  \u001b[1;36m1334\u001b[0m,   \u001b[1;36m315\u001b[0m,  \u001b[1;36m9069\u001b[0m,    \u001b[1;36m11\u001b[0m,   \u001b[1;36m476\u001b[0m,  \u001b[1;36m2092\u001b[0m,   \u001b[1;36m421\u001b[0m,   \u001b[1;36m279\u001b[0m,\n",
       "          \u001b[1;36m1334\u001b[0m,   \u001b[1;36m374\u001b[0m,  \u001b[1;36m4287\u001b[0m,   \u001b[1;36m624\u001b[0m,   \u001b[1;36m785\u001b[0m,   \u001b[1;36m729\u001b[0m,   \u001b[1;36m374\u001b[0m,  \u001b[1;36m1483\u001b[0m,   \u001b[1;36m304\u001b[0m,   \u001b[1;36m279\u001b[0m,\n",
       "          \u001b[1;36m1845\u001b[0m,   \u001b[1;36m594\u001b[0m,  \u001b[1;36m6200\u001b[0m, \u001b[1;36m12218\u001b[0m,   \u001b[1;36m311\u001b[0m,  \u001b[1;36m7807\u001b[0m,   \u001b[1;36m264\u001b[0m,  \u001b[1;36m4194\u001b[0m,   \u001b[1;36m914\u001b[0m,   \u001b[1;36m504\u001b[0m,\n",
       "           \u001b[1;36m264\u001b[0m,  \u001b[1;36m1140\u001b[0m,   \u001b[1;36m315\u001b[0m,  \u001b[1;36m9069\u001b[0m,   \u001b[1;36m624\u001b[0m,   \u001b[1;36m785\u001b[0m,   \u001b[1;36m729\u001b[0m,   \u001b[1;36m374\u001b[0m,  \u001b[1;36m1483\u001b[0m,   \u001b[1;36m304\u001b[0m,\n",
       "           \u001b[1;36m279\u001b[0m,  \u001b[1;36m1887\u001b[0m,   \u001b[1;36m729\u001b[0m,   \u001b[1;36m315\u001b[0m,   \u001b[1;36m279\u001b[0m,  \u001b[1;36m1845\u001b[0m,   \u001b[1;36m311\u001b[0m,   \u001b[1;36m633\u001b[0m,   \u001b[1;36m264\u001b[0m,  \u001b[1;36m4194\u001b[0m,\n",
       "           \u001b[1;36m914\u001b[0m,   \u001b[1;36m369\u001b[0m,  \u001b[1;36m3037\u001b[0m,   \u001b[1;36m624\u001b[0m,   \u001b[1;36m785\u001b[0m,   \u001b[1;36m729\u001b[0m,  \u001b[1;36m4675\u001b[0m,   \u001b[1;36m264\u001b[0m,  \u001b[1;36m4194\u001b[0m,  \u001b[1;36m2392\u001b[0m,\n",
       "           \u001b[1;36m504\u001b[0m,   \u001b[1;36m264\u001b[0m,  \u001b[1;36m2661\u001b[0m\u001b[1m]\u001b[0m\u001b[1m]\u001b[0m\u001b[1m)\u001b[0m\n"
      ]
     },
     "metadata": {},
     "output_type": "display_data"
    }
   ],
   "source": [
    "# promt = \"\"\"\n",
    "# You are a senior Swift developer.\n",
    "# Given a Swift function, generate a short, plain-language summary as a documentation comment using ///.\n",
    "# Keep the comment concise — just 1–2 sentences describing what the function does.\n",
    "# Return only the documentation and the original function.\n",
    "# It is very important that you only provide the final output without any additional comments or remarks\n",
    "# func median(of numbers: [Double]) -> Double? {\n",
    "#     guard !numbers.isEmpty else { return nil }\n",
    "#     let sorted = numbers.sorted()\n",
    "#     let mid = sorted.count / 2\n",
    "#     return sorted.count % 2 == 0\n",
    "#         ? (sorted[mid - 1] + sorted[mid]) / 2\n",
    "#         : sorted[mid]\n",
    "# }\n",
    "# \"\"\"\n",
    "\n",
    "# Лучшая версия promts для deepseek-coder\n",
    "promt = \"\"\"\n",
    "You are documenting a Swift codebase. Given a function and a short description of where and how it is used, write a documentation comment that helps future developers understand its purpose.\n",
    "Use ///-style Swift comments.\n",
    "Include parameter and return descriptions, and emphasize intent over implementation.\n",
    "Return only the comment and the function, no extras, notes, no repeat output.\n",
    "\n",
    "func randomElementFromStringArray(_ array: [String]) -> String? {\n",
    "    return array.randomElement()\n",
    "} \n",
    "\"\"\"\n",
    "\n",
    "print(model.generation_config)\n",
    "inputs = tokenizer(promt, return_tensors=\"pt\").to(device)\n",
    "outputs = model.generate(\n",
    "    **inputs,\n",
    "    max_new_tokens = 256,\n",
    "    do_sample=True\n",
    ")\n",
    "\n",
    "print(outputs)"
   ]
  },
  {
   "cell_type": "code",
   "execution_count": 10,
   "id": "33f5c479",
   "metadata": {},
   "outputs": [
    {
     "data": {
      "text/html": [
       "<pre style=\"white-space:pre;overflow-x:auto;line-height:normal;font-family:Menlo,'DejaVu Sans Mono',consolas,'Courier New',monospace\">Predict: \n",
       " Description:\n",
       "This function returns a random element from a given array of strings, or nil if the array is empty.\n",
       "The function is used in the App's core logic to fetch a random string from a list of strings.\n",
       "The function is called in the main function of the App to get a random string for display.\n",
       "\n",
       "The comment should be in the form of:\n",
       "<span style=\"color: #800080; text-decoration-color: #800080\">///</span> <span style=\"font-weight: bold\">&lt;</span><span style=\"color: #ff00ff; text-decoration-color: #ff00ff; font-weight: bold\">function-name</span><span style=\"color: #000000; text-decoration-color: #000000\">&gt;</span><span style=\"color: #000000; text-decoration-color: #000000; font-weight: bold\">(</span><span style=\"color: #000000; text-decoration-color: #000000\">&lt;parameter-type&gt; &lt;parameter-name&gt;</span><span style=\"color: #808000; text-decoration-color: #808000\">...</span><span style=\"color: #000000; text-decoration-color: #000000; font-weight: bold\">)</span><span style=\"color: #000000; text-decoration-color: #000000\"> -&gt; &lt;return-type&gt;</span>\n",
       "<span style=\"color: #800080; text-decoration-color: #800080\">///</span><span style=\"color: #000000; text-decoration-color: #000000\">   &lt;description&gt;</span>\n",
       "<span style=\"color: #800080; text-decoration-color: #800080\">///</span><span style=\"color: #000000; text-decoration-color: #000000\">     &lt;parameter-descrations&gt;</span>\n",
       "<span style=\"color: #800080; text-decoration-color: #800080\">///</span><span style=\"color: #000000; text-decoration-color: #000000\">       &lt;parameter-descrations&gt;</span>\n",
       "<span style=\"color: #800080; text-decoration-color: #800080\">///</span><span style=\"color: #000000; text-decoration-color: #000000\">     &lt;</span><span style=\"color: #800080; text-decoration-color: #800080\">/</span><span style=\"color: #ff00ff; text-decoration-color: #ff00ff\">parameter-descrations</span><span style=\"color: #000000; text-decoration-color: #000000\">&gt;</span>\n",
       "<span style=\"color: #800080; text-decoration-color: #800080\">///</span><span style=\"color: #000000; text-decoration-color: #000000\">     &lt;return-descrations&gt;</span>\n",
       "<span style=\"color: #800080; text-decoration-color: #800080\">///</span><span style=\"color: #000000; text-decoration-color: #000000\">       &lt;return-descrations&gt;</span>\n",
       "<span style=\"color: #800080; text-decoration-color: #800080\">///</span><span style=\"color: #000000; text-decoration-color: #000000\">   &lt;</span><span style=\"color: #800080; text-decoration-color: #800080\">/</span><span style=\"color: #ff00ff; text-decoration-color: #ff00ff\">description</span><span style=\"color: #000000; text-decoration-color: #000000\">&gt;</span>\n",
       "<span style=\"color: #800080; text-decoration-color: #800080\">///</span><span style=\"color: #000000; text-decoration-color: #000000\"> &lt;</span><span style=\"color: #800080; text-decoration-color: #800080\">/</span><span style=\"color: #ff00ff; text-decoration-color: #ff00ff\">function-name</span><span style=\"font-weight: bold\">&gt;</span>\n",
       "The function is called in the main function of the App to get a random string for display.\n",
       "The function is used in the App's core logic to fetch a random string from a list of strings.\n",
       "The function returns a random element from a given array of strings, or nil if the array is empty.\n",
       "The function is used in the App's core logic to fetch a random string from a list of strings.\n",
       "The function is used in the main function of the App to get a random string for display.\n",
       "The function returns a random element from a given\n",
       "</pre>\n"
      ],
      "text/plain": [
       "Predict: \n",
       " Description:\n",
       "This function returns a random element from a given array of strings, or nil if the array is empty.\n",
       "The function is used in the App's core logic to fetch a random string from a list of strings.\n",
       "The function is called in the main function of the App to get a random string for display.\n",
       "\n",
       "The comment should be in the form of:\n",
       "\u001b[35m/\u001b[0m\u001b[35m/\u001b[0m\u001b[35m/\u001b[0m \u001b[1m<\u001b[0m\u001b[1;95mfunction-name\u001b[0m\u001b[39m>\u001b[0m\u001b[1;39m(\u001b[0m\u001b[39m<parameter-type> <parameter-name>\u001b[0m\u001b[33m...\u001b[0m\u001b[1;39m)\u001b[0m\u001b[39m -> <return-type>\u001b[0m\n",
       "\u001b[35m/\u001b[0m\u001b[35m/\u001b[0m\u001b[35m/\u001b[0m\u001b[39m   <description>\u001b[0m\n",
       "\u001b[35m/\u001b[0m\u001b[35m/\u001b[0m\u001b[35m/\u001b[0m\u001b[39m     <parameter-descrations>\u001b[0m\n",
       "\u001b[35m/\u001b[0m\u001b[35m/\u001b[0m\u001b[35m/\u001b[0m\u001b[39m       <parameter-descrations>\u001b[0m\n",
       "\u001b[35m/\u001b[0m\u001b[35m/\u001b[0m\u001b[35m/\u001b[0m\u001b[39m     <\u001b[0m\u001b[35m/\u001b[0m\u001b[95mparameter-descrations\u001b[0m\u001b[39m>\u001b[0m\n",
       "\u001b[35m/\u001b[0m\u001b[35m/\u001b[0m\u001b[35m/\u001b[0m\u001b[39m     <return-descrations>\u001b[0m\n",
       "\u001b[35m/\u001b[0m\u001b[35m/\u001b[0m\u001b[35m/\u001b[0m\u001b[39m       <return-descrations>\u001b[0m\n",
       "\u001b[35m/\u001b[0m\u001b[35m/\u001b[0m\u001b[35m/\u001b[0m\u001b[39m   <\u001b[0m\u001b[35m/\u001b[0m\u001b[95mdescription\u001b[0m\u001b[39m>\u001b[0m\n",
       "\u001b[35m/\u001b[0m\u001b[35m/\u001b[0m\u001b[35m/\u001b[0m\u001b[39m <\u001b[0m\u001b[35m/\u001b[0m\u001b[95mfunction-name\u001b[0m\u001b[1m>\u001b[0m\n",
       "The function is called in the main function of the App to get a random string for display.\n",
       "The function is used in the App's core logic to fetch a random string from a list of strings.\n",
       "The function returns a random element from a given array of strings, or nil if the array is empty.\n",
       "The function is used in the App's core logic to fetch a random string from a list of strings.\n",
       "The function is used in the main function of the App to get a random string for display.\n",
       "The function returns a random element from a given\n"
      ]
     },
     "metadata": {},
     "output_type": "display_data"
    }
   ],
   "source": [
    "# Получаем длины исходных входов\n",
    "input_lengths = inputs['input_ids'].shape[1]\n",
    "# Убираем токены prompt'а\n",
    "generated_tokens = outputs[:, input_lengths:]\n",
    "# Декодируем только новые токены\n",
    "predictions = tokenizer.batch_decode(generated_tokens, skip_special_tokens=True)\n",
    "\n",
    "for predict in predictions:\n",
    "    print(\"Predict: \\n\", predict)"
   ]
  },
  {
   "cell_type": "code",
   "execution_count": 46,
   "id": "614d6685",
   "metadata": {},
   "outputs": [
    {
     "data": {
      "text/html": [
       "<pre style=\"white-space:pre;overflow-x:auto;line-height:normal;font-family:Menlo,'DejaVu Sans Mono',consolas,'Courier New',monospace\"><span style=\"color: #800080; text-decoration-color: #800080; font-weight: bold\">torch.Size</span><span style=\"font-weight: bold\">([</span><span style=\"color: #008080; text-decoration-color: #008080; font-weight: bold\">1</span>, <span style=\"color: #008080; text-decoration-color: #008080; font-weight: bold\">163</span><span style=\"font-weight: bold\">])</span>\n",
       "</pre>\n"
      ],
      "text/plain": [
       "\u001b[1;35mtorch.Size\u001b[0m\u001b[1m(\u001b[0m\u001b[1m[\u001b[0m\u001b[1;36m1\u001b[0m, \u001b[1;36m163\u001b[0m\u001b[1m]\u001b[0m\u001b[1m)\u001b[0m\n"
      ]
     },
     "metadata": {},
     "output_type": "display_data"
    }
   ],
   "source": [
    "print(outputs.shape)"
   ]
  },
  {
   "cell_type": "code",
   "execution_count": 47,
   "id": "df70cdc4",
   "metadata": {},
   "outputs": [
    {
     "name": "stderr",
     "output_type": "stream",
     "text": [
      "100%|██████████| 6/6 [02:37<00:00, 26.27s/it]\n"
     ]
    }
   ],
   "source": [
    "predictions = []\n",
    "\n",
    "for input in tqdm(ds_test[\"input\"]):\n",
    "    promt = f\"\"\"You are documenting a Swift codebase.\n",
    "Given a function and a short description of where and how it is used, write a documentation comment that helps future developers understand its purpose.\n",
    "Use ///-style Swift comments.\n",
    "Include parameter and return descriptions, and emphasize intent over implementation.\n",
    "Return only the comment and the function.\n",
    "{input}\n",
    "    \"\"\"\n",
    "    inputs = tokenizer(promt, return_tensors=\"pt\").to(device)\n",
    "    outputs = model.generate(\n",
    "        **inputs,\n",
    "        max_new_tokens = 200,\n",
    "        eos_token_id=tokenizer.eos_token_id,\n",
    "        pad_token_id=tokenizer.eos_token_id,   # чтобы декодер не ругался\n",
    "        do_sample=True,\n",
    "        temperature=0.7,\n",
    "        top_p=0.95)\n",
    "    input_lengths = inputs.input_ids.shape[1]\n",
    "    generated_tokens = outputs[:, input_lengths:]\n",
    "    result = tokenizer.batch_decode(generated_tokens, skip_special_tokens=True)\n",
    "    predictions.append(result[0])"
   ]
  },
  {
   "cell_type": "code",
   "execution_count": 50,
   "id": "977c98e3",
   "metadata": {},
   "outputs": [
    {
     "data": {
      "text/html": [
       "<pre style=\"white-space:pre;overflow-x:auto;line-height:normal;font-family:Menlo,'DejaVu Sans Mono',consolas,'Courier New',monospace\"><span style=\"color: #008000; text-decoration-color: #008000; font-weight: bold\"> Predict </span>\n",
       "</pre>\n"
      ],
      "text/plain": [
       "\u001b[1;32m Predict \u001b[0m\n"
      ]
     },
     "metadata": {},
     "output_type": "display_data"
    },
    {
     "data": {
      "text/html": [
       "<pre style=\"white-space:pre;overflow-x:auto;line-height:normal;font-family:Menlo,'DejaVu Sans Mono',consolas,'Courier New',monospace\">\n",
       "    \n",
       "<span style=\"color: #800080; text-decoration-color: #800080\">/</span>**\n",
       " Returns a random element from an array of strings.\n",
       " @param array - An array of strings.\n",
       " @returns A random element from the array.\n",
       " *<span style=\"color: #800080; text-decoration-color: #800080\">/</span>\n",
       "func <span style=\"color: #800080; text-decoration-color: #800080; font-weight: bold\">randomElementFromStringArray</span><span style=\"font-weight: bold\">(</span>_ array: <span style=\"font-weight: bold\">[</span>String<span style=\"font-weight: bold\">])</span> -&gt; String? <span style=\"font-weight: bold\">{</span>\n",
       "    return <span style=\"color: #800080; text-decoration-color: #800080; font-weight: bold\">array.randomElement</span><span style=\"font-weight: bold\">()</span>\n",
       "<span style=\"font-weight: bold\">}</span>\n",
       "\n",
       "\n",
       "\n",
       "\n",
       "\n",
       "\n",
       "\n",
       "</pre>\n"
      ],
      "text/plain": [
       "\n",
       "    \n",
       "\u001b[35m/\u001b[0m**\n",
       " Returns a random element from an array of strings.\n",
       " @param array - An array of strings.\n",
       " @returns A random element from the array.\n",
       " *\u001b[35m/\u001b[0m\n",
       "func \u001b[1;35mrandomElementFromStringArray\u001b[0m\u001b[1m(\u001b[0m_ array: \u001b[1m[\u001b[0mString\u001b[1m]\u001b[0m\u001b[1m)\u001b[0m -> String? \u001b[1m{\u001b[0m\n",
       "    return \u001b[1;35marray.randomElement\u001b[0m\u001b[1m(\u001b[0m\u001b[1m)\u001b[0m\n",
       "\u001b[1m}\u001b[0m\n",
       "\n",
       "\n",
       "\n",
       "\n",
       "\n",
       "\n",
       "\n"
      ]
     },
     "metadata": {},
     "output_type": "display_data"
    },
    {
     "data": {
      "text/html": [
       "<pre style=\"white-space:pre;overflow-x:auto;line-height:normal;font-family:Menlo,'DejaVu Sans Mono',consolas,'Courier New',monospace\"><span style=\"color: #008000; text-decoration-color: #008000; font-weight: bold\"> Predict </span>\n",
       "</pre>\n"
      ],
      "text/plain": [
       "\u001b[1;32m Predict \u001b[0m\n"
      ]
     },
     "metadata": {},
     "output_type": "display_data"
    },
    {
     "data": {
      "text/html": [
       "<pre style=\"white-space:pre;overflow-x:auto;line-height:normal;font-family:Menlo,'DejaVu Sans Mono',consolas,'Courier New',monospace\">\n",
       "<span style=\"color: #800080; text-decoration-color: #800080\">//</span> Returns the square root of a number.\n",
       "<span style=\"color: #800080; text-decoration-color: #800080\">//</span>\n",
       "<span style=\"color: #800080; text-decoration-color: #800080\">//</span> - number: The number to take the square root of.\n",
       "<span style=\"color: #800080; text-decoration-color: #800080\">//</span> - returns: The square root of `number`.\n",
       "func <span style=\"color: #800080; text-decoration-color: #800080; font-weight: bold\">squareRoot</span><span style=\"font-weight: bold\">(</span>of number: Double<span style=\"font-weight: bold\">)</span> -&gt; Double <span style=\"font-weight: bold\">{</span>\n",
       "    return <span style=\"color: #800080; text-decoration-color: #800080; font-weight: bold\">sqrt</span><span style=\"font-weight: bold\">(</span>number<span style=\"font-weight: bold\">)</span>\n",
       "<span style=\"font-weight: bold\">}</span>\n",
       "\n",
       "\n",
       "\n",
       "</pre>\n"
      ],
      "text/plain": [
       "\n",
       "\u001b[35m/\u001b[0m\u001b[35m/\u001b[0m Returns the square root of a number.\n",
       "\u001b[35m/\u001b[0m\u001b[35m/\u001b[0m\n",
       "\u001b[35m/\u001b[0m\u001b[35m/\u001b[0m - number: The number to take the square root of.\n",
       "\u001b[35m/\u001b[0m\u001b[35m/\u001b[0m - returns: The square root of `number`.\n",
       "func \u001b[1;35msquareRoot\u001b[0m\u001b[1m(\u001b[0mof number: Double\u001b[1m)\u001b[0m -> Double \u001b[1m{\u001b[0m\n",
       "    return \u001b[1;35msqrt\u001b[0m\u001b[1m(\u001b[0mnumber\u001b[1m)\u001b[0m\n",
       "\u001b[1m}\u001b[0m\n",
       "\n",
       "\n",
       "\n"
      ]
     },
     "metadata": {},
     "output_type": "display_data"
    },
    {
     "data": {
      "text/html": [
       "<pre style=\"white-space:pre;overflow-x:auto;line-height:normal;font-family:Menlo,'DejaVu Sans Mono',consolas,'Courier New',monospace\"><span style=\"color: #008000; text-decoration-color: #008000; font-weight: bold\"> Predict </span>\n",
       "</pre>\n"
      ],
      "text/plain": [
       "\u001b[1;32m Predict \u001b[0m\n"
      ]
     },
     "metadata": {},
     "output_type": "display_data"
    },
    {
     "data": {
      "text/html": [
       "<pre style=\"white-space:pre;overflow-x:auto;line-height:normal;font-family:Menlo,'DejaVu Sans Mono',consolas,'Courier New',monospace\">\n",
       "<span style=\"color: #800080; text-decoration-color: #800080\">///</span> Returns a `Bool` indicating whether `array` is a palindrome.\n",
       "<span style=\"color: #800080; text-decoration-color: #800080\">///</span> \n",
       "<span style=\"color: #800080; text-decoration-color: #800080\">///</span> - Parameter array: An array of values of the same type.\n",
       "<span style=\"color: #800080; text-decoration-color: #800080\">///</span> - Return Value: `true` if `array` is a palindrome, `false` otherwise.\n",
       "func isPalindrome<span style=\"font-weight: bold\">&lt;</span><span style=\"color: #ff00ff; text-decoration-color: #ff00ff; font-weight: bold\">T:</span><span style=\"color: #000000; text-decoration-color: #000000\"> Equatable&gt;</span><span style=\"color: #000000; text-decoration-color: #000000; font-weight: bold\">(</span><span style=\"color: #000000; text-decoration-color: #000000\">_ array: </span><span style=\"color: #000000; text-decoration-color: #000000; font-weight: bold\">[</span><span style=\"color: #000000; text-decoration-color: #000000\">T</span><span style=\"color: #000000; text-decoration-color: #000000; font-weight: bold\">])</span><span style=\"color: #000000; text-decoration-color: #000000\"> -</span><span style=\"font-weight: bold\">&gt;</span> Bool <span style=\"font-weight: bold\">{</span>\n",
       "    return array == <span style=\"color: #800080; text-decoration-color: #800080; font-weight: bold\">array.reversed</span><span style=\"font-weight: bold\">()</span>\n",
       "<span style=\"font-weight: bold\">}</span>\n",
       "\n",
       "</pre>\n"
      ],
      "text/plain": [
       "\n",
       "\u001b[35m/\u001b[0m\u001b[35m/\u001b[0m\u001b[35m/\u001b[0m Returns a `Bool` indicating whether `array` is a palindrome.\n",
       "\u001b[35m/\u001b[0m\u001b[35m/\u001b[0m\u001b[35m/\u001b[0m \n",
       "\u001b[35m/\u001b[0m\u001b[35m/\u001b[0m\u001b[35m/\u001b[0m - Parameter array: An array of values of the same type.\n",
       "\u001b[35m/\u001b[0m\u001b[35m/\u001b[0m\u001b[35m/\u001b[0m - Return Value: `true` if `array` is a palindrome, `false` otherwise.\n",
       "func isPalindrome\u001b[1m<\u001b[0m\u001b[1;95mT:\u001b[0m\u001b[39m Equatable>\u001b[0m\u001b[1;39m(\u001b[0m\u001b[39m_ array: \u001b[0m\u001b[1;39m[\u001b[0m\u001b[39mT\u001b[0m\u001b[1;39m]\u001b[0m\u001b[1;39m)\u001b[0m\u001b[39m -\u001b[0m\u001b[1m>\u001b[0m Bool \u001b[1m{\u001b[0m\n",
       "    return array == \u001b[1;35marray.reversed\u001b[0m\u001b[1m(\u001b[0m\u001b[1m)\u001b[0m\n",
       "\u001b[1m}\u001b[0m\n",
       "\n"
      ]
     },
     "metadata": {},
     "output_type": "display_data"
    },
    {
     "data": {
      "text/html": [
       "<pre style=\"white-space:pre;overflow-x:auto;line-height:normal;font-family:Menlo,'DejaVu Sans Mono',consolas,'Courier New',monospace\"><span style=\"color: #008000; text-decoration-color: #008000; font-weight: bold\"> Predict </span>\n",
       "</pre>\n"
      ],
      "text/plain": [
       "\u001b[1;32m Predict \u001b[0m\n"
      ]
     },
     "metadata": {},
     "output_type": "display_data"
    },
    {
     "data": {
      "text/html": [
       "<pre style=\"white-space:pre;overflow-x:auto;line-height:normal;font-family:Menlo,'DejaVu Sans Mono',consolas,'Courier New',monospace\">\n",
       "<span style=\"color: #800080; text-decoration-color: #800080\">/////</span>\n",
       "<span style=\"color: #800080; text-decoration-color: #800080\">//</span> Checks if a given email address is valid.\n",
       "<span style=\"color: #800080; text-decoration-color: #800080\">//</span>\n",
       "<span style=\"color: #800080; text-decoration-color: #800080\">//</span> - Parameter email: The email address to check.\n",
       "<span style=\"color: #800080; text-decoration-color: #800080\">//</span> - Returns: `true` if the email address is valid, `false` otherwise.\n",
       "func <span style=\"color: #800080; text-decoration-color: #800080; font-weight: bold\">isValidEmail</span><span style=\"font-weight: bold\">(</span>email: String<span style=\"font-weight: bold\">)</span> -&gt; Bool <span style=\"font-weight: bold\">{</span>\n",
       "    let pattern = <span style=\"color: #008000; text-decoration-color: #008000\">\"^[A-Z0-9._%+-]+@[A-Z0-9.-]+\\\\.[A-Z]{2,}$\"</span>\n",
       "    let regex = try? <span style=\"color: #800080; text-decoration-color: #800080; font-weight: bold\">NSRegularExpression</span><span style=\"font-weight: bold\">(</span>pattern: pattern, options: .caseInsensitive<span style=\"font-weight: bold\">)</span>\n",
       "    return regex?<span style=\"color: #800080; text-decoration-color: #800080; font-weight: bold\">.firstMatch</span><span style=\"font-weight: bold\">(</span>in: email, options: <span style=\"font-weight: bold\">[]</span>, range: <span style=\"color: #800080; text-decoration-color: #800080; font-weight: bold\">NSRange</span><span style=\"font-weight: bold\">(</span>location: <span style=\"color: #008080; text-decoration-color: #008080; font-weight: bold\">0</span>, length: email.utf16.count<span style=\"font-weight: bold\">))</span> != nil\n",
       "<span style=\"font-weight: bold\">}</span>\n",
       "\n",
       "</pre>\n"
      ],
      "text/plain": [
       "\n",
       "\u001b[35m/\u001b[0m\u001b[35m/\u001b[0m\u001b[35m/\u001b[0m\u001b[35m/\u001b[0m\u001b[35m/\u001b[0m\n",
       "\u001b[35m/\u001b[0m\u001b[35m/\u001b[0m Checks if a given email address is valid.\n",
       "\u001b[35m/\u001b[0m\u001b[35m/\u001b[0m\n",
       "\u001b[35m/\u001b[0m\u001b[35m/\u001b[0m - Parameter email: The email address to check.\n",
       "\u001b[35m/\u001b[0m\u001b[35m/\u001b[0m - Returns: `true` if the email address is valid, `false` otherwise.\n",
       "func \u001b[1;35misValidEmail\u001b[0m\u001b[1m(\u001b[0memail: String\u001b[1m)\u001b[0m -> Bool \u001b[1m{\u001b[0m\n",
       "    let pattern = \u001b[32m\"^\u001b[0m\u001b[32m[\u001b[0m\u001b[32mA-Z0-9._%+-\u001b[0m\u001b[32m]\u001b[0m\u001b[32m+@\u001b[0m\u001b[32m[\u001b[0m\u001b[32mA-Z0-9.-\u001b[0m\u001b[32m]\u001b[0m\u001b[32m+\\\\.\u001b[0m\u001b[32m[\u001b[0m\u001b[32mA-Z\u001b[0m\u001b[32m]\u001b[0m\u001b[32m{\u001b[0m\u001b[32m2,\u001b[0m\u001b[32m}\u001b[0m\u001b[32m$\"\u001b[0m\n",
       "    let regex = try? \u001b[1;35mNSRegularExpression\u001b[0m\u001b[1m(\u001b[0mpattern: pattern, options: .caseInsensitive\u001b[1m)\u001b[0m\n",
       "    return regex?\u001b[1;35m.firstMatch\u001b[0m\u001b[1m(\u001b[0min: email, options: \u001b[1m[\u001b[0m\u001b[1m]\u001b[0m, range: \u001b[1;35mNSRange\u001b[0m\u001b[1m(\u001b[0mlocation: \u001b[1;36m0\u001b[0m, length: email.utf16.count\u001b[1m)\u001b[0m\u001b[1m)\u001b[0m != nil\n",
       "\u001b[1m}\u001b[0m\n",
       "\n"
      ]
     },
     "metadata": {},
     "output_type": "display_data"
    },
    {
     "data": {
      "text/html": [
       "<pre style=\"white-space:pre;overflow-x:auto;line-height:normal;font-family:Menlo,'DejaVu Sans Mono',consolas,'Courier New',monospace\"><span style=\"color: #008000; text-decoration-color: #008000; font-weight: bold\"> Predict </span>\n",
       "</pre>\n"
      ],
      "text/plain": [
       "\u001b[1;32m Predict \u001b[0m\n"
      ]
     },
     "metadata": {},
     "output_type": "display_data"
    },
    {
     "data": {
      "text/html": [
       "<pre style=\"white-space:pre;overflow-x:auto;line-height:normal;font-family:Menlo,'DejaVu Sans Mono',consolas,'Courier New',monospace\">\n",
       "<span style=\"color: #800080; text-decoration-color: #800080\">//</span> <span style=\"color: #800080; text-decoration-color: #800080\">///</span> Adds the digits of a number.\n",
       "<span style=\"color: #800080; text-decoration-color: #800080\">//</span> <span style=\"color: #800080; text-decoration-color: #800080\">///</span> - Parameter number: The number to add the digits of.\n",
       "<span style=\"color: #800080; text-decoration-color: #800080\">//</span> <span style=\"color: #800080; text-decoration-color: #800080\">///</span> - Returns: The sum of the digits of number.\n",
       "<span style=\"color: #800080; text-decoration-color: #800080\">//</span> func <span style=\"color: #800080; text-decoration-color: #800080; font-weight: bold\">sumOfDigits</span><span style=\"font-weight: bold\">(</span>_ number: Int<span style=\"font-weight: bold\">)</span> -&gt; Int <span style=\"font-weight: bold\">{</span>\n",
       "<span style=\"color: #800080; text-decoration-color: #800080\">//</span>     return <span style=\"color: #800080; text-decoration-color: #800080; font-weight: bold\">String</span><span style=\"font-weight: bold\">(</span>number<span style=\"font-weight: bold\">)</span>.compactMap <span style=\"font-weight: bold\">{</span> <span style=\"color: #800080; text-decoration-color: #800080; font-weight: bold\">Int</span><span style=\"font-weight: bold\">(</span><span style=\"color: #800080; text-decoration-color: #800080; font-weight: bold\">String</span><span style=\"font-weight: bold\">(</span>$<span style=\"color: #008080; text-decoration-color: #008080; font-weight: bold\">0</span><span style=\"font-weight: bold\">))</span> <span style=\"font-weight: bold\">}</span><span style=\"color: #800080; text-decoration-color: #800080; font-weight: bold\">.reduce</span><span style=\"font-weight: bold\">(</span><span style=\"color: #008080; text-decoration-color: #008080; font-weight: bold\">0</span>, +<span style=\"font-weight: bold\">)</span>\n",
       "<span style=\"color: #800080; text-decoration-color: #800080\">//</span> <span style=\"font-weight: bold\">}</span>\n",
       "\n",
       "func <span style=\"color: #800080; text-decoration-color: #800080; font-weight: bold\">sumOfDigits</span><span style=\"font-weight: bold\">(</span>_ number: Int<span style=\"font-weight: bold\">)</span> -&gt; Int <span style=\"font-weight: bold\">{</span>\n",
       "    return <span style=\"color: #800080; text-decoration-color: #800080; font-weight: bold\">String</span><span style=\"font-weight: bold\">(</span>number<span style=\"font-weight: bold\">)</span>.compactMap <span style=\"font-weight: bold\">{</span> <span style=\"color: #800080; text-decoration-color: #800080; font-weight: bold\">Int</span><span style=\"font-weight: bold\">(</span><span style=\"color: #800080; text-decoration-color: #800080; font-weight: bold\">String</span><span style=\"font-weight: bold\">(</span>$<span style=\"color: #008080; text-decoration-color: #008080; font-weight: bold\">0</span><span style=\"font-weight: bold\">))</span> <span style=\"font-weight: bold\">}</span><span style=\"color: #800080; text-decoration-color: #800080; font-weight: bold\">.reduce</span><span style=\"font-weight: bold\">(</span><span style=\"color: #008080; text-decoration-color: #008080; font-weight: bold\">0</span>, +<span style=\"font-weight: bold\">)</span>\n",
       "<span style=\"font-weight: bold\">}</span>\n",
       "\n",
       "<span style=\"color: #800080; text-decoration-color: #800080\">//</span> <span style=\"color: #800080; text-decoration-color: #800080\">///</span> Adds the digits of a number.\n",
       "<span style=\"color: #800080; text-decoration-color: #800080\">//</span> <span style=\"color: #800080; text-decoration-color: #800080\">///</span> - Parameter number: The number to add the digits of.\n",
       "<span style=\"color: #800080; text-decoration-color: #800080\">//</span> <span style=\"color: #800080; text-decoration-color: #800080\">///</span> - Returns: The sum of the digits of number.\n",
       "<span style=\"color: #800080; text-decoration-color: #800080\">//</span> func <span style=\"color: #800080; text-decoration-color: #800080; font-weight: bold\">sumOfDigits</span><span style=\"font-weight: bold\">(</span>_ number: Int<span style=\"font-weight: bold\">)</span> -&gt; Int <span style=\"font-weight: bold\">{</span>\n",
       "<span style=\"color: #800080; text-decoration-color: #800080\">//</span>     return String\n",
       "</pre>\n"
      ],
      "text/plain": [
       "\n",
       "\u001b[35m/\u001b[0m\u001b[35m/\u001b[0m \u001b[35m/\u001b[0m\u001b[35m/\u001b[0m\u001b[35m/\u001b[0m Adds the digits of a number.\n",
       "\u001b[35m/\u001b[0m\u001b[35m/\u001b[0m \u001b[35m/\u001b[0m\u001b[35m/\u001b[0m\u001b[35m/\u001b[0m - Parameter number: The number to add the digits of.\n",
       "\u001b[35m/\u001b[0m\u001b[35m/\u001b[0m \u001b[35m/\u001b[0m\u001b[35m/\u001b[0m\u001b[35m/\u001b[0m - Returns: The sum of the digits of number.\n",
       "\u001b[35m/\u001b[0m\u001b[35m/\u001b[0m func \u001b[1;35msumOfDigits\u001b[0m\u001b[1m(\u001b[0m_ number: Int\u001b[1m)\u001b[0m -> Int \u001b[1m{\u001b[0m\n",
       "\u001b[35m/\u001b[0m\u001b[35m/\u001b[0m     return \u001b[1;35mString\u001b[0m\u001b[1m(\u001b[0mnumber\u001b[1m)\u001b[0m.compactMap \u001b[1m{\u001b[0m \u001b[1;35mInt\u001b[0m\u001b[1m(\u001b[0m\u001b[1;35mString\u001b[0m\u001b[1m(\u001b[0m$\u001b[1;36m0\u001b[0m\u001b[1m)\u001b[0m\u001b[1m)\u001b[0m \u001b[1m}\u001b[0m\u001b[1;35m.reduce\u001b[0m\u001b[1m(\u001b[0m\u001b[1;36m0\u001b[0m, +\u001b[1m)\u001b[0m\n",
       "\u001b[35m/\u001b[0m\u001b[35m/\u001b[0m \u001b[1m}\u001b[0m\n",
       "\n",
       "func \u001b[1;35msumOfDigits\u001b[0m\u001b[1m(\u001b[0m_ number: Int\u001b[1m)\u001b[0m -> Int \u001b[1m{\u001b[0m\n",
       "    return \u001b[1;35mString\u001b[0m\u001b[1m(\u001b[0mnumber\u001b[1m)\u001b[0m.compactMap \u001b[1m{\u001b[0m \u001b[1;35mInt\u001b[0m\u001b[1m(\u001b[0m\u001b[1;35mString\u001b[0m\u001b[1m(\u001b[0m$\u001b[1;36m0\u001b[0m\u001b[1m)\u001b[0m\u001b[1m)\u001b[0m \u001b[1m}\u001b[0m\u001b[1;35m.reduce\u001b[0m\u001b[1m(\u001b[0m\u001b[1;36m0\u001b[0m, +\u001b[1m)\u001b[0m\n",
       "\u001b[1m}\u001b[0m\n",
       "\n",
       "\u001b[35m/\u001b[0m\u001b[35m/\u001b[0m \u001b[35m/\u001b[0m\u001b[35m/\u001b[0m\u001b[35m/\u001b[0m Adds the digits of a number.\n",
       "\u001b[35m/\u001b[0m\u001b[35m/\u001b[0m \u001b[35m/\u001b[0m\u001b[35m/\u001b[0m\u001b[35m/\u001b[0m - Parameter number: The number to add the digits of.\n",
       "\u001b[35m/\u001b[0m\u001b[35m/\u001b[0m \u001b[35m/\u001b[0m\u001b[35m/\u001b[0m\u001b[35m/\u001b[0m - Returns: The sum of the digits of number.\n",
       "\u001b[35m/\u001b[0m\u001b[35m/\u001b[0m func \u001b[1;35msumOfDigits\u001b[0m\u001b[1m(\u001b[0m_ number: Int\u001b[1m)\u001b[0m -> Int \u001b[1m{\u001b[0m\n",
       "\u001b[35m/\u001b[0m\u001b[35m/\u001b[0m     return String\n"
      ]
     },
     "metadata": {},
     "output_type": "display_data"
    },
    {
     "data": {
      "text/html": [
       "<pre style=\"white-space:pre;overflow-x:auto;line-height:normal;font-family:Menlo,'DejaVu Sans Mono',consolas,'Courier New',monospace\"><span style=\"color: #008000; text-decoration-color: #008000; font-weight: bold\"> Predict </span>\n",
       "</pre>\n"
      ],
      "text/plain": [
       "\u001b[1;32m Predict \u001b[0m\n"
      ]
     },
     "metadata": {},
     "output_type": "display_data"
    },
    {
     "data": {
      "text/html": [
       "<pre style=\"white-space:pre;overflow-x:auto;line-height:normal;font-family:Menlo,'DejaVu Sans Mono',consolas,'Courier New',monospace\">\n",
       "<span style=\"color: #800080; text-decoration-color: #800080\">//</span> Counts the number of unique values in an array of T.\n",
       "<span style=\"color: #800080; text-decoration-color: #800080\">//</span>\n",
       "<span style=\"color: #800080; text-decoration-color: #800080\">//</span> - Parameters:\n",
       "<span style=\"color: #800080; text-decoration-color: #800080\">//</span>   - in array: The array to check for unique values.\n",
       "<span style=\"color: #800080; text-decoration-color: #800080\">//</span>\n",
       "<span style=\"color: #800080; text-decoration-color: #800080\">//</span> - Returns:\n",
       "<span style=\"color: #800080; text-decoration-color: #800080\">//</span>   - The number of unique values in the array.\n",
       "func <span style=\"color: #800080; text-decoration-color: #800080; font-weight: bold\">countUnique</span><span style=\"font-weight: bold\">(</span>in array: <span style=\"font-weight: bold\">[</span>Int<span style=\"font-weight: bold\">])</span> -&gt; Int <span style=\"font-weight: bold\">{</span>\n",
       "    return <span style=\"color: #800080; text-decoration-color: #800080; font-weight: bold\">Set</span><span style=\"font-weight: bold\">(</span>array<span style=\"font-weight: bold\">)</span>.count\n",
       "<span style=\"font-weight: bold\">}</span>\n",
       "\n",
       "<span style=\"color: #800080; text-decoration-color: #800080\">//</span> Counts the number of unique values in an array of T.\n",
       "<span style=\"color: #800080; text-decoration-color: #800080\">//</span>\n",
       "<span style=\"color: #800080; text-decoration-color: #800080\">//</span> - Parameters:\n",
       "<span style=\"color: #800080; text-decoration-color: #800080\">//</span>   - in array: The array to check for unique values.\n",
       "<span style=\"color: #800080; text-decoration-color: #800080\">//</span>\n",
       "<span style=\"color: #800080; text-decoration-color: #800080\">//</span> - Returns:\n",
       "<span style=\"color: #800080; text-decoration-color: #800080\">//</span>   - The number of unique values in the array.\n",
       "func <span style=\"color: #800080; text-decoration-color: #800080; font-weight: bold\">countUnique</span><span style=\"font-weight: bold\">(</span>in array: <span style=\"font-weight: bold\">[</span>String<span style=\"font-weight: bold\">])</span> -&gt; Int <span style=\"font-weight: bold\">{</span>\n",
       "    return <span style=\"color: #800080; text-decoration-color: #800080; font-weight: bold\">Set</span><span style=\"font-weight: bold\">(</span>array<span style=\"font-weight: bold\">)</span>.count\n",
       "<span style=\"font-weight: bold\">}</span>\n",
       "\n",
       "\n",
       "<span style=\"color: #800080; text-decoration-color: #800080\">//</span> Counts the number of unique values in an array of T.\n",
       "<span style=\"color: #800080; text-decoration-color: #800080\">//</span>\n",
       "<span style=\"color: #800080; text-decoration-color: #800080\">//</span> - Parameters:\n",
       "<span style=\"color: #800080; text-decoration-color: #800080\">//</span>   - in array\n",
       "</pre>\n"
      ],
      "text/plain": [
       "\n",
       "\u001b[35m/\u001b[0m\u001b[35m/\u001b[0m Counts the number of unique values in an array of T.\n",
       "\u001b[35m/\u001b[0m\u001b[35m/\u001b[0m\n",
       "\u001b[35m/\u001b[0m\u001b[35m/\u001b[0m - Parameters:\n",
       "\u001b[35m/\u001b[0m\u001b[35m/\u001b[0m   - in array: The array to check for unique values.\n",
       "\u001b[35m/\u001b[0m\u001b[35m/\u001b[0m\n",
       "\u001b[35m/\u001b[0m\u001b[35m/\u001b[0m - Returns:\n",
       "\u001b[35m/\u001b[0m\u001b[35m/\u001b[0m   - The number of unique values in the array.\n",
       "func \u001b[1;35mcountUnique\u001b[0m\u001b[1m(\u001b[0min array: \u001b[1m[\u001b[0mInt\u001b[1m]\u001b[0m\u001b[1m)\u001b[0m -> Int \u001b[1m{\u001b[0m\n",
       "    return \u001b[1;35mSet\u001b[0m\u001b[1m(\u001b[0marray\u001b[1m)\u001b[0m.count\n",
       "\u001b[1m}\u001b[0m\n",
       "\n",
       "\u001b[35m/\u001b[0m\u001b[35m/\u001b[0m Counts the number of unique values in an array of T.\n",
       "\u001b[35m/\u001b[0m\u001b[35m/\u001b[0m\n",
       "\u001b[35m/\u001b[0m\u001b[35m/\u001b[0m - Parameters:\n",
       "\u001b[35m/\u001b[0m\u001b[35m/\u001b[0m   - in array: The array to check for unique values.\n",
       "\u001b[35m/\u001b[0m\u001b[35m/\u001b[0m\n",
       "\u001b[35m/\u001b[0m\u001b[35m/\u001b[0m - Returns:\n",
       "\u001b[35m/\u001b[0m\u001b[35m/\u001b[0m   - The number of unique values in the array.\n",
       "func \u001b[1;35mcountUnique\u001b[0m\u001b[1m(\u001b[0min array: \u001b[1m[\u001b[0mString\u001b[1m]\u001b[0m\u001b[1m)\u001b[0m -> Int \u001b[1m{\u001b[0m\n",
       "    return \u001b[1;35mSet\u001b[0m\u001b[1m(\u001b[0marray\u001b[1m)\u001b[0m.count\n",
       "\u001b[1m}\u001b[0m\n",
       "\n",
       "\n",
       "\u001b[35m/\u001b[0m\u001b[35m/\u001b[0m Counts the number of unique values in an array of T.\n",
       "\u001b[35m/\u001b[0m\u001b[35m/\u001b[0m\n",
       "\u001b[35m/\u001b[0m\u001b[35m/\u001b[0m - Parameters:\n",
       "\u001b[35m/\u001b[0m\u001b[35m/\u001b[0m   - in array\n"
      ]
     },
     "metadata": {},
     "output_type": "display_data"
    }
   ],
   "source": [
    "for predict in predictions:\n",
    "    print(\"[bold green] Predict [/ bold green]\")\n",
    "    print(predict)"
   ]
  },
  {
   "cell_type": "code",
   "execution_count": 53,
   "id": "a332165b",
   "metadata": {},
   "outputs": [
    {
     "data": {
      "text/html": [
       "<pre style=\"white-space:pre;overflow-x:auto;line-height:normal;font-family:Menlo,'DejaVu Sans Mono',consolas,'Courier New',monospace\"><span style=\"font-weight: bold\">[</span>\n",
       "    <span style=\"color: #008000; text-decoration-color: #008000\">'/// Генерирует случайный элемент из массива строк.\\n/// - Parameter array: Массив строк.\\n/// - Returns: </span>\n",
       "<span style=\"color: #008000; text-decoration-color: #008000\">Случайный элемент из массива.\\nfunc randomElementFromStringArray(_ array: [String]) -&gt; String? {\\n    return </span>\n",
       "<span style=\"color: #008000; text-decoration-color: #008000\">array.randomElement()\\n}'</span>,\n",
       "    <span style=\"color: #008000; text-decoration-color: #008000\">'/// Возвращает число, которое является квадратным корнем из заданного числа.\\n/// - Parameter number: </span>\n",
       "<span style=\"color: #008000; text-decoration-color: #008000\">Число.\\n/// - Returns: Квадратный корень числа.\\nfunc squareRoot(of number: Double) -&gt; Double {\\n    return </span>\n",
       "<span style=\"color: #008000; text-decoration-color: #008000\">sqrt(number)\\n}'</span>,\n",
       "    <span style=\"color: #008000; text-decoration-color: #008000\">'/// Проверяет, является ли массив палиндромом.\\n/// - Parameter array: Массив элементов.\\n/// - Returns: true,</span>\n",
       "<span style=\"color: #008000; text-decoration-color: #008000\">если массив читается одинаково в обе стороны.\\nfunc isPalindrome&lt;T: Equatable&gt;(_ array: [T]) -&gt; Bool {\\n    return </span>\n",
       "<span style=\"color: #008000; text-decoration-color: #008000\">array == array.reversed()\\n}'</span><span style=\"color: #000000; text-decoration-color: #000000\">,</span>\n",
       "<span style=\"color: #000000; text-decoration-color: #000000\">    </span><span style=\"color: #008000; text-decoration-color: #008000\">'/// Проверяет, является ли строка допустимым email.\\n/// - Parameter email: Строка для проверки.\\n/// - </span>\n",
       "<span style=\"color: #008000; text-decoration-color: #008000\">Returns: true, если строка похожа на email.\\nfunc isValidEmail(_ email: String) -&gt; Bool {\\n    let pattern = </span>\n",
       "<span style=\"color: #008000; text-decoration-color: #008000\">\"^[A-Z0-9._%+-]+@[A-Z0-9.-]+\\\\\\\\.[A-Z]{2,}$\"\\n    let regex = try? NSRegularExpression(pattern: pattern, options: </span>\n",
       "<span style=\"color: #008000; text-decoration-color: #008000\">.caseInsensitive)\\n    return regex?.firstMatch(in: email, options: [], range: NSRange(location: 0, length: </span>\n",
       "<span style=\"color: #008000; text-decoration-color: #008000\">email.utf16.count)) != nil\\n}'</span><span style=\"color: #000000; text-decoration-color: #000000\">,</span>\n",
       "<span style=\"color: #000000; text-decoration-color: #000000\">    </span><span style=\"color: #008000; text-decoration-color: #008000\">'/// Считает сумму цифр числа.\\n/// - Parameter number: Число.\\n/// - Returns: Сумма цифр.\\nfunc sumOfDigits(_ </span>\n",
       "<span style=\"color: #008000; text-decoration-color: #008000\">number: Int) -&gt; Int {\\n    return String(number).compactMap { Int(String($0)) }.reduce(0, +)\\n}'</span><span style=\"color: #000000; text-decoration-color: #000000\">,</span>\n",
       "<span style=\"color: #000000; text-decoration-color: #000000\">    </span><span style=\"color: #008000; text-decoration-color: #008000\">'/// Возвращает количество уникальных элементов в массиве.\\n/// - Parameter array: Входной массив.\\n/// - </span>\n",
       "<span style=\"color: #008000; text-decoration-color: #008000\">Returns: Количество уникальных элементов.\\nfunc countUnique&lt;T: Hashable&gt;(in array: [T]) -&gt; Int {\\n    return </span>\n",
       "<span style=\"color: #008000; text-decoration-color: #008000\">Set(array).count\\n}'</span>\n",
       "<span style=\"font-weight: bold\">]</span>\n",
       "</pre>\n"
      ],
      "text/plain": [
       "\u001b[1m[\u001b[0m\n",
       "    \u001b[32m'/// Генерирует случайный элемент из массива строк.\\n/// - Parameter array: Массив строк.\\n/// - Returns: \u001b[0m\n",
       "\u001b[32mСлучайный элемент из массива.\\nfunc randomElementFromStringArray\u001b[0m\u001b[32m(\u001b[0m\u001b[32m_ array: \u001b[0m\u001b[32m[\u001b[0m\u001b[32mString\u001b[0m\u001b[32m]\u001b[0m\u001b[32m)\u001b[0m\u001b[32m -> String? \u001b[0m\u001b[32m{\u001b[0m\u001b[32m\\n    return \u001b[0m\n",
       "\u001b[32marray.randomElement\u001b[0m\u001b[32m(\u001b[0m\u001b[32m)\u001b[0m\u001b[32m\\n\u001b[0m\u001b[32m}\u001b[0m\u001b[32m'\u001b[0m,\n",
       "    \u001b[32m'/// Возвращает число, которое является квадратным корнем из заданного числа.\\n/// - Parameter number: \u001b[0m\n",
       "\u001b[32mЧисло.\\n/// - Returns: Квадратный корень числа.\\nfunc squareRoot\u001b[0m\u001b[32m(\u001b[0m\u001b[32mof number: Double\u001b[0m\u001b[32m)\u001b[0m\u001b[32m -> Double \u001b[0m\u001b[32m{\u001b[0m\u001b[32m\\n    return \u001b[0m\n",
       "\u001b[32msqrt\u001b[0m\u001b[32m(\u001b[0m\u001b[32mnumber\u001b[0m\u001b[32m)\u001b[0m\u001b[32m\\n\u001b[0m\u001b[32m}\u001b[0m\u001b[32m'\u001b[0m,\n",
       "    \u001b[32m'/// Проверяет, является ли массив палиндромом.\\n/// - Parameter array: Массив элементов.\\n/// - Returns: true,\u001b[0m\n",
       "\u001b[32mесли массив читается одинаково в обе стороны.\\nfunc isPalindrome\u001b[0m\u001b[32m<\u001b[0m\u001b[32mT:\u001b[0m\u001b[32m Equatable>\u001b[0m\u001b[32m(\u001b[0m\u001b[32m_ array: \u001b[0m\u001b[32m[\u001b[0m\u001b[32mT\u001b[0m\u001b[32m]\u001b[0m\u001b[32m)\u001b[0m\u001b[32m -> Bool \u001b[0m\u001b[32m{\u001b[0m\u001b[32m\\n    return \u001b[0m\n",
       "\u001b[32marray == array.reversed\u001b[0m\u001b[32m(\u001b[0m\u001b[32m)\u001b[0m\u001b[32m\\n\u001b[0m\u001b[32m}\u001b[0m\u001b[32m'\u001b[0m\u001b[39m,\u001b[0m\n",
       "\u001b[39m    \u001b[0m\u001b[32m'/// Проверяет, является ли строка допустимым email.\\n/// - Parameter email: Строка для проверки.\\n/// - \u001b[0m\n",
       "\u001b[32mReturns: true, если строка похожа на email.\\nfunc isValidEmail\u001b[0m\u001b[32m(\u001b[0m\u001b[32m_ email: String\u001b[0m\u001b[32m)\u001b[0m\u001b[32m -> Bool \u001b[0m\u001b[32m{\u001b[0m\u001b[32m\\n    let pattern = \u001b[0m\n",
       "\u001b[32m\"^\u001b[0m\u001b[32m[\u001b[0m\u001b[32mA-Z0-9._%+-\u001b[0m\u001b[32m]\u001b[0m\u001b[32m+@\u001b[0m\u001b[32m[\u001b[0m\u001b[32mA-Z0-9.-\u001b[0m\u001b[32m]\u001b[0m\u001b[32m+\\\\\\\\.\u001b[0m\u001b[32m[\u001b[0m\u001b[32mA-Z\u001b[0m\u001b[32m]\u001b[0m\u001b[32m{\u001b[0m\u001b[32m2,\u001b[0m\u001b[32m}\u001b[0m\u001b[32m$\"\\n    let regex = try? NSRegularExpression\u001b[0m\u001b[32m(\u001b[0m\u001b[32mpattern: pattern, options: \u001b[0m\n",
       "\u001b[32m.caseInsensitive\u001b[0m\u001b[32m)\u001b[0m\u001b[32m\\n    return regex?.firstMatch\u001b[0m\u001b[32m(\u001b[0m\u001b[32min: email, options: \u001b[0m\u001b[32m[\u001b[0m\u001b[32m]\u001b[0m\u001b[32m, range: NSRange\u001b[0m\u001b[32m(\u001b[0m\u001b[32mlocation: 0, length: \u001b[0m\n",
       "\u001b[32memail.utf16.count\u001b[0m\u001b[32m)\u001b[0m\u001b[32m)\u001b[0m\u001b[32m != nil\\n\u001b[0m\u001b[32m}\u001b[0m\u001b[32m'\u001b[0m\u001b[39m,\u001b[0m\n",
       "\u001b[39m    \u001b[0m\u001b[32m'/// Считает сумму цифр числа.\\n/// - Parameter number: Число.\\n/// - Returns: Сумма цифр.\\nfunc sumOfDigits\u001b[0m\u001b[32m(\u001b[0m\u001b[32m_ \u001b[0m\n",
       "\u001b[32mnumber: Int\u001b[0m\u001b[32m)\u001b[0m\u001b[32m -> Int \u001b[0m\u001b[32m{\u001b[0m\u001b[32m\\n    return String\u001b[0m\u001b[32m(\u001b[0m\u001b[32mnumber\u001b[0m\u001b[32m)\u001b[0m\u001b[32m.compactMap \u001b[0m\u001b[32m{\u001b[0m\u001b[32m Int\u001b[0m\u001b[32m(\u001b[0m\u001b[32mString\u001b[0m\u001b[32m(\u001b[0m\u001b[32m$0\u001b[0m\u001b[32m)\u001b[0m\u001b[32m)\u001b[0m\u001b[32m \u001b[0m\u001b[32m}\u001b[0m\u001b[32m.reduce\u001b[0m\u001b[32m(\u001b[0m\u001b[32m0, +\u001b[0m\u001b[32m)\u001b[0m\u001b[32m\\n\u001b[0m\u001b[32m}\u001b[0m\u001b[32m'\u001b[0m\u001b[39m,\u001b[0m\n",
       "\u001b[39m    \u001b[0m\u001b[32m'/// Возвращает количество уникальных элементов в массиве.\\n/// - Parameter array: Входной массив.\\n/// - \u001b[0m\n",
       "\u001b[32mReturns: Количество уникальных элементов.\\nfunc countUnique<T: Hashable>\u001b[0m\u001b[32m(\u001b[0m\u001b[32min array: \u001b[0m\u001b[32m[\u001b[0m\u001b[32mT\u001b[0m\u001b[32m]\u001b[0m\u001b[32m)\u001b[0m\u001b[32m -\u001b[0m\u001b[32m>\u001b[0m\u001b[32m Int \u001b[0m\u001b[32m{\u001b[0m\u001b[32m\\n    return \u001b[0m\n",
       "\u001b[32mSet\u001b[0m\u001b[32m(\u001b[0m\u001b[32marray\u001b[0m\u001b[32m)\u001b[0m\u001b[32m.count\\n\u001b[0m\u001b[32m}\u001b[0m\u001b[32m'\u001b[0m\n",
       "\u001b[1m]\u001b[0m\n"
      ]
     },
     "metadata": {},
     "output_type": "display_data"
    }
   ],
   "source": [
    "references = ds_test[\"output\"]\n",
    "\n",
    "print(references)"
   ]
  },
  {
   "cell_type": "code",
   "execution_count": 54,
   "id": "cc20f291",
   "metadata": {},
   "outputs": [],
   "source": [
    "rouge = evaluate.load(\"rouge\")"
   ]
  },
  {
   "cell_type": "code",
   "execution_count": 55,
   "id": "0339d160",
   "metadata": {},
   "outputs": [],
   "source": [
    "# Вычисление метрик\n",
    "results = rouge.compute(predictions=predictions, references=references)"
   ]
  },
  {
   "cell_type": "code",
   "execution_count": 56,
   "id": "3117bd00",
   "metadata": {},
   "outputs": [
    {
     "data": {
      "text/html": [
       "<pre style=\"white-space:pre;overflow-x:auto;line-height:normal;font-family:Menlo,'DejaVu Sans Mono',consolas,'Courier New',monospace\">rouge1: <span style=\"color: #008080; text-decoration-color: #008080; font-weight: bold\">0.4927</span>\n",
       "</pre>\n"
      ],
      "text/plain": [
       "rouge1: \u001b[1;36m0.4927\u001b[0m\n"
      ]
     },
     "metadata": {},
     "output_type": "display_data"
    },
    {
     "data": {
      "text/html": [
       "<pre style=\"white-space:pre;overflow-x:auto;line-height:normal;font-family:Menlo,'DejaVu Sans Mono',consolas,'Courier New',monospace\">rouge2: <span style=\"color: #008080; text-decoration-color: #008080; font-weight: bold\">0.3798</span>\n",
       "</pre>\n"
      ],
      "text/plain": [
       "rouge2: \u001b[1;36m0.3798\u001b[0m\n"
      ]
     },
     "metadata": {},
     "output_type": "display_data"
    },
    {
     "data": {
      "text/html": [
       "<pre style=\"white-space:pre;overflow-x:auto;line-height:normal;font-family:Menlo,'DejaVu Sans Mono',consolas,'Courier New',monospace\">rougeL: <span style=\"color: #008080; text-decoration-color: #008080; font-weight: bold\">0.4832</span>\n",
       "</pre>\n"
      ],
      "text/plain": [
       "rougeL: \u001b[1;36m0.4832\u001b[0m\n"
      ]
     },
     "metadata": {},
     "output_type": "display_data"
    },
    {
     "data": {
      "text/html": [
       "<pre style=\"white-space:pre;overflow-x:auto;line-height:normal;font-family:Menlo,'DejaVu Sans Mono',consolas,'Courier New',monospace\">rougeLsum: <span style=\"color: #008080; text-decoration-color: #008080; font-weight: bold\">0.4888</span>\n",
       "</pre>\n"
      ],
      "text/plain": [
       "rougeLsum: \u001b[1;36m0.4888\u001b[0m\n"
      ]
     },
     "metadata": {},
     "output_type": "display_data"
    }
   ],
   "source": [
    "# Вывод результатов\n",
    "for metric, score in results.items():\n",
    "    print(f\"{metric}: {score:.4f}\")"
   ]
  },
  {
   "cell_type": "code",
   "execution_count": 57,
   "id": "7f7eaeb1",
   "metadata": {},
   "outputs": [
    {
     "data": {
      "text/html": [
       "<pre style=\"white-space:pre;overflow-x:auto;line-height:normal;font-family:Menlo,'DejaVu Sans Mono',consolas,'Courier New',monospace\"><span style=\"font-weight: bold\">{</span>\n",
       "    <span style=\"color: #008000; text-decoration-color: #008000\">'rouge1'</span>: <span style=\"color: #800080; text-decoration-color: #800080; font-weight: bold\">np.float64</span><span style=\"font-weight: bold\">(</span><span style=\"color: #008080; text-decoration-color: #008080; font-weight: bold\">0.4926743815794188</span><span style=\"font-weight: bold\">)</span>,\n",
       "    <span style=\"color: #008000; text-decoration-color: #008000\">'rouge2'</span>: <span style=\"color: #800080; text-decoration-color: #800080; font-weight: bold\">np.float64</span><span style=\"font-weight: bold\">(</span><span style=\"color: #008080; text-decoration-color: #008080; font-weight: bold\">0.37982149208674515</span><span style=\"font-weight: bold\">)</span>,\n",
       "    <span style=\"color: #008000; text-decoration-color: #008000\">'rougeL'</span>: <span style=\"color: #800080; text-decoration-color: #800080; font-weight: bold\">np.float64</span><span style=\"font-weight: bold\">(</span><span style=\"color: #008080; text-decoration-color: #008080; font-weight: bold\">0.48323344549967384</span><span style=\"font-weight: bold\">)</span>,\n",
       "    <span style=\"color: #008000; text-decoration-color: #008000\">'rougeLsum'</span>: <span style=\"color: #800080; text-decoration-color: #800080; font-weight: bold\">np.float64</span><span style=\"font-weight: bold\">(</span><span style=\"color: #008080; text-decoration-color: #008080; font-weight: bold\">0.48878264347473044</span><span style=\"font-weight: bold\">)</span>\n",
       "<span style=\"font-weight: bold\">}</span>\n",
       "</pre>\n"
      ],
      "text/plain": [
       "\u001b[1m{\u001b[0m\n",
       "    \u001b[32m'rouge1'\u001b[0m: \u001b[1;35mnp.float64\u001b[0m\u001b[1m(\u001b[0m\u001b[1;36m0.4926743815794188\u001b[0m\u001b[1m)\u001b[0m,\n",
       "    \u001b[32m'rouge2'\u001b[0m: \u001b[1;35mnp.float64\u001b[0m\u001b[1m(\u001b[0m\u001b[1;36m0.37982149208674515\u001b[0m\u001b[1m)\u001b[0m,\n",
       "    \u001b[32m'rougeL'\u001b[0m: \u001b[1;35mnp.float64\u001b[0m\u001b[1m(\u001b[0m\u001b[1;36m0.48323344549967384\u001b[0m\u001b[1m)\u001b[0m,\n",
       "    \u001b[32m'rougeLsum'\u001b[0m: \u001b[1;35mnp.float64\u001b[0m\u001b[1m(\u001b[0m\u001b[1;36m0.48878264347473044\u001b[0m\u001b[1m)\u001b[0m\n",
       "\u001b[1m}\u001b[0m\n"
      ]
     },
     "metadata": {},
     "output_type": "display_data"
    }
   ],
   "source": [
    "print(results)"
   ]
  },
  {
   "cell_type": "code",
   "execution_count": 59,
   "id": "be079d0f",
   "metadata": {},
   "outputs": [
    {
     "data": {
      "text/html": [
       "<pre style=\"white-space:pre;overflow-x:auto;line-height:normal;font-family:Menlo,'DejaVu Sans Mono',consolas,'Courier New',monospace\"><span style=\"font-weight: bold\">{</span>\n",
       "    <span style=\"color: #008000; text-decoration-color: #008000\">'bleu'</span>: <span style=\"color: #008080; text-decoration-color: #008080; font-weight: bold\">0.3932765237048014</span>,\n",
       "    <span style=\"color: #008000; text-decoration-color: #008000\">'precisions'</span>: <span style=\"font-weight: bold\">[</span><span style=\"color: #008080; text-decoration-color: #008080; font-weight: bold\">0.47067039106145253</span>, <span style=\"color: #008080; text-decoration-color: #008080; font-weight: bold\">0.4056338028169014</span>, <span style=\"color: #008080; text-decoration-color: #008080; font-weight: bold\">0.3721590909090909</span>, <span style=\"color: #008080; text-decoration-color: #008080; font-weight: bold\">0.336676217765043</span><span style=\"font-weight: bold\">]</span>,\n",
       "    <span style=\"color: #008000; text-decoration-color: #008000\">'brevity_penalty'</span>: <span style=\"color: #008080; text-decoration-color: #008080; font-weight: bold\">1.0</span>,\n",
       "    <span style=\"color: #008000; text-decoration-color: #008000\">'length_ratio'</span>: <span style=\"color: #008080; text-decoration-color: #008080; font-weight: bold\">1.6807511737089202</span>,\n",
       "    <span style=\"color: #008000; text-decoration-color: #008000\">'translation_length'</span>: <span style=\"color: #008080; text-decoration-color: #008080; font-weight: bold\">716</span>,\n",
       "    <span style=\"color: #008000; text-decoration-color: #008000\">'reference_length'</span>: <span style=\"color: #008080; text-decoration-color: #008080; font-weight: bold\">426</span>\n",
       "<span style=\"font-weight: bold\">}</span>\n",
       "</pre>\n"
      ],
      "text/plain": [
       "\u001b[1m{\u001b[0m\n",
       "    \u001b[32m'bleu'\u001b[0m: \u001b[1;36m0.3932765237048014\u001b[0m,\n",
       "    \u001b[32m'precisions'\u001b[0m: \u001b[1m[\u001b[0m\u001b[1;36m0.47067039106145253\u001b[0m, \u001b[1;36m0.4056338028169014\u001b[0m, \u001b[1;36m0.3721590909090909\u001b[0m, \u001b[1;36m0.336676217765043\u001b[0m\u001b[1m]\u001b[0m,\n",
       "    \u001b[32m'brevity_penalty'\u001b[0m: \u001b[1;36m1.0\u001b[0m,\n",
       "    \u001b[32m'length_ratio'\u001b[0m: \u001b[1;36m1.6807511737089202\u001b[0m,\n",
       "    \u001b[32m'translation_length'\u001b[0m: \u001b[1;36m716\u001b[0m,\n",
       "    \u001b[32m'reference_length'\u001b[0m: \u001b[1;36m426\u001b[0m\n",
       "\u001b[1m}\u001b[0m\n"
      ]
     },
     "metadata": {},
     "output_type": "display_data"
    }
   ],
   "source": [
    "bleu = evaluate.load(\"bleu\")\n",
    "results = bleu.compute(predictions=predictions, references=references)\n",
    "print(results)"
   ]
  },
  {
   "cell_type": "markdown",
   "id": "95e4cb44",
   "metadata": {},
   "source": [
    "##### Big test set metrics"
   ]
  },
  {
   "cell_type": "code",
   "execution_count": 8,
   "id": "dd1a622c",
   "metadata": {},
   "outputs": [
    {
     "data": {
      "text/html": [
       "<pre style=\"white-space:pre;overflow-x:auto;line-height:normal;font-family:Menlo,'DejaVu Sans Mono',consolas,'Courier New',monospace\"><span style=\"color: #800080; text-decoration-color: #800080; font-weight: bold\">DatasetDict</span><span style=\"font-weight: bold\">({</span>\n",
       "    train: <span style=\"color: #800080; text-decoration-color: #800080; font-weight: bold\">Dataset</span><span style=\"font-weight: bold\">({</span>\n",
       "        features: <span style=\"font-weight: bold\">[</span><span style=\"color: #008000; text-decoration-color: #008000\">'instruction'</span>, <span style=\"color: #008000; text-decoration-color: #008000\">'input'</span>, <span style=\"color: #008000; text-decoration-color: #008000\">'output'</span><span style=\"font-weight: bold\">]</span>,\n",
       "        num_rows: <span style=\"color: #008080; text-decoration-color: #008080; font-weight: bold\">1041</span>\n",
       "    <span style=\"font-weight: bold\">})</span>\n",
       "    test: <span style=\"color: #800080; text-decoration-color: #800080; font-weight: bold\">Dataset</span><span style=\"font-weight: bold\">({</span>\n",
       "        features: <span style=\"font-weight: bold\">[</span><span style=\"color: #008000; text-decoration-color: #008000\">'instruction'</span>, <span style=\"color: #008000; text-decoration-color: #008000\">'input'</span>, <span style=\"color: #008000; text-decoration-color: #008000\">'output'</span><span style=\"font-weight: bold\">]</span>,\n",
       "        num_rows: <span style=\"color: #008080; text-decoration-color: #008080; font-weight: bold\">55</span>\n",
       "    <span style=\"font-weight: bold\">})</span>\n",
       "<span style=\"font-weight: bold\">})</span>\n",
       "</pre>\n"
      ],
      "text/plain": [
       "\u001b[1;35mDatasetDict\u001b[0m\u001b[1m(\u001b[0m\u001b[1m{\u001b[0m\n",
       "    train: \u001b[1;35mDataset\u001b[0m\u001b[1m(\u001b[0m\u001b[1m{\u001b[0m\n",
       "        features: \u001b[1m[\u001b[0m\u001b[32m'instruction'\u001b[0m, \u001b[32m'input'\u001b[0m, \u001b[32m'output'\u001b[0m\u001b[1m]\u001b[0m,\n",
       "        num_rows: \u001b[1;36m1041\u001b[0m\n",
       "    \u001b[1m}\u001b[0m\u001b[1m)\u001b[0m\n",
       "    test: \u001b[1;35mDataset\u001b[0m\u001b[1m(\u001b[0m\u001b[1m{\u001b[0m\n",
       "        features: \u001b[1m[\u001b[0m\u001b[32m'instruction'\u001b[0m, \u001b[32m'input'\u001b[0m, \u001b[32m'output'\u001b[0m\u001b[1m]\u001b[0m,\n",
       "        num_rows: \u001b[1;36m55\u001b[0m\n",
       "    \u001b[1m}\u001b[0m\u001b[1m)\u001b[0m\n",
       "\u001b[1m}\u001b[0m\u001b[1m)\u001b[0m\n"
      ]
     },
     "metadata": {},
     "output_type": "display_data"
    },
    {
     "data": {
      "text/plain": [
       "LlamaForCausalLM(\n",
       "  (model): LlamaModel(\n",
       "    (embed_tokens): Embedding(32256, 2048)\n",
       "    (layers): ModuleList(\n",
       "      (0-23): 24 x LlamaDecoderLayer(\n",
       "        (self_attn): LlamaAttention(\n",
       "          (q_proj): Linear(in_features=2048, out_features=2048, bias=False)\n",
       "          (k_proj): Linear(in_features=2048, out_features=2048, bias=False)\n",
       "          (v_proj): Linear(in_features=2048, out_features=2048, bias=False)\n",
       "          (o_proj): Linear(in_features=2048, out_features=2048, bias=False)\n",
       "        )\n",
       "        (mlp): LlamaMLP(\n",
       "          (gate_proj): Linear(in_features=2048, out_features=5504, bias=False)\n",
       "          (up_proj): Linear(in_features=2048, out_features=5504, bias=False)\n",
       "          (down_proj): Linear(in_features=5504, out_features=2048, bias=False)\n",
       "          (act_fn): SiLU()\n",
       "        )\n",
       "        (input_layernorm): LlamaRMSNorm((2048,), eps=1e-06)\n",
       "        (post_attention_layernorm): LlamaRMSNorm((2048,), eps=1e-06)\n",
       "      )\n",
       "    )\n",
       "    (norm): LlamaRMSNorm((2048,), eps=1e-06)\n",
       "    (rotary_emb): LlamaRotaryEmbedding()\n",
       "  )\n",
       "  (lm_head): Linear(in_features=2048, out_features=32256, bias=False)\n",
       ")"
      ]
     },
     "execution_count": 8,
     "metadata": {},
     "output_type": "execute_result"
    }
   ],
   "source": [
    "# BIG Test set\n",
    "ds = load_ift(testSize=0.05)\n",
    "print(ds)\n",
    "\n",
    "device = \"mps\" if torch.cuda.is_available() else \"cpu\"\n",
    "model = AutoModelForCausalLM.from_pretrained(\"deepseek-ai/deepseek-coder-1.3b-base\", cache_dir=\"../\" + CACHE_DIR).to(device)\n",
    "tokenizer = AutoTokenizer.from_pretrained(\"deepseek-ai/deepseek-coder-1.3b-base\", cache_dir=\"../\" + CACHE_DIR)\n",
    "\n",
    "model.eval()"
   ]
  },
  {
   "cell_type": "code",
   "execution_count": null,
   "id": "fe9b2644",
   "metadata": {},
   "outputs": [
    {
     "name": "stderr",
     "output_type": "stream",
     "text": [
      "100%|██████████| 55/55 [27:00<00:00, 29.46s/it]\n"
     ]
    }
   ],
   "source": [
    "predictions = []\n",
    "\n",
    "for input in tqdm(ds[\"test\"][\"input\"]):\n",
    "    promt = f\"\"\"You are documenting a Swift codebase.\n",
    "Given a function and a short description of where and how it is used, write a documentation comment that helps future developers understand its purpose.\n",
    "Use ///-style Swift comments.\n",
    "Include parameter and return descriptions, and emphasize intent over implementation.\n",
    "Return only the comment and the function.\n",
    "{input}\n",
    "    \"\"\"\n",
    "    inputs = tokenizer(promt, return_tensors=\"pt\").to(device)\n",
    "    outputs = model.generate(\n",
    "        **inputs,\n",
    "        max_new_tokens = 200,\n",
    "        eos_token_id=tokenizer.eos_token_id,\n",
    "        pad_token_id=tokenizer.eos_token_id,   # чтобы декодер не ругался\n",
    "        do_sample=True,\n",
    "        temperature=0.7,\n",
    "        top_p=0.95)\n",
    "    input_lengths = inputs.input_ids.shape[1]\n",
    "    generated_tokens = outputs[:, input_lengths:]\n",
    "    result = tokenizer.batch_decode(generated_tokens, skip_special_tokens=True)\n",
    "    predictions.append(result[0])"
   ]
  },
  {
   "cell_type": "code",
   "execution_count": 15,
   "id": "612ad957",
   "metadata": {},
   "outputs": [],
   "source": [
    "references=ds[\"test\"][\"input\"]"
   ]
  },
  {
   "cell_type": "code",
   "execution_count": 16,
   "id": "89c1b48c",
   "metadata": {},
   "outputs": [
    {
     "data": {
      "text/html": [
       "<pre style=\"white-space:pre;overflow-x:auto;line-height:normal;font-family:Menlo,'DejaVu Sans Mono',consolas,'Courier New',monospace\"><span style=\"font-weight: bold\">{</span>\n",
       "    <span style=\"color: #008000; text-decoration-color: #008000\">'rouge1'</span>: <span style=\"color: #800080; text-decoration-color: #800080; font-weight: bold\">np.float64</span><span style=\"font-weight: bold\">(</span><span style=\"color: #008080; text-decoration-color: #008080; font-weight: bold\">0.3907492461218042</span><span style=\"font-weight: bold\">)</span>,\n",
       "    <span style=\"color: #008000; text-decoration-color: #008000\">'rouge2'</span>: <span style=\"color: #800080; text-decoration-color: #800080; font-weight: bold\">np.float64</span><span style=\"font-weight: bold\">(</span><span style=\"color: #008080; text-decoration-color: #008080; font-weight: bold\">0.3445763016921688</span><span style=\"font-weight: bold\">)</span>,\n",
       "    <span style=\"color: #008000; text-decoration-color: #008000\">'rougeL'</span>: <span style=\"color: #800080; text-decoration-color: #800080; font-weight: bold\">np.float64</span><span style=\"font-weight: bold\">(</span><span style=\"color: #008080; text-decoration-color: #008080; font-weight: bold\">0.38462004211065065</span><span style=\"font-weight: bold\">)</span>,\n",
       "    <span style=\"color: #008000; text-decoration-color: #008000\">'rougeLsum'</span>: <span style=\"color: #800080; text-decoration-color: #800080; font-weight: bold\">np.float64</span><span style=\"font-weight: bold\">(</span><span style=\"color: #008080; text-decoration-color: #008080; font-weight: bold\">0.3905372102829945</span><span style=\"font-weight: bold\">)</span>\n",
       "<span style=\"font-weight: bold\">}</span>\n",
       "</pre>\n"
      ],
      "text/plain": [
       "\u001b[1m{\u001b[0m\n",
       "    \u001b[32m'rouge1'\u001b[0m: \u001b[1;35mnp.float64\u001b[0m\u001b[1m(\u001b[0m\u001b[1;36m0.3907492461218042\u001b[0m\u001b[1m)\u001b[0m,\n",
       "    \u001b[32m'rouge2'\u001b[0m: \u001b[1;35mnp.float64\u001b[0m\u001b[1m(\u001b[0m\u001b[1;36m0.3445763016921688\u001b[0m\u001b[1m)\u001b[0m,\n",
       "    \u001b[32m'rougeL'\u001b[0m: \u001b[1;35mnp.float64\u001b[0m\u001b[1m(\u001b[0m\u001b[1;36m0.38462004211065065\u001b[0m\u001b[1m)\u001b[0m,\n",
       "    \u001b[32m'rougeLsum'\u001b[0m: \u001b[1;35mnp.float64\u001b[0m\u001b[1m(\u001b[0m\u001b[1;36m0.3905372102829945\u001b[0m\u001b[1m)\u001b[0m\n",
       "\u001b[1m}\u001b[0m\n"
      ]
     },
     "metadata": {},
     "output_type": "display_data"
    }
   ],
   "source": [
    "rouge = evaluate.load(\"rouge\")\n",
    "results = rouge.compute(predictions=predictions, references=references)\n",
    "print(results)"
   ]
  },
  {
   "cell_type": "code",
   "execution_count": 17,
   "id": "70d33469",
   "metadata": {},
   "outputs": [
    {
     "data": {
      "text/html": [
       "<pre style=\"white-space:pre;overflow-x:auto;line-height:normal;font-family:Menlo,'DejaVu Sans Mono',consolas,'Courier New',monospace\"><span style=\"font-weight: bold\">{</span>\n",
       "    <span style=\"color: #008000; text-decoration-color: #008000\">'bleu'</span>: <span style=\"color: #008080; text-decoration-color: #008080; font-weight: bold\">0.26520786081010966</span>,\n",
       "    <span style=\"color: #008000; text-decoration-color: #008000\">'precisions'</span>: <span style=\"font-weight: bold\">[</span><span style=\"color: #008080; text-decoration-color: #008080; font-weight: bold\">0.2920277296360485</span>, <span style=\"color: #008080; text-decoration-color: #008080; font-weight: bold\">0.2661231620323191</span>, <span style=\"color: #008080; text-decoration-color: #008080; font-weight: bold\">0.25579688875843853</span>, <span style=\"color: #008080; text-decoration-color: #008080; font-weight: bold\">0.24885338067761503</span><span style=\"font-weight: bold\">]</span>,\n",
       "    <span style=\"color: #008000; text-decoration-color: #008000\">'brevity_penalty'</span>: <span style=\"color: #008080; text-decoration-color: #008080; font-weight: bold\">1.0</span>,\n",
       "    <span style=\"color: #008000; text-decoration-color: #008000\">'length_ratio'</span>: <span style=\"color: #008080; text-decoration-color: #008080; font-weight: bold\">2.8766098878271706</span>,\n",
       "    <span style=\"color: #008000; text-decoration-color: #008000\">'translation_length'</span>: <span style=\"color: #008080; text-decoration-color: #008080; font-weight: bold\">6924</span>,\n",
       "    <span style=\"color: #008000; text-decoration-color: #008000\">'reference_length'</span>: <span style=\"color: #008080; text-decoration-color: #008080; font-weight: bold\">2407</span>\n",
       "<span style=\"font-weight: bold\">}</span>\n",
       "</pre>\n"
      ],
      "text/plain": [
       "\u001b[1m{\u001b[0m\n",
       "    \u001b[32m'bleu'\u001b[0m: \u001b[1;36m0.26520786081010966\u001b[0m,\n",
       "    \u001b[32m'precisions'\u001b[0m: \u001b[1m[\u001b[0m\u001b[1;36m0.2920277296360485\u001b[0m, \u001b[1;36m0.2661231620323191\u001b[0m, \u001b[1;36m0.25579688875843853\u001b[0m, \u001b[1;36m0.24885338067761503\u001b[0m\u001b[1m]\u001b[0m,\n",
       "    \u001b[32m'brevity_penalty'\u001b[0m: \u001b[1;36m1.0\u001b[0m,\n",
       "    \u001b[32m'length_ratio'\u001b[0m: \u001b[1;36m2.8766098878271706\u001b[0m,\n",
       "    \u001b[32m'translation_length'\u001b[0m: \u001b[1;36m6924\u001b[0m,\n",
       "    \u001b[32m'reference_length'\u001b[0m: \u001b[1;36m2407\u001b[0m\n",
       "\u001b[1m}\u001b[0m\n"
      ]
     },
     "metadata": {},
     "output_type": "display_data"
    }
   ],
   "source": [
    "bleu = evaluate.load(\"bleu\")\n",
    "results = bleu.compute(predictions=predictions, references=references)\n",
    "print(results)"
   ]
  },
  {
   "cell_type": "markdown",
   "id": "3408a82e",
   "metadata": {},
   "source": [
    "## Qwen Inference"
   ]
  },
  {
   "cell_type": "code",
   "execution_count": null,
   "id": "4bc2d8d4",
   "metadata": {},
   "outputs": [
    {
     "data": {
      "text/html": [
       "<pre style=\"white-space:pre;overflow-x:auto;line-height:normal;font-family:Menlo,'DejaVu Sans Mono',consolas,'Courier New',monospace\">GenerationConfig <span style=\"font-weight: bold\">{</span>\n",
       "  <span style=\"color: #008000; text-decoration-color: #008000\">\"bos_token_id\"</span>: <span style=\"color: #008080; text-decoration-color: #008080; font-weight: bold\">151643</span>,\n",
       "  <span style=\"color: #008000; text-decoration-color: #008000\">\"do_sample\"</span>: true,\n",
       "  <span style=\"color: #008000; text-decoration-color: #008000\">\"eos_token_id\"</span>: <span style=\"font-weight: bold\">[</span>\n",
       "    <span style=\"color: #008080; text-decoration-color: #008080; font-weight: bold\">151645</span>,\n",
       "    <span style=\"color: #008080; text-decoration-color: #008080; font-weight: bold\">151643</span>\n",
       "  <span style=\"font-weight: bold\">]</span>,\n",
       "  <span style=\"color: #008000; text-decoration-color: #008000\">\"pad_token_id\"</span>: <span style=\"color: #008080; text-decoration-color: #008080; font-weight: bold\">151643</span>,\n",
       "  <span style=\"color: #008000; text-decoration-color: #008000\">\"temperature\"</span>: <span style=\"color: #008080; text-decoration-color: #008080; font-weight: bold\">0.6</span>,\n",
       "  <span style=\"color: #008000; text-decoration-color: #008000\">\"top_k\"</span>: <span style=\"color: #008080; text-decoration-color: #008080; font-weight: bold\">20</span>,\n",
       "  <span style=\"color: #008000; text-decoration-color: #008000\">\"top_p\"</span>: <span style=\"color: #008080; text-decoration-color: #008080; font-weight: bold\">0.95</span>\n",
       "<span style=\"font-weight: bold\">}</span>\n",
       "\n",
       "</pre>\n"
      ],
      "text/plain": [
       "GenerationConfig \u001b[1m{\u001b[0m\n",
       "  \u001b[32m\"bos_token_id\"\u001b[0m: \u001b[1;36m151643\u001b[0m,\n",
       "  \u001b[32m\"do_sample\"\u001b[0m: true,\n",
       "  \u001b[32m\"eos_token_id\"\u001b[0m: \u001b[1m[\u001b[0m\n",
       "    \u001b[1;36m151645\u001b[0m,\n",
       "    \u001b[1;36m151643\u001b[0m\n",
       "  \u001b[1m]\u001b[0m,\n",
       "  \u001b[32m\"pad_token_id\"\u001b[0m: \u001b[1;36m151643\u001b[0m,\n",
       "  \u001b[32m\"temperature\"\u001b[0m: \u001b[1;36m0.6\u001b[0m,\n",
       "  \u001b[32m\"top_k\"\u001b[0m: \u001b[1;36m20\u001b[0m,\n",
       "  \u001b[32m\"top_p\"\u001b[0m: \u001b[1;36m0.95\u001b[0m\n",
       "\u001b[1m}\u001b[0m\n",
       "\n"
      ]
     },
     "metadata": {},
     "output_type": "display_data"
    },
    {
     "data": {
      "text/html": [
       "<pre style=\"white-space:pre;overflow-x:auto;line-height:normal;font-family:Menlo,'DejaVu Sans Mono',consolas,'Courier New',monospace\">Predict: \n",
       " <span style=\"color: #800080; text-decoration-color: #800080\">///</span> Returns a randomly selected element from the given array of strings, or nil if the array is empty.\n",
       "<span style=\"color: #800080; text-decoration-color: #800080\">///</span>\n",
       "<span style=\"color: #800080; text-decoration-color: #800080\">///</span> - Parameters:\n",
       "<span style=\"color: #800080; text-decoration-color: #800080\">///</span>   - array: A non-nil array of strings.\n",
       "<span style=\"color: #800080; text-decoration-color: #800080\">///</span> - Returns: A randomly selected string, or nil if the array is empty.\n",
       "<span style=\"color: #800080; text-decoration-color: #800080\">///</span>\n",
       "<span style=\"color: #800080; text-decoration-color: #800080\">///</span> @param array A non-nil array of strings.\n",
       "<span style=\"color: #800080; text-decoration-color: #800080\">///</span> @return A randomly selected string, or nil if the array is empty.\n",
       "func <span style=\"color: #800080; text-decoration-color: #800080; font-weight: bold\">randomElementFromStringArray</span><span style=\"font-weight: bold\">(</span>_ array: <span style=\"font-weight: bold\">[</span>String<span style=\"font-weight: bold\">])</span> -&gt; String? <span style=\"font-weight: bold\">{</span>\n",
       "    return <span style=\"color: #800080; text-decoration-color: #800080; font-weight: bold\">array.randomElement</span><span style=\"font-weight: bold\">()</span>\n",
       "<span style=\"font-weight: bold\">}</span>\n",
       "</pre>\n"
      ],
      "text/plain": [
       "Predict: \n",
       " \u001b[35m/\u001b[0m\u001b[35m/\u001b[0m\u001b[35m/\u001b[0m Returns a randomly selected element from the given array of strings, or nil if the array is empty.\n",
       "\u001b[35m/\u001b[0m\u001b[35m/\u001b[0m\u001b[35m/\u001b[0m\n",
       "\u001b[35m/\u001b[0m\u001b[35m/\u001b[0m\u001b[35m/\u001b[0m - Parameters:\n",
       "\u001b[35m/\u001b[0m\u001b[35m/\u001b[0m\u001b[35m/\u001b[0m   - array: A non-nil array of strings.\n",
       "\u001b[35m/\u001b[0m\u001b[35m/\u001b[0m\u001b[35m/\u001b[0m - Returns: A randomly selected string, or nil if the array is empty.\n",
       "\u001b[35m/\u001b[0m\u001b[35m/\u001b[0m\u001b[35m/\u001b[0m\n",
       "\u001b[35m/\u001b[0m\u001b[35m/\u001b[0m\u001b[35m/\u001b[0m @param array A non-nil array of strings.\n",
       "\u001b[35m/\u001b[0m\u001b[35m/\u001b[0m\u001b[35m/\u001b[0m @return A randomly selected string, or nil if the array is empty.\n",
       "func \u001b[1;35mrandomElementFromStringArray\u001b[0m\u001b[1m(\u001b[0m_ array: \u001b[1m[\u001b[0mString\u001b[1m]\u001b[0m\u001b[1m)\u001b[0m -> String? \u001b[1m{\u001b[0m\n",
       "    return \u001b[1;35marray.randomElement\u001b[0m\u001b[1m(\u001b[0m\u001b[1m)\u001b[0m\n",
       "\u001b[1m}\u001b[0m\n"
      ]
     },
     "metadata": {},
     "output_type": "display_data"
    },
    {
     "data": {
      "text/html": [
       "<pre style=\"white-space:pre;overflow-x:auto;line-height:normal;font-family:Menlo,'DejaVu Sans Mono',consolas,'Courier New',monospace\"><span style=\"color: #800080; text-decoration-color: #800080; font-weight: bold\">tensor</span><span style=\"font-weight: bold\">([[</span><span style=\"color: #008080; text-decoration-color: #008080; font-weight: bold\">151644</span>,    <span style=\"color: #008080; text-decoration-color: #008080; font-weight: bold\">872</span>,    <span style=\"color: #008080; text-decoration-color: #008080; font-weight: bold\">271</span>,   <span style=\"color: #008080; text-decoration-color: #008080; font-weight: bold\">7985</span>,    <span style=\"color: #008080; text-decoration-color: #008080; font-weight: bold\">264</span>,  <span style=\"color: #008080; text-decoration-color: #008080; font-weight: bold\">23670</span>,  <span style=\"color: #008080; text-decoration-color: #008080; font-weight: bold\">11297</span>,   <span style=\"color: #008080; text-decoration-color: #008080; font-weight: bold\">9705</span>,   <span style=\"color: #008080; text-decoration-color: #008080; font-weight: bold\">3980</span>,\n",
       "          <span style=\"color: #008080; text-decoration-color: #008080; font-weight: bold\">28654</span>,   <span style=\"color: #008080; text-decoration-color: #008080; font-weight: bold\">2575</span>,  <span style=\"color: #008080; text-decoration-color: #008080; font-weight: bold\">32881</span>,    <span style=\"color: #008080; text-decoration-color: #008080; font-weight: bold\">369</span>,    <span style=\"color: #008080; text-decoration-color: #008080; font-weight: bold\">279</span>,    <span style=\"color: #008080; text-decoration-color: #008080; font-weight: bold\">729</span>,   <span style=\"color: #008080; text-decoration-color: #008080; font-weight: bold\">3685</span>,     <span style=\"color: #008080; text-decoration-color: #008080; font-weight: bold\">13</span>,    <span style=\"color: #008080; text-decoration-color: #008080; font-weight: bold\">576</span>,\n",
       "           <span style=\"color: #008080; text-decoration-color: #008080; font-weight: bold\">3980</span>,   <span style=\"color: #008080; text-decoration-color: #008080; font-weight: bold\">1969</span>,   <span style=\"color: #008080; text-decoration-color: #008080; font-weight: bold\">7512</span>,    <span style=\"color: #008080; text-decoration-color: #008080; font-weight: bold\">279</span>,    <span style=\"color: #008080; text-decoration-color: #008080; font-weight: bold\">729</span>,    <span style=\"color: #008080; text-decoration-color: #008080; font-weight: bold\">748</span>,   <span style=\"color: #008080; text-decoration-color: #008080; font-weight: bold\">7428</span>,     <span style=\"color: #008080; text-decoration-color: #008080; font-weight: bold\">11</span>,   <span style=\"color: #008080; text-decoration-color: #008080; font-weight: bold\">5029</span>,\n",
       "             <span style=\"color: #008080; text-decoration-color: #008080; font-weight: bold\">11</span>,    <span style=\"color: #008080; text-decoration-color: #008080; font-weight: bold\">323</span>,    <span style=\"color: #008080; text-decoration-color: #008080; font-weight: bold\">470</span>,    <span style=\"color: #008080; text-decoration-color: #008080; font-weight: bold\">897</span>,     <span style=\"color: #008080; text-decoration-color: #008080; font-weight: bold\">11</span>,   <span style=\"color: #008080; text-decoration-color: #008080; font-weight: bold\">1667</span>,   <span style=\"color: #008080; text-decoration-color: #008080; font-weight: bold\">8162</span>,    <span style=\"color: #008080; text-decoration-color: #008080; font-weight: bold\">594</span>,   <span style=\"color: #008080; text-decoration-color: #008080; font-weight: bold\">9705</span>,\n",
       "          <span style=\"color: #008080; text-decoration-color: #008080; font-weight: bold\">44493</span>,    <span style=\"color: #008080; text-decoration-color: #008080; font-weight: bold\">382</span>,   <span style=\"color: #008080; text-decoration-color: #008080; font-weight: bold\">7308</span>,    <span style=\"color: #008080; text-decoration-color: #008080; font-weight: bold\">470</span>,    <span style=\"color: #008080; text-decoration-color: #008080; font-weight: bold\">279</span>,   <span style=\"color: #008080; text-decoration-color: #008080; font-weight: bold\">9705</span>,   <span style=\"color: #008080; text-decoration-color: #008080; font-weight: bold\">3980</span>,    <span style=\"color: #008080; text-decoration-color: #008080; font-weight: bold\">323</span>,    <span style=\"color: #008080; text-decoration-color: #008080; font-weight: bold\">279</span>,\n",
       "            <span style=\"color: #008080; text-decoration-color: #008080; font-weight: bold\">729</span>,   <span style=\"color: #008080; text-decoration-color: #008080; font-weight: bold\">5086</span>,     <span style=\"color: #008080; text-decoration-color: #008080; font-weight: bold\">13</span>,   <span style=\"color: #008080; text-decoration-color: #008080; font-weight: bold\">3070</span>,   <span style=\"color: #008080; text-decoration-color: #008080; font-weight: bold\">5404</span>,    <span style=\"color: #008080; text-decoration-color: #008080; font-weight: bold\">537</span>,    <span style=\"color: #008080; text-decoration-color: #008080; font-weight: bold\">990</span>,    <span style=\"color: #008080; text-decoration-color: #008080; font-weight: bold\">894</span>,  <span style=\"color: #008080; text-decoration-color: #008080; font-weight: bold\">73192</span>,\n",
       "          <span style=\"color: #008080; text-decoration-color: #008080; font-weight: bold\">36566</span>,  <span style=\"color: #008080; text-decoration-color: #008080; font-weight: bold\">97219</span>,   <span style=\"color: #008080; text-decoration-color: #008080; font-weight: bold\">1741</span>,    <span style=\"color: #008080; text-decoration-color: #008080; font-weight: bold\">438</span>,  <span style=\"color: #008080; text-decoration-color: #008080; font-weight: bold\">54275</span>,    <span style=\"color: #008080; text-decoration-color: #008080; font-weight: bold\">476</span>,   <span style=\"color: #008080; text-decoration-color: #008080; font-weight: bold\">2038</span>,  <span style=\"color: #008080; text-decoration-color: #008080; font-weight: bold\">10010</span>,     <span style=\"color: #008080; text-decoration-color: #008080; font-weight: bold\">13</span>,\n",
       "           <span style=\"color: #008080; text-decoration-color: #008080; font-weight: bold\">4599</span>,  <span style=\"color: #008080; text-decoration-color: #008080; font-weight: bold\">14396</span>,  <span style=\"color: #008080; text-decoration-color: #008080; font-weight: bold\">23670</span>,   <span style=\"color: #008080; text-decoration-color: #008080; font-weight: bold\">2038</span>,    <span style=\"color: #008080; text-decoration-color: #008080; font-weight: bold\">448</span>,   <span style=\"color: #008080; text-decoration-color: #008080; font-weight: bold\">6042</span>,    <span style=\"color: #008080; text-decoration-color: #008080; font-weight: bold\">382</span>,   <span style=\"color: #008080; text-decoration-color: #008080; font-weight: bold\">5152</span>,  <span style=\"color: #008080; text-decoration-color: #008080; font-weight: bold\">24391</span>,\n",
       "           <span style=\"color: #008080; text-decoration-color: #008080; font-weight: bold\">2830</span>,   <span style=\"color: #008080; text-decoration-color: #008080; font-weight: bold\">4194</span>,   <span style=\"color: #008080; text-decoration-color: #008080; font-weight: bold\">1691</span>,  <span style=\"color: #008080; text-decoration-color: #008080; font-weight: bold\">44491</span>,   <span style=\"color: #008080; text-decoration-color: #008080; font-weight: bold\">1857</span>,   <span style=\"color: #008080; text-decoration-color: #008080; font-weight: bold\">2490</span>,   <span style=\"color: #008080; text-decoration-color: #008080; font-weight: bold\">1334</span>,     <span style=\"color: #008080; text-decoration-color: #008080; font-weight: bold\">25</span>,    <span style=\"color: #008080; text-decoration-color: #008080; font-weight: bold\">508</span>,\n",
       "            <span style=\"color: #008080; text-decoration-color: #008080; font-weight: bold\">703</span>,   <span style=\"color: #008080; text-decoration-color: #008080; font-weight: bold\">2467</span>,   <span style=\"color: #008080; text-decoration-color: #008080; font-weight: bold\">1464</span>,    <span style=\"color: #008080; text-decoration-color: #008080; font-weight: bold\">923</span>,     <span style=\"color: #008080; text-decoration-color: #008080; font-weight: bold\">30</span>,    <span style=\"color: #008080; text-decoration-color: #008080; font-weight: bold\">341</span>,    <span style=\"color: #008080; text-decoration-color: #008080; font-weight: bold\">262</span>,    <span style=\"color: #008080; text-decoration-color: #008080; font-weight: bold\">470</span>,   <span style=\"color: #008080; text-decoration-color: #008080; font-weight: bold\">1334</span>,\n",
       "           <span style=\"color: #008080; text-decoration-color: #008080; font-weight: bold\">7829</span>,   <span style=\"color: #008080; text-decoration-color: #008080; font-weight: bold\">1691</span>,    <span style=\"color: #008080; text-decoration-color: #008080; font-weight: bold\">741</span>,     <span style=\"color: #008080; text-decoration-color: #008080; font-weight: bold\">92</span>,  <span style=\"color: #008080; text-decoration-color: #008080; font-weight: bold\">14731</span>, <span style=\"color: #008080; text-decoration-color: #008080; font-weight: bold\">151645</span>,    <span style=\"color: #008080; text-decoration-color: #008080; font-weight: bold\">198</span>, <span style=\"color: #008080; text-decoration-color: #008080; font-weight: bold\">151644</span>,  <span style=\"color: #008080; text-decoration-color: #008080; font-weight: bold\">77091</span>,\n",
       "            <span style=\"color: #008080; text-decoration-color: #008080; font-weight: bold\">198</span>, <span style=\"color: #008080; text-decoration-color: #008080; font-weight: bold\">151667</span>,    <span style=\"color: #008080; text-decoration-color: #008080; font-weight: bold\">271</span>, <span style=\"color: #008080; text-decoration-color: #008080; font-weight: bold\">151668</span>,    <span style=\"color: #008080; text-decoration-color: #008080; font-weight: bold\">271</span>,   <span style=\"color: #008080; text-decoration-color: #008080; font-weight: bold\">2575</span>,   <span style=\"color: #008080; text-decoration-color: #008080; font-weight: bold\">5184</span>,    <span style=\"color: #008080; text-decoration-color: #008080; font-weight: bold\">264</span>,  <span style=\"color: #008080; text-decoration-color: #008080; font-weight: bold\">26618</span>,\n",
       "           <span style=\"color: #008080; text-decoration-color: #008080; font-weight: bold\">4091</span>,   <span style=\"color: #008080; text-decoration-color: #008080; font-weight: bold\">2392</span>,    <span style=\"color: #008080; text-decoration-color: #008080; font-weight: bold\">504</span>,    <span style=\"color: #008080; text-decoration-color: #008080; font-weight: bold\">279</span>,   <span style=\"color: #008080; text-decoration-color: #008080; font-weight: bold\">2661</span>,   <span style=\"color: #008080; text-decoration-color: #008080; font-weight: bold\">1334</span>,    <span style=\"color: #008080; text-decoration-color: #008080; font-weight: bold\">315</span>,   <span style=\"color: #008080; text-decoration-color: #008080; font-weight: bold\">9069</span>,     <span style=\"color: #008080; text-decoration-color: #008080; font-weight: bold\">11</span>,\n",
       "            <span style=\"color: #008080; text-decoration-color: #008080; font-weight: bold\">476</span>,   <span style=\"color: #008080; text-decoration-color: #008080; font-weight: bold\">2092</span>,    <span style=\"color: #008080; text-decoration-color: #008080; font-weight: bold\">421</span>,    <span style=\"color: #008080; text-decoration-color: #008080; font-weight: bold\">279</span>,   <span style=\"color: #008080; text-decoration-color: #008080; font-weight: bold\">1334</span>,    <span style=\"color: #008080; text-decoration-color: #008080; font-weight: bold\">374</span>,   <span style=\"color: #008080; text-decoration-color: #008080; font-weight: bold\">4287</span>,    <span style=\"color: #008080; text-decoration-color: #008080; font-weight: bold\">624</span>,  <span style=\"color: #008080; text-decoration-color: #008080; font-weight: bold\">15374</span>,\n",
       "           <span style=\"color: #008080; text-decoration-color: #008080; font-weight: bold\">2575</span>,    <span style=\"color: #008080; text-decoration-color: #008080; font-weight: bold\">481</span>,  <span style=\"color: #008080; text-decoration-color: #008080; font-weight: bold\">13522</span>,    <span style=\"color: #008080; text-decoration-color: #008080; font-weight: bold\">510</span>,   <span style=\"color: #008080; text-decoration-color: #008080; font-weight: bold\">2575</span>,    <span style=\"color: #008080; text-decoration-color: #008080; font-weight: bold\">256</span>,    <span style=\"color: #008080; text-decoration-color: #008080; font-weight: bold\">481</span>,   <span style=\"color: #008080; text-decoration-color: #008080; font-weight: bold\">1334</span>,     <span style=\"color: #008080; text-decoration-color: #008080; font-weight: bold\">25</span>,\n",
       "            <span style=\"color: #008080; text-decoration-color: #008080; font-weight: bold\">362</span>,   <span style=\"color: #008080; text-decoration-color: #008080; font-weight: bold\">2477</span>,  <span style=\"color: #008080; text-decoration-color: #008080; font-weight: bold\">83248</span>,   <span style=\"color: #008080; text-decoration-color: #008080; font-weight: bold\">1334</span>,    <span style=\"color: #008080; text-decoration-color: #008080; font-weight: bold\">315</span>,   <span style=\"color: #008080; text-decoration-color: #008080; font-weight: bold\">9069</span>,    <span style=\"color: #008080; text-decoration-color: #008080; font-weight: bold\">624</span>,   <span style=\"color: #008080; text-decoration-color: #008080; font-weight: bold\">2575</span>,    <span style=\"color: #008080; text-decoration-color: #008080; font-weight: bold\">481</span>,\n",
       "           <span style=\"color: #008080; text-decoration-color: #008080; font-weight: bold\">5184</span>,     <span style=\"color: #008080; text-decoration-color: #008080; font-weight: bold\">25</span>,    <span style=\"color: #008080; text-decoration-color: #008080; font-weight: bold\">362</span>,  <span style=\"color: #008080; text-decoration-color: #008080; font-weight: bold\">26618</span>,   <span style=\"color: #008080; text-decoration-color: #008080; font-weight: bold\">4091</span>,    <span style=\"color: #008080; text-decoration-color: #008080; font-weight: bold\">914</span>,     <span style=\"color: #008080; text-decoration-color: #008080; font-weight: bold\">11</span>,    <span style=\"color: #008080; text-decoration-color: #008080; font-weight: bold\">476</span>,   <span style=\"color: #008080; text-decoration-color: #008080; font-weight: bold\">2092</span>,\n",
       "            <span style=\"color: #008080; text-decoration-color: #008080; font-weight: bold\">421</span>,    <span style=\"color: #008080; text-decoration-color: #008080; font-weight: bold\">279</span>,   <span style=\"color: #008080; text-decoration-color: #008080; font-weight: bold\">1334</span>,    <span style=\"color: #008080; text-decoration-color: #008080; font-weight: bold\">374</span>,   <span style=\"color: #008080; text-decoration-color: #008080; font-weight: bold\">4287</span>,    <span style=\"color: #008080; text-decoration-color: #008080; font-weight: bold\">624</span>,  <span style=\"color: #008080; text-decoration-color: #008080; font-weight: bold\">15374</span>,   <span style=\"color: #008080; text-decoration-color: #008080; font-weight: bold\">2575</span>,    <span style=\"color: #008080; text-decoration-color: #008080; font-weight: bold\">569</span>,\n",
       "            <span style=\"color: #008080; text-decoration-color: #008080; font-weight: bold\">903</span>,   <span style=\"color: #008080; text-decoration-color: #008080; font-weight: bold\">1334</span>,    <span style=\"color: #008080; text-decoration-color: #008080; font-weight: bold\">362</span>,   <span style=\"color: #008080; text-decoration-color: #008080; font-weight: bold\">2477</span>,  <span style=\"color: #008080; text-decoration-color: #008080; font-weight: bold\">83248</span>,   <span style=\"color: #008080; text-decoration-color: #008080; font-weight: bold\">1334</span>,    <span style=\"color: #008080; text-decoration-color: #008080; font-weight: bold\">315</span>,   <span style=\"color: #008080; text-decoration-color: #008080; font-weight: bold\">9069</span>,    <span style=\"color: #008080; text-decoration-color: #008080; font-weight: bold\">624</span>,\n",
       "           <span style=\"color: #008080; text-decoration-color: #008080; font-weight: bold\">2575</span>,    <span style=\"color: #008080; text-decoration-color: #008080; font-weight: bold\">569</span>,    <span style=\"color: #008080; text-decoration-color: #008080; font-weight: bold\">689</span>,    <span style=\"color: #008080; text-decoration-color: #008080; font-weight: bold\">362</span>,  <span style=\"color: #008080; text-decoration-color: #008080; font-weight: bold\">26618</span>,   <span style=\"color: #008080; text-decoration-color: #008080; font-weight: bold\">4091</span>,    <span style=\"color: #008080; text-decoration-color: #008080; font-weight: bold\">914</span>,     <span style=\"color: #008080; text-decoration-color: #008080; font-weight: bold\">11</span>,    <span style=\"color: #008080; text-decoration-color: #008080; font-weight: bold\">476</span>,\n",
       "           <span style=\"color: #008080; text-decoration-color: #008080; font-weight: bold\">2092</span>,    <span style=\"color: #008080; text-decoration-color: #008080; font-weight: bold\">421</span>,    <span style=\"color: #008080; text-decoration-color: #008080; font-weight: bold\">279</span>,   <span style=\"color: #008080; text-decoration-color: #008080; font-weight: bold\">1334</span>,    <span style=\"color: #008080; text-decoration-color: #008080; font-weight: bold\">374</span>,   <span style=\"color: #008080; text-decoration-color: #008080; font-weight: bold\">4287</span>,    <span style=\"color: #008080; text-decoration-color: #008080; font-weight: bold\">624</span>,   <span style=\"color: #008080; text-decoration-color: #008080; font-weight: bold\">2830</span>,   <span style=\"color: #008080; text-decoration-color: #008080; font-weight: bold\">4194</span>,\n",
       "           <span style=\"color: #008080; text-decoration-color: #008080; font-weight: bold\">1691</span>,  <span style=\"color: #008080; text-decoration-color: #008080; font-weight: bold\">44491</span>,   <span style=\"color: #008080; text-decoration-color: #008080; font-weight: bold\">1857</span>,   <span style=\"color: #008080; text-decoration-color: #008080; font-weight: bold\">2490</span>,   <span style=\"color: #008080; text-decoration-color: #008080; font-weight: bold\">1334</span>,     <span style=\"color: #008080; text-decoration-color: #008080; font-weight: bold\">25</span>,    <span style=\"color: #008080; text-decoration-color: #008080; font-weight: bold\">508</span>,    <span style=\"color: #008080; text-decoration-color: #008080; font-weight: bold\">703</span>,   <span style=\"color: #008080; text-decoration-color: #008080; font-weight: bold\">2467</span>,\n",
       "           <span style=\"color: #008080; text-decoration-color: #008080; font-weight: bold\">1464</span>,    <span style=\"color: #008080; text-decoration-color: #008080; font-weight: bold\">923</span>,     <span style=\"color: #008080; text-decoration-color: #008080; font-weight: bold\">30</span>,    <span style=\"color: #008080; text-decoration-color: #008080; font-weight: bold\">341</span>,    <span style=\"color: #008080; text-decoration-color: #008080; font-weight: bold\">262</span>,    <span style=\"color: #008080; text-decoration-color: #008080; font-weight: bold\">470</span>,   <span style=\"color: #008080; text-decoration-color: #008080; font-weight: bold\">1334</span>,   <span style=\"color: #008080; text-decoration-color: #008080; font-weight: bold\">7829</span>,   <span style=\"color: #008080; text-decoration-color: #008080; font-weight: bold\">1691</span>,\n",
       "            <span style=\"color: #008080; text-decoration-color: #008080; font-weight: bold\">741</span>,     <span style=\"color: #008080; text-decoration-color: #008080; font-weight: bold\">92</span>, <span style=\"color: #008080; text-decoration-color: #008080; font-weight: bold\">151645</span><span style=\"font-weight: bold\">]])</span>\n",
       "</pre>\n"
      ],
      "text/plain": [
       "\u001b[1;35mtensor\u001b[0m\u001b[1m(\u001b[0m\u001b[1m[\u001b[0m\u001b[1m[\u001b[0m\u001b[1;36m151644\u001b[0m,    \u001b[1;36m872\u001b[0m,    \u001b[1;36m271\u001b[0m,   \u001b[1;36m7985\u001b[0m,    \u001b[1;36m264\u001b[0m,  \u001b[1;36m23670\u001b[0m,  \u001b[1;36m11297\u001b[0m,   \u001b[1;36m9705\u001b[0m,   \u001b[1;36m3980\u001b[0m,\n",
       "          \u001b[1;36m28654\u001b[0m,   \u001b[1;36m2575\u001b[0m,  \u001b[1;36m32881\u001b[0m,    \u001b[1;36m369\u001b[0m,    \u001b[1;36m279\u001b[0m,    \u001b[1;36m729\u001b[0m,   \u001b[1;36m3685\u001b[0m,     \u001b[1;36m13\u001b[0m,    \u001b[1;36m576\u001b[0m,\n",
       "           \u001b[1;36m3980\u001b[0m,   \u001b[1;36m1969\u001b[0m,   \u001b[1;36m7512\u001b[0m,    \u001b[1;36m279\u001b[0m,    \u001b[1;36m729\u001b[0m,    \u001b[1;36m748\u001b[0m,   \u001b[1;36m7428\u001b[0m,     \u001b[1;36m11\u001b[0m,   \u001b[1;36m5029\u001b[0m,\n",
       "             \u001b[1;36m11\u001b[0m,    \u001b[1;36m323\u001b[0m,    \u001b[1;36m470\u001b[0m,    \u001b[1;36m897\u001b[0m,     \u001b[1;36m11\u001b[0m,   \u001b[1;36m1667\u001b[0m,   \u001b[1;36m8162\u001b[0m,    \u001b[1;36m594\u001b[0m,   \u001b[1;36m9705\u001b[0m,\n",
       "          \u001b[1;36m44493\u001b[0m,    \u001b[1;36m382\u001b[0m,   \u001b[1;36m7308\u001b[0m,    \u001b[1;36m470\u001b[0m,    \u001b[1;36m279\u001b[0m,   \u001b[1;36m9705\u001b[0m,   \u001b[1;36m3980\u001b[0m,    \u001b[1;36m323\u001b[0m,    \u001b[1;36m279\u001b[0m,\n",
       "            \u001b[1;36m729\u001b[0m,   \u001b[1;36m5086\u001b[0m,     \u001b[1;36m13\u001b[0m,   \u001b[1;36m3070\u001b[0m,   \u001b[1;36m5404\u001b[0m,    \u001b[1;36m537\u001b[0m,    \u001b[1;36m990\u001b[0m,    \u001b[1;36m894\u001b[0m,  \u001b[1;36m73192\u001b[0m,\n",
       "          \u001b[1;36m36566\u001b[0m,  \u001b[1;36m97219\u001b[0m,   \u001b[1;36m1741\u001b[0m,    \u001b[1;36m438\u001b[0m,  \u001b[1;36m54275\u001b[0m,    \u001b[1;36m476\u001b[0m,   \u001b[1;36m2038\u001b[0m,  \u001b[1;36m10010\u001b[0m,     \u001b[1;36m13\u001b[0m,\n",
       "           \u001b[1;36m4599\u001b[0m,  \u001b[1;36m14396\u001b[0m,  \u001b[1;36m23670\u001b[0m,   \u001b[1;36m2038\u001b[0m,    \u001b[1;36m448\u001b[0m,   \u001b[1;36m6042\u001b[0m,    \u001b[1;36m382\u001b[0m,   \u001b[1;36m5152\u001b[0m,  \u001b[1;36m24391\u001b[0m,\n",
       "           \u001b[1;36m2830\u001b[0m,   \u001b[1;36m4194\u001b[0m,   \u001b[1;36m1691\u001b[0m,  \u001b[1;36m44491\u001b[0m,   \u001b[1;36m1857\u001b[0m,   \u001b[1;36m2490\u001b[0m,   \u001b[1;36m1334\u001b[0m,     \u001b[1;36m25\u001b[0m,    \u001b[1;36m508\u001b[0m,\n",
       "            \u001b[1;36m703\u001b[0m,   \u001b[1;36m2467\u001b[0m,   \u001b[1;36m1464\u001b[0m,    \u001b[1;36m923\u001b[0m,     \u001b[1;36m30\u001b[0m,    \u001b[1;36m341\u001b[0m,    \u001b[1;36m262\u001b[0m,    \u001b[1;36m470\u001b[0m,   \u001b[1;36m1334\u001b[0m,\n",
       "           \u001b[1;36m7829\u001b[0m,   \u001b[1;36m1691\u001b[0m,    \u001b[1;36m741\u001b[0m,     \u001b[1;36m92\u001b[0m,  \u001b[1;36m14731\u001b[0m, \u001b[1;36m151645\u001b[0m,    \u001b[1;36m198\u001b[0m, \u001b[1;36m151644\u001b[0m,  \u001b[1;36m77091\u001b[0m,\n",
       "            \u001b[1;36m198\u001b[0m, \u001b[1;36m151667\u001b[0m,    \u001b[1;36m271\u001b[0m, \u001b[1;36m151668\u001b[0m,    \u001b[1;36m271\u001b[0m,   \u001b[1;36m2575\u001b[0m,   \u001b[1;36m5184\u001b[0m,    \u001b[1;36m264\u001b[0m,  \u001b[1;36m26618\u001b[0m,\n",
       "           \u001b[1;36m4091\u001b[0m,   \u001b[1;36m2392\u001b[0m,    \u001b[1;36m504\u001b[0m,    \u001b[1;36m279\u001b[0m,   \u001b[1;36m2661\u001b[0m,   \u001b[1;36m1334\u001b[0m,    \u001b[1;36m315\u001b[0m,   \u001b[1;36m9069\u001b[0m,     \u001b[1;36m11\u001b[0m,\n",
       "            \u001b[1;36m476\u001b[0m,   \u001b[1;36m2092\u001b[0m,    \u001b[1;36m421\u001b[0m,    \u001b[1;36m279\u001b[0m,   \u001b[1;36m1334\u001b[0m,    \u001b[1;36m374\u001b[0m,   \u001b[1;36m4287\u001b[0m,    \u001b[1;36m624\u001b[0m,  \u001b[1;36m15374\u001b[0m,\n",
       "           \u001b[1;36m2575\u001b[0m,    \u001b[1;36m481\u001b[0m,  \u001b[1;36m13522\u001b[0m,    \u001b[1;36m510\u001b[0m,   \u001b[1;36m2575\u001b[0m,    \u001b[1;36m256\u001b[0m,    \u001b[1;36m481\u001b[0m,   \u001b[1;36m1334\u001b[0m,     \u001b[1;36m25\u001b[0m,\n",
       "            \u001b[1;36m362\u001b[0m,   \u001b[1;36m2477\u001b[0m,  \u001b[1;36m83248\u001b[0m,   \u001b[1;36m1334\u001b[0m,    \u001b[1;36m315\u001b[0m,   \u001b[1;36m9069\u001b[0m,    \u001b[1;36m624\u001b[0m,   \u001b[1;36m2575\u001b[0m,    \u001b[1;36m481\u001b[0m,\n",
       "           \u001b[1;36m5184\u001b[0m,     \u001b[1;36m25\u001b[0m,    \u001b[1;36m362\u001b[0m,  \u001b[1;36m26618\u001b[0m,   \u001b[1;36m4091\u001b[0m,    \u001b[1;36m914\u001b[0m,     \u001b[1;36m11\u001b[0m,    \u001b[1;36m476\u001b[0m,   \u001b[1;36m2092\u001b[0m,\n",
       "            \u001b[1;36m421\u001b[0m,    \u001b[1;36m279\u001b[0m,   \u001b[1;36m1334\u001b[0m,    \u001b[1;36m374\u001b[0m,   \u001b[1;36m4287\u001b[0m,    \u001b[1;36m624\u001b[0m,  \u001b[1;36m15374\u001b[0m,   \u001b[1;36m2575\u001b[0m,    \u001b[1;36m569\u001b[0m,\n",
       "            \u001b[1;36m903\u001b[0m,   \u001b[1;36m1334\u001b[0m,    \u001b[1;36m362\u001b[0m,   \u001b[1;36m2477\u001b[0m,  \u001b[1;36m83248\u001b[0m,   \u001b[1;36m1334\u001b[0m,    \u001b[1;36m315\u001b[0m,   \u001b[1;36m9069\u001b[0m,    \u001b[1;36m624\u001b[0m,\n",
       "           \u001b[1;36m2575\u001b[0m,    \u001b[1;36m569\u001b[0m,    \u001b[1;36m689\u001b[0m,    \u001b[1;36m362\u001b[0m,  \u001b[1;36m26618\u001b[0m,   \u001b[1;36m4091\u001b[0m,    \u001b[1;36m914\u001b[0m,     \u001b[1;36m11\u001b[0m,    \u001b[1;36m476\u001b[0m,\n",
       "           \u001b[1;36m2092\u001b[0m,    \u001b[1;36m421\u001b[0m,    \u001b[1;36m279\u001b[0m,   \u001b[1;36m1334\u001b[0m,    \u001b[1;36m374\u001b[0m,   \u001b[1;36m4287\u001b[0m,    \u001b[1;36m624\u001b[0m,   \u001b[1;36m2830\u001b[0m,   \u001b[1;36m4194\u001b[0m,\n",
       "           \u001b[1;36m1691\u001b[0m,  \u001b[1;36m44491\u001b[0m,   \u001b[1;36m1857\u001b[0m,   \u001b[1;36m2490\u001b[0m,   \u001b[1;36m1334\u001b[0m,     \u001b[1;36m25\u001b[0m,    \u001b[1;36m508\u001b[0m,    \u001b[1;36m703\u001b[0m,   \u001b[1;36m2467\u001b[0m,\n",
       "           \u001b[1;36m1464\u001b[0m,    \u001b[1;36m923\u001b[0m,     \u001b[1;36m30\u001b[0m,    \u001b[1;36m341\u001b[0m,    \u001b[1;36m262\u001b[0m,    \u001b[1;36m470\u001b[0m,   \u001b[1;36m1334\u001b[0m,   \u001b[1;36m7829\u001b[0m,   \u001b[1;36m1691\u001b[0m,\n",
       "            \u001b[1;36m741\u001b[0m,     \u001b[1;36m92\u001b[0m, \u001b[1;36m151645\u001b[0m\u001b[1m]\u001b[0m\u001b[1m]\u001b[0m\u001b[1m)\u001b[0m\n"
      ]
     },
     "metadata": {},
     "output_type": "display_data"
    }
   ],
   "source": [
    "### Qwen 3 Inference\n",
    "\n",
    "insert_function = \"\"\"\n",
    "func randomElementFromStringArray(_ array: [String]) -> String? {\n",
    "    return array.randomElement()\n",
    "} \n",
    "\"\"\"\n",
    "\n",
    "# Лучшая версия promts для deepseek-coder\n",
    "prompt = f\"\"\"\n",
    "Write a Swift-style documentation comment (`///`) for the function below. The comment must describe the function’s purpose, parameters, and return value, using Apple's documentation conventions.\n",
    "\n",
    "Only return the documentation comment and the function itself. **Do not use any Markdown formatting**, such as ``` or code blocks. Just plain Swift code with comments.\n",
    "\n",
    "Function:\n",
    "\n",
    "{insert_function}\n",
    "\"\"\"\n",
    "\n",
    "messages = [\n",
    "    { \"role\": \"user\", \"content\": prompt }\n",
    "]\n",
    "\n",
    "text = tokenizer.apply_chat_template(messages, tokenize=False, add_generation_prompt=True, enable_thinking=False)\n",
    "\n",
    "print(model.generation_config)\n",
    "\n",
    "inputs = tokenizer(text, return_tensors=\"pt\").to(device)\n",
    "outputs = model.generate(\n",
    "    **inputs,\n",
    "    max_new_tokens = 256,\n",
    "    do_sample=True\n",
    ")\n",
    "\n",
    "# Получаем длины исходных входов\n",
    "input_lengths = inputs['input_ids'].shape[1]\n",
    "# Убираем токены prompt'а\n",
    "generated_tokens = outputs[:, input_lengths:]\n",
    "# Декодируем только новые токены\n",
    "predictions = tokenizer.batch_decode(generated_tokens, skip_special_tokens=True)\n",
    "\n",
    "for predict in predictions:\n",
    "    print(\"Predict: \\n\", predict)\n",
    "\n",
    "print(outputs)"
   ]
  },
  {
   "cell_type": "markdown",
   "id": "a81b3ff3",
   "metadata": {},
   "source": [
    "## SmolLM2"
   ]
  },
  {
   "cell_type": "code",
   "execution_count": 82,
   "id": "87b78bde",
   "metadata": {},
   "outputs": [
    {
     "data": {
      "text/html": [
       "<pre style=\"white-space:pre;overflow-x:auto;line-height:normal;font-family:Menlo,'DejaVu Sans Mono',consolas,'Courier New',monospace\">GenerationConfig <span style=\"font-weight: bold\">{</span>\n",
       "  <span style=\"color: #008000; text-decoration-color: #008000\">\"bos_token_id\"</span>: <span style=\"color: #008080; text-decoration-color: #008080; font-weight: bold\">0</span>,\n",
       "  <span style=\"color: #008000; text-decoration-color: #008000\">\"eos_token_id\"</span>: <span style=\"color: #008080; text-decoration-color: #008080; font-weight: bold\">0</span>\n",
       "<span style=\"font-weight: bold\">}</span>\n",
       "\n",
       "</pre>\n"
      ],
      "text/plain": [
       "GenerationConfig \u001b[1m{\u001b[0m\n",
       "  \u001b[32m\"bos_token_id\"\u001b[0m: \u001b[1;36m0\u001b[0m,\n",
       "  \u001b[32m\"eos_token_id\"\u001b[0m: \u001b[1;36m0\u001b[0m\n",
       "\u001b[1m}\u001b[0m\n",
       "\n"
      ]
     },
     "metadata": {},
     "output_type": "display_data"
    },
    {
     "data": {
      "text/html": [
       "<pre style=\"white-space:pre;overflow-x:auto;line-height:normal;font-family:Menlo,'DejaVu Sans Mono',consolas,'Courier New',monospace\"><span style=\"color: #800080; text-decoration-color: #800080; font-weight: bold\">tensor</span><span style=\"font-weight: bold\">([[</span>  <span style=\"color: #008080; text-decoration-color: #008080; font-weight: bold\">198</span>,  <span style=\"color: #008080; text-decoration-color: #008080; font-weight: bold\">2683</span>,   <span style=\"color: #008080; text-decoration-color: #008080; font-weight: bold\">359</span>, <span style=\"color: #008080; text-decoration-color: #008080; font-weight: bold\">23672</span>,   <span style=\"color: #008080; text-decoration-color: #008080; font-weight: bold\">253</span>, <span style=\"color: #008080; text-decoration-color: #008080; font-weight: bold\">29509</span>,  <span style=\"color: #008080; text-decoration-color: #008080; font-weight: bold\">2909</span>,  <span style=\"color: #008080; text-decoration-color: #008080; font-weight: bold\">6822</span>,    <span style=\"color: #008080; text-decoration-color: #008080; font-weight: bold\">30</span>, <span style=\"color: #008080; text-decoration-color: #008080; font-weight: bold\">10887</span>,\n",
       "           <span style=\"color: #008080; text-decoration-color: #008080; font-weight: bold\">253</span>,  <span style=\"color: #008080; text-decoration-color: #008080; font-weight: bold\">1517</span>,   <span style=\"color: #008080; text-decoration-color: #008080; font-weight: bold\">284</span>,   <span style=\"color: #008080; text-decoration-color: #008080; font-weight: bold\">253</span>,  <span style=\"color: #008080; text-decoration-color: #008080; font-weight: bold\">1890</span>,  <span style=\"color: #008080; text-decoration-color: #008080; font-weight: bold\">5410</span>,   <span style=\"color: #008080; text-decoration-color: #008080; font-weight: bold\">282</span>,   <span style=\"color: #008080; text-decoration-color: #008080; font-weight: bold\">837</span>,   <span style=\"color: #008080; text-decoration-color: #008080; font-weight: bold\">284</span>,   <span style=\"color: #008080; text-decoration-color: #008080; font-weight: bold\">638</span>,\n",
       "           <span style=\"color: #008080; text-decoration-color: #008080; font-weight: bold\">357</span>,   <span style=\"color: #008080; text-decoration-color: #008080; font-weight: bold\">314</span>,   <span style=\"color: #008080; text-decoration-color: #008080; font-weight: bold\">804</span>,    <span style=\"color: #008080; text-decoration-color: #008080; font-weight: bold\">28</span>,  <span style=\"color: #008080; text-decoration-color: #008080; font-weight: bold\">2965</span>,   <span style=\"color: #008080; text-decoration-color: #008080; font-weight: bold\">253</span>, <span style=\"color: #008080; text-decoration-color: #008080; font-weight: bold\">10822</span>,  <span style=\"color: #008080; text-decoration-color: #008080; font-weight: bold\">5189</span>,   <span style=\"color: #008080; text-decoration-color: #008080; font-weight: bold\">338</span>,  <span style=\"color: #008080; text-decoration-color: #008080; font-weight: bold\">2311</span>,\n",
       "          <span style=\"color: #008080; text-decoration-color: #008080; font-weight: bold\">1774</span>,  <span style=\"color: #008080; text-decoration-color: #008080; font-weight: bold\">9994</span>,  <span style=\"color: #008080; text-decoration-color: #008080; font-weight: bold\">1044</span>,   <span style=\"color: #008080; text-decoration-color: #008080; font-weight: bold\">624</span>,  <span style=\"color: #008080; text-decoration-color: #008080; font-weight: bold\">3446</span>,    <span style=\"color: #008080; text-decoration-color: #008080; font-weight: bold\">30</span>,   <span style=\"color: #008080; text-decoration-color: #008080; font-weight: bold\">198</span>,  <span style=\"color: #008080; text-decoration-color: #008080; font-weight: bold\">9801</span>, <span style=\"color: #008080; text-decoration-color: #008080; font-weight: bold\">13241</span>, <span style=\"color: #008080; text-decoration-color: #008080; font-weight: bold\">29256</span>,\n",
       "          <span style=\"color: #008080; text-decoration-color: #008080; font-weight: bold\">9608</span>, <span style=\"color: #008080; text-decoration-color: #008080; font-weight: bold\">29509</span>,  <span style=\"color: #008080; text-decoration-color: #008080; font-weight: bold\">6623</span>,    <span style=\"color: #008080; text-decoration-color: #008080; font-weight: bold\">30</span>,   <span style=\"color: #008080; text-decoration-color: #008080; font-weight: bold\">198</span>,   <span style=\"color: #008080; text-decoration-color: #008080; font-weight: bold\">788</span>,  <span style=\"color: #008080; text-decoration-color: #008080; font-weight: bold\">8886</span>,  <span style=\"color: #008080; text-decoration-color: #008080; font-weight: bold\">8709</span>,   <span style=\"color: #008080; text-decoration-color: #008080; font-weight: bold\">284</span>,  <span style=\"color: #008080; text-decoration-color: #008080; font-weight: bold\">1003</span>,\n",
       "         <span style=\"color: #008080; text-decoration-color: #008080; font-weight: bold\">11661</span>,    <span style=\"color: #008080; text-decoration-color: #008080; font-weight: bold\">28</span>,   <span style=\"color: #008080; text-decoration-color: #008080; font-weight: bold\">284</span>, <span style=\"color: #008080; text-decoration-color: #008080; font-weight: bold\">11111</span>,  <span style=\"color: #008080; text-decoration-color: #008080; font-weight: bold\">7360</span>,   <span style=\"color: #008080; text-decoration-color: #008080; font-weight: bold\">690</span>,  <span style=\"color: #008080; text-decoration-color: #008080; font-weight: bold\">6230</span>,    <span style=\"color: #008080; text-decoration-color: #008080; font-weight: bold\">30</span>,   <span style=\"color: #008080; text-decoration-color: #008080; font-weight: bold\">198</span>, <span style=\"color: #008080; text-decoration-color: #008080; font-weight: bold\">14362</span>,\n",
       "           <span style=\"color: #008080; text-decoration-color: #008080; font-weight: bold\">805</span>,   <span style=\"color: #008080; text-decoration-color: #008080; font-weight: bold\">260</span>,  <span style=\"color: #008080; text-decoration-color: #008080; font-weight: bold\">5189</span>,   <span style=\"color: #008080; text-decoration-color: #008080; font-weight: bold\">284</span>,   <span style=\"color: #008080; text-decoration-color: #008080; font-weight: bold\">260</span>,  <span style=\"color: #008080; text-decoration-color: #008080; font-weight: bold\">1517</span>,    <span style=\"color: #008080; text-decoration-color: #008080; font-weight: bold\">30</span>,   <span style=\"color: #008080; text-decoration-color: #008080; font-weight: bold\">198</span>,   <span style=\"color: #008080; text-decoration-color: #008080; font-weight: bold\">198</span>, <span style=\"color: #008080; text-decoration-color: #008080; font-weight: bold\">18226</span>,\n",
       "            <span style=\"color: #008080; text-decoration-color: #008080; font-weight: bold\">42</span>,   <span style=\"color: #008080; text-decoration-color: #008080; font-weight: bold\">198</span>,   <span style=\"color: #008080; text-decoration-color: #008080; font-weight: bold\">198</span>, <span style=\"color: #008080; text-decoration-color: #008080; font-weight: bold\">10005</span>,  <span style=\"color: #008080; text-decoration-color: #008080; font-weight: bold\">4369</span>, <span style=\"color: #008080; text-decoration-color: #008080; font-weight: bold\">13975</span>,  <span style=\"color: #008080; text-decoration-color: #008080; font-weight: bold\">5212</span>, <span style=\"color: #008080; text-decoration-color: #008080; font-weight: bold\">10492</span>, <span style=\"color: #008080; text-decoration-color: #008080; font-weight: bold\">16483</span>, <span style=\"color: #008080; text-decoration-color: #008080; font-weight: bold\">10558</span>,\n",
       "          <span style=\"color: #008080; text-decoration-color: #008080; font-weight: bold\">5079</span>,    <span style=\"color: #008080; text-decoration-color: #008080; font-weight: bold\">42</span>,   <span style=\"color: #008080; text-decoration-color: #008080; font-weight: bold\">933</span>, <span style=\"color: #008080; text-decoration-color: #008080; font-weight: bold\">10492</span>,  <span style=\"color: #008080; text-decoration-color: #008080; font-weight: bold\">2255</span>,  <span style=\"color: #008080; text-decoration-color: #008080; font-weight: bold\">4722</span>, <span style=\"color: #008080; text-decoration-color: #008080; font-weight: bold\">16481</span>,    <span style=\"color: #008080; text-decoration-color: #008080; font-weight: bold\">47</span>,  <span style=\"color: #008080; text-decoration-color: #008080; font-weight: bold\">1662</span>,   <span style=\"color: #008080; text-decoration-color: #008080; font-weight: bold\">472</span>,\n",
       "          <span style=\"color: #008080; text-decoration-color: #008080; font-weight: bold\">1003</span>,  <span style=\"color: #008080; text-decoration-color: #008080; font-weight: bold\">5079</span>,    <span style=\"color: #008080; text-decoration-color: #008080; font-weight: bold\">30</span>,  <span style=\"color: #008080; text-decoration-color: #008080; font-weight: bold\">8077</span>, <span style=\"color: #008080; text-decoration-color: #008080; font-weight: bold\">13975</span>,  <span style=\"color: #008080; text-decoration-color: #008080; font-weight: bold\">1000</span>,   <span style=\"color: #008080; text-decoration-color: #008080; font-weight: bold\">198</span>,   <span style=\"color: #008080; text-decoration-color: #008080; font-weight: bold\">109</span>,   <span style=\"color: #008080; text-decoration-color: #008080; font-weight: bold\">198</span>,   <span style=\"color: #008080; text-decoration-color: #008080; font-weight: bold\">198</span>,\n",
       "          <span style=\"color: #008080; text-decoration-color: #008080; font-weight: bold\">3757</span>, <span style=\"color: #008080; text-decoration-color: #008080; font-weight: bold\">37140</span>,    <span style=\"color: #008080; text-decoration-color: #008080; font-weight: bold\">42</span>,  <span style=\"color: #008080; text-decoration-color: #008080; font-weight: bold\">1116</span>,   <span style=\"color: #008080; text-decoration-color: #008080; font-weight: bold\">198</span>,  <span style=\"color: #008080; text-decoration-color: #008080; font-weight: bold\">1559</span>,    <span style=\"color: #008080; text-decoration-color: #008080; font-weight: bold\">31</span>,  <span style=\"color: #008080; text-decoration-color: #008080; font-weight: bold\">9097</span>,   <span style=\"color: #008080; text-decoration-color: #008080; font-weight: bold\">253</span>,  <span style=\"color: #008080; text-decoration-color: #008080; font-weight: bold\">4369</span>,\n",
       "          <span style=\"color: #008080; text-decoration-color: #008080; font-weight: bold\">4047</span>,   <span style=\"color: #008080; text-decoration-color: #008080; font-weight: bold\">429</span>,   <span style=\"color: #008080; text-decoration-color: #008080; font-weight: bold\">354</span>,  <span style=\"color: #008080; text-decoration-color: #008080; font-weight: bold\">5079</span>,   <span style=\"color: #008080; text-decoration-color: #008080; font-weight: bold\">282</span>, <span style=\"color: #008080; text-decoration-color: #008080; font-weight: bold\">12345</span>,    <span style=\"color: #008080; text-decoration-color: #008080; font-weight: bold\">30</span>,   <span style=\"color: #008080; text-decoration-color: #008080; font-weight: bold\">198</span>,  <span style=\"color: #008080; text-decoration-color: #008080; font-weight: bold\">1559</span>,    <span style=\"color: #008080; text-decoration-color: #008080; font-weight: bold\">31</span>,\n",
       "           <span style=\"color: #008080; text-decoration-color: #008080; font-weight: bold\">731</span>, <span style=\"color: #008080; text-decoration-color: #008080; font-weight: bold\">36204</span>,  <span style=\"color: #008080; text-decoration-color: #008080; font-weight: bold\">5079</span>,    <span style=\"color: #008080; text-decoration-color: #008080; font-weight: bold\">42</span>,   <span style=\"color: #008080; text-decoration-color: #008080; font-weight: bold\">378</span>,  <span style=\"color: #008080; text-decoration-color: #008080; font-weight: bold\">5079</span>,   <span style=\"color: #008080; text-decoration-color: #008080; font-weight: bold\">288</span>,  <span style=\"color: #008080; text-decoration-color: #008080; font-weight: bold\">4491</span>,   <span style=\"color: #008080; text-decoration-color: #008080; font-weight: bold\">354</span>,  <span style=\"color: #008080; text-decoration-color: #008080; font-weight: bold\">4047</span>,\n",
       "           <span style=\"color: #008080; text-decoration-color: #008080; font-weight: bold\">429</span>,    <span style=\"color: #008080; text-decoration-color: #008080; font-weight: bold\">30</span>,   <span style=\"color: #008080; text-decoration-color: #008080; font-weight: bold\">198</span>,  <span style=\"color: #008080; text-decoration-color: #008080; font-weight: bold\">1559</span>,    <span style=\"color: #008080; text-decoration-color: #008080; font-weight: bold\">31</span>,   <span style=\"color: #008080; text-decoration-color: #008080; font-weight: bold\">731</span>,  <span style=\"color: #008080; text-decoration-color: #008080; font-weight: bold\">9097</span>,    <span style=\"color: #008080; text-decoration-color: #008080; font-weight: bold\">42</span>,   <span style=\"color: #008080; text-decoration-color: #008080; font-weight: bold\">378</span>, <span style=\"color: #008080; text-decoration-color: #008080; font-weight: bold\">11973</span>,\n",
       "          <span style=\"color: #008080; text-decoration-color: #008080; font-weight: bold\">4047</span>,    <span style=\"color: #008080; text-decoration-color: #008080; font-weight: bold\">30</span>,   <span style=\"color: #008080; text-decoration-color: #008080; font-weight: bold\">198</span>, <span style=\"color: #008080; text-decoration-color: #008080; font-weight: bold\">10005</span>,  <span style=\"color: #008080; text-decoration-color: #008080; font-weight: bold\">4369</span>, <span style=\"color: #008080; text-decoration-color: #008080; font-weight: bold\">13975</span>,  <span style=\"color: #008080; text-decoration-color: #008080; font-weight: bold\">5212</span>, <span style=\"color: #008080; text-decoration-color: #008080; font-weight: bold\">10492</span>, <span style=\"color: #008080; text-decoration-color: #008080; font-weight: bold\">16483</span>, <span style=\"color: #008080; text-decoration-color: #008080; font-weight: bold\">10558</span>,\n",
       "          <span style=\"color: #008080; text-decoration-color: #008080; font-weight: bold\">5079</span>,    <span style=\"color: #008080; text-decoration-color: #008080; font-weight: bold\">42</span>,   <span style=\"color: #008080; text-decoration-color: #008080; font-weight: bold\">933</span>, <span style=\"color: #008080; text-decoration-color: #008080; font-weight: bold\">10492</span>,  <span style=\"color: #008080; text-decoration-color: #008080; font-weight: bold\">2255</span>,  <span style=\"color: #008080; text-decoration-color: #008080; font-weight: bold\">4722</span>, <span style=\"color: #008080; text-decoration-color: #008080; font-weight: bold\">16481</span>,    <span style=\"color: #008080; text-decoration-color: #008080; font-weight: bold\">47</span>,  <span style=\"color: #008080; text-decoration-color: #008080; font-weight: bold\">1662</span>,   <span style=\"color: #008080; text-decoration-color: #008080; font-weight: bold\">472</span>,\n",
       "          <span style=\"color: #008080; text-decoration-color: #008080; font-weight: bold\">1003</span>,  <span style=\"color: #008080; text-decoration-color: #008080; font-weight: bold\">5079</span>,    <span style=\"color: #008080; text-decoration-color: #008080; font-weight: bold\">30</span>,  <span style=\"color: #008080; text-decoration-color: #008080; font-weight: bold\">8077</span>, <span style=\"color: #008080; text-decoration-color: #008080; font-weight: bold\">13975</span>,  <span style=\"color: #008080; text-decoration-color: #008080; font-weight: bold\">1000</span>,   <span style=\"color: #008080; text-decoration-color: #008080; font-weight: bold\">198</span>,   <span style=\"color: #008080; text-decoration-color: #008080; font-weight: bold\">109</span>,   <span style=\"color: #008080; text-decoration-color: #008080; font-weight: bold\">198</span>,   <span style=\"color: #008080; text-decoration-color: #008080; font-weight: bold\">198</span>,\n",
       "            <span style=\"color: #008080; text-decoration-color: #008080; font-weight: bold\">19</span>,    <span style=\"color: #008080; text-decoration-color: #008080; font-weight: bold\">35</span>,    <span style=\"color: #008080; text-decoration-color: #008080; font-weight: bold\">37</span>,   <span style=\"color: #008080; text-decoration-color: #008080; font-weight: bold\">198</span>,   <span style=\"color: #008080; text-decoration-color: #008080; font-weight: bold\">198</span>,  <span style=\"color: #008080; text-decoration-color: #008080; font-weight: bold\">3757</span>, <span style=\"color: #008080; text-decoration-color: #008080; font-weight: bold\">17969</span>,   <span style=\"color: #008080; text-decoration-color: #008080; font-weight: bold\">198</span>,   <span style=\"color: #008080; text-decoration-color: #008080; font-weight: bold\">198</span>, <span style=\"color: #008080; text-decoration-color: #008080; font-weight: bold\">24217</span>,\n",
       "           <span style=\"color: #008080; text-decoration-color: #008080; font-weight: bold\">260</span>,  <span style=\"color: #008080; text-decoration-color: #008080; font-weight: bold\">1517</span>,   <span style=\"color: #008080; text-decoration-color: #008080; font-weight: bold\">281</span>,   <span style=\"color: #008080; text-decoration-color: #008080; font-weight: bold\">469</span>,  <span style=\"color: #008080; text-decoration-color: #008080; font-weight: bold\">2909</span>,  <span style=\"color: #008080; text-decoration-color: #008080; font-weight: bold\">6822</span>,   <span style=\"color: #008080; text-decoration-color: #008080; font-weight: bold\">338</span>, <span style=\"color: #008080; text-decoration-color: #008080; font-weight: bold\">12413</span>,   <span style=\"color: #008080; text-decoration-color: #008080; font-weight: bold\">284</span>,  <span style=\"color: #008080; text-decoration-color: #008080; font-weight: bold\">6765</span>,\n",
       "           <span style=\"color: #008080; text-decoration-color: #008080; font-weight: bold\">253</span>,  <span style=\"color: #008080; text-decoration-color: #008080; font-weight: bold\">3688</span>,   <span style=\"color: #008080; text-decoration-color: #008080; font-weight: bold\">347</span>,   <span style=\"color: #008080; text-decoration-color: #008080; font-weight: bold\">253</span>,  <span style=\"color: #008080; text-decoration-color: #008080; font-weight: bold\">4928</span>,    <span style=\"color: #008080; text-decoration-color: #008080; font-weight: bold\">30</span>,   <span style=\"color: #008080; text-decoration-color: #008080; font-weight: bold\">198</span>,   <span style=\"color: #008080; text-decoration-color: #008080; font-weight: bold\">198</span>,  <span style=\"color: #008080; text-decoration-color: #008080; font-weight: bold\">9801</span>, <span style=\"color: #008080; text-decoration-color: #008080; font-weight: bold\">13241</span>,\n",
       "         <span style=\"color: #008080; text-decoration-color: #008080; font-weight: bold\">29256</span>,  <span style=\"color: #008080; text-decoration-color: #008080; font-weight: bold\">9608</span>, <span style=\"color: #008080; text-decoration-color: #008080; font-weight: bold\">29509</span>,  <span style=\"color: #008080; text-decoration-color: #008080; font-weight: bold\">6623</span>,    <span style=\"color: #008080; text-decoration-color: #008080; font-weight: bold\">30</span>,   <span style=\"color: #008080; text-decoration-color: #008080; font-weight: bold\">198</span>,   <span style=\"color: #008080; text-decoration-color: #008080; font-weight: bold\">788</span>,  <span style=\"color: #008080; text-decoration-color: #008080; font-weight: bold\">8886</span>,   <span style=\"color: #008080; text-decoration-color: #008080; font-weight: bold\">253</span>,  <span style=\"color: #008080; text-decoration-color: #008080; font-weight: bold\">5410</span>,\n",
       "           <span style=\"color: #008080; text-decoration-color: #008080; font-weight: bold\">282</span>,   <span style=\"color: #008080; text-decoration-color: #008080; font-weight: bold\">732</span>,   <span style=\"color: #008080; text-decoration-color: #008080; font-weight: bold\">260</span>,  <span style=\"color: #008080; text-decoration-color: #008080; font-weight: bold\">1517</span>,  <span style=\"color: #008080; text-decoration-color: #008080; font-weight: bold\">1072</span>,   <span style=\"color: #008080; text-decoration-color: #008080; font-weight: bold\">284</span>,   <span style=\"color: #008080; text-decoration-color: #008080; font-weight: bold\">638</span>,   <span style=\"color: #008080; text-decoration-color: #008080; font-weight: bold\">357</span>,   <span style=\"color: #008080; text-decoration-color: #008080; font-weight: bold\">314</span>,   <span style=\"color: #008080; text-decoration-color: #008080; font-weight: bold\">804</span>,\n",
       "            <span style=\"color: #008080; text-decoration-color: #008080; font-weight: bold\">30</span>,   <span style=\"color: #008080; text-decoration-color: #008080; font-weight: bold\">198</span>,   <span style=\"color: #008080; text-decoration-color: #008080; font-weight: bold\">788</span>,  <span style=\"color: #008080; text-decoration-color: #008080; font-weight: bold\">8886</span>,   <span style=\"color: #008080; text-decoration-color: #008080; font-weight: bold\">253</span>,  <span style=\"color: #008080; text-decoration-color: #008080; font-weight: bold\">5410</span>,   <span style=\"color: #008080; text-decoration-color: #008080; font-weight: bold\">282</span>,   <span style=\"color: #008080; text-decoration-color: #008080; font-weight: bold\">750</span>,  <span style=\"color: #008080; text-decoration-color: #008080; font-weight: bold\">6116</span>,   <span style=\"color: #008080; text-decoration-color: #008080; font-weight: bold\">284</span>,\n",
       "           <span style=\"color: #008080; text-decoration-color: #008080; font-weight: bold\">480</span>,  <span style=\"color: #008080; text-decoration-color: #008080; font-weight: bold\">1995</span>,    <span style=\"color: #008080; text-decoration-color: #008080; font-weight: bold\">30</span>,   <span style=\"color: #008080; text-decoration-color: #008080; font-weight: bold\">198</span>,   <span style=\"color: #008080; text-decoration-color: #008080; font-weight: bold\">788</span>,  <span style=\"color: #008080; text-decoration-color: #008080; font-weight: bold\">8886</span>,   <span style=\"color: #008080; text-decoration-color: #008080; font-weight: bold\">253</span>,  <span style=\"color: #008080; text-decoration-color: #008080; font-weight: bold\">5410</span>,   <span style=\"color: #008080; text-decoration-color: #008080; font-weight: bold\">282</span>,   <span style=\"color: #008080; text-decoration-color: #008080; font-weight: bold\">260</span>,\n",
       "          <span style=\"color: #008080; text-decoration-color: #008080; font-weight: bold\">1003</span>,  <span style=\"color: #008080; text-decoration-color: #008080; font-weight: bold\">1502</span>,   <span style=\"color: #008080; text-decoration-color: #008080; font-weight: bold\">284</span>,   <span style=\"color: #008080; text-decoration-color: #008080; font-weight: bold\">624</span>,  <span style=\"color: #008080; text-decoration-color: #008080; font-weight: bold\">1502</span>, <span style=\"color: #008080; text-decoration-color: #008080; font-weight: bold\">10195</span>,    <span style=\"color: #008080; text-decoration-color: #008080; font-weight: bold\">30</span>,   <span style=\"color: #008080; text-decoration-color: #008080; font-weight: bold\">198</span>,   <span style=\"color: #008080; text-decoration-color: #008080; font-weight: bold\">198</span>, <span style=\"color: #008080; text-decoration-color: #008080; font-weight: bold\">10912</span>,\n",
       "            <span style=\"color: #008080; text-decoration-color: #008080; font-weight: bold\">42</span>,   <span style=\"color: #008080; text-decoration-color: #008080; font-weight: bold\">198</span>,   <span style=\"color: #008080; text-decoration-color: #008080; font-weight: bold\">198</span>, <span style=\"color: #008080; text-decoration-color: #008080; font-weight: bold\">25563</span>, <span style=\"color: #008080; text-decoration-color: #008080; font-weight: bold\">13966</span>,  <span style=\"color: #008080; text-decoration-color: #008080; font-weight: bold\">1662</span>,   <span style=\"color: #008080; text-decoration-color: #008080; font-weight: bold\">472</span>, <span style=\"color: #008080; text-decoration-color: #008080; font-weight: bold\">16689</span>,   <span style=\"color: #008080; text-decoration-color: #008080; font-weight: bold\">288</span>, <span style=\"color: #008080; text-decoration-color: #008080; font-weight: bold\">10492</span>,\n",
       "          <span style=\"color: #008080; text-decoration-color: #008080; font-weight: bold\">1000</span>,  <span style=\"color: #008080; text-decoration-color: #008080; font-weight: bold\">4722</span>, <span style=\"color: #008080; text-decoration-color: #008080; font-weight: bold\">16481</span>,  <span style=\"color: #008080; text-decoration-color: #008080; font-weight: bold\">1662</span>,   <span style=\"color: #008080; text-decoration-color: #008080; font-weight: bold\">448</span>,  <span style=\"color: #008080; text-decoration-color: #008080; font-weight: bold\">1003</span>, <span style=\"color: #008080; text-decoration-color: #008080; font-weight: bold\">16481</span>,    <span style=\"color: #008080; text-decoration-color: #008080; font-weight: bold\">24</span>,  <span style=\"color: #008080; text-decoration-color: #008080; font-weight: bold\">3477</span>,    <span style=\"color: #008080; text-decoration-color: #008080; font-weight: bold\">42</span>,\n",
       "         <span style=\"color: #008080; text-decoration-color: #008080; font-weight: bold\">19114</span>,    <span style=\"color: #008080; text-decoration-color: #008080; font-weight: bold\">48</span>,  <span style=\"color: #008080; text-decoration-color: #008080; font-weight: bold\">1002</span>,   <span style=\"color: #008080; text-decoration-color: #008080; font-weight: bold\">639</span>,    <span style=\"color: #008080; text-decoration-color: #008080; font-weight: bold\">25</span>,   <span style=\"color: #008080; text-decoration-color: #008080; font-weight: bold\">472</span>,  <span style=\"color: #008080; text-decoration-color: #008080; font-weight: bold\">4029</span>,   <span style=\"color: #008080; text-decoration-color: #008080; font-weight: bold\">198</span>,   <span style=\"color: #008080; text-decoration-color: #008080; font-weight: bold\">109</span>,   <span style=\"color: #008080; text-decoration-color: #008080; font-weight: bold\">198</span>,\n",
       "           <span style=\"color: #008080; text-decoration-color: #008080; font-weight: bold\">198</span>,  <span style=\"color: #008080; text-decoration-color: #008080; font-weight: bold\">3757</span>, <span style=\"color: #008080; text-decoration-color: #008080; font-weight: bold\">37140</span>,    <span style=\"color: #008080; text-decoration-color: #008080; font-weight: bold\">42</span>,  <span style=\"color: #008080; text-decoration-color: #008080; font-weight: bold\">1116</span>,   <span style=\"color: #008080; text-decoration-color: #008080; font-weight: bold\">198</span>,  <span style=\"color: #008080; text-decoration-color: #008080; font-weight: bold\">1559</span>,    <span style=\"color: #008080; text-decoration-color: #008080; font-weight: bold\">31</span>,  <span style=\"color: #008080; text-decoration-color: #008080; font-weight: bold\">9097</span>,   <span style=\"color: #008080; text-decoration-color: #008080; font-weight: bold\">253</span>,\n",
       "          <span style=\"color: #008080; text-decoration-color: #008080; font-weight: bold\">4928</span>,  <span style=\"color: #008080; text-decoration-color: #008080; font-weight: bold\">6133</span>,   <span style=\"color: #008080; text-decoration-color: #008080; font-weight: bold\">282</span>,   <span style=\"color: #008080; text-decoration-color: #008080; font-weight: bold\">260</span>,  <span style=\"color: #008080; text-decoration-color: #008080; font-weight: bold\">1836</span>,  <span style=\"color: #008080; text-decoration-color: #008080; font-weight: bold\">3688</span>,    <span style=\"color: #008080; text-decoration-color: #008080; font-weight: bold\">30</span>,   <span style=\"color: #008080; text-decoration-color: #008080; font-weight: bold\">198</span>,  <span style=\"color: #008080; text-decoration-color: #008080; font-weight: bold\">1559</span>,    <span style=\"color: #008080; text-decoration-color: #008080; font-weight: bold\">31</span>,\n",
       "           <span style=\"color: #008080; text-decoration-color: #008080; font-weight: bold\">731</span>, <span style=\"color: #008080; text-decoration-color: #008080; font-weight: bold\">36204</span>,  <span style=\"color: #008080; text-decoration-color: #008080; font-weight: bold\">3688</span>,    <span style=\"color: #008080; text-decoration-color: #008080; font-weight: bold\">42</span>,   <span style=\"color: #008080; text-decoration-color: #008080; font-weight: bold\">378</span>,  <span style=\"color: #008080; text-decoration-color: #008080; font-weight: bold\">3688</span>,   <span style=\"color: #008080; text-decoration-color: #008080; font-weight: bold\">288</span>,  <span style=\"color: #008080; text-decoration-color: #008080; font-weight: bold\">4624</span>,    <span style=\"color: #008080; text-decoration-color: #008080; font-weight: bold\">30</span>,   <span style=\"color: #008080; text-decoration-color: #008080; font-weight: bold\">198</span>,\n",
       "          <span style=\"color: #008080; text-decoration-color: #008080; font-weight: bold\">1559</span>,    <span style=\"color: #008080; text-decoration-color: #008080; font-weight: bold\">31</span>,   <span style=\"color: #008080; text-decoration-color: #008080; font-weight: bold\">731</span>,  <span style=\"color: #008080; text-decoration-color: #008080; font-weight: bold\">9097</span>,    <span style=\"color: #008080; text-decoration-color: #008080; font-weight: bold\">42</span>,   <span style=\"color: #008080; text-decoration-color: #008080; font-weight: bold\">378</span>, <span style=\"color: #008080; text-decoration-color: #008080; font-weight: bold\">29199</span>,  <span style=\"color: #008080; text-decoration-color: #008080; font-weight: bold\">3688</span>,   <span style=\"color: #008080; text-decoration-color: #008080; font-weight: bold\">347</span>,   <span style=\"color: #008080; text-decoration-color: #008080; font-weight: bold\">253</span>,\n",
       "          <span style=\"color: #008080; text-decoration-color: #008080; font-weight: bold\">4928</span>,    <span style=\"color: #008080; text-decoration-color: #008080; font-weight: bold\">30</span>,   <span style=\"color: #008080; text-decoration-color: #008080; font-weight: bold\">198</span>, <span style=\"color: #008080; text-decoration-color: #008080; font-weight: bold\">10005</span>,   <span style=\"color: #008080; text-decoration-color: #008080; font-weight: bold\">288</span>, <span style=\"color: #008080; text-decoration-color: #008080; font-weight: bold\">10492</span>,    <span style=\"color: #008080; text-decoration-color: #008080; font-weight: bold\">24</span>,  <span style=\"color: #008080; text-decoration-color: #008080; font-weight: bold\">2759</span>,    <span style=\"color: #008080; text-decoration-color: #008080; font-weight: bold\">42</span>, <span style=\"color: #008080; text-decoration-color: #008080; font-weight: bold\">13966</span>,\n",
       "            <span style=\"color: #008080; text-decoration-color: #008080; font-weight: bold\">25</span>,  <span style=\"color: #008080; text-decoration-color: #008080; font-weight: bold\">4722</span>, <span style=\"color: #008080; text-decoration-color: #008080; font-weight: bold\">16481</span>,  <span style=\"color: #008080; text-decoration-color: #008080; font-weight: bold\">1662</span>,   <span style=\"color: #008080; text-decoration-color: #008080; font-weight: bold\">472</span>,  <span style=\"color: #008080; text-decoration-color: #008080; font-weight: bold\">1003</span>, <span style=\"color: #008080; text-decoration-color: #008080; font-weight: bold\">16481</span>,    <span style=\"color: #008080; text-decoration-color: #008080; font-weight: bold\">24</span>,  <span style=\"color: #008080; text-decoration-color: #008080; font-weight: bold\">3477</span>,    <span style=\"color: #008080; text-decoration-color: #008080; font-weight: bold\">42</span>,\n",
       "         <span style=\"color: #008080; text-decoration-color: #008080; font-weight: bold\">19114</span>,    <span style=\"color: #008080; text-decoration-color: #008080; font-weight: bold\">48</span>,  <span style=\"color: #008080; text-decoration-color: #008080; font-weight: bold\">1002</span>,  <span style=\"color: #008080; text-decoration-color: #008080; font-weight: bold\">3688</span>,    <span style=\"color: #008080; text-decoration-color: #008080; font-weight: bold\">25</span>,   <span style=\"color: #008080; text-decoration-color: #008080; font-weight: bold\">198</span>,   <span style=\"color: #008080; text-decoration-color: #008080; font-weight: bold\">109</span>,   <span style=\"color: #008080; text-decoration-color: #008080; font-weight: bold\">198</span>,   <span style=\"color: #008080; text-decoration-color: #008080; font-weight: bold\">198</span>,    <span style=\"color: #008080; text-decoration-color: #008080; font-weight: bold\">19</span>,\n",
       "            <span style=\"color: #008080; text-decoration-color: #008080; font-weight: bold\">35</span>,    <span style=\"color: #008080; text-decoration-color: #008080; font-weight: bold\">38</span>,   <span style=\"color: #008080; text-decoration-color: #008080; font-weight: bold\">198</span>,   <span style=\"color: #008080; text-decoration-color: #008080; font-weight: bold\">198</span>,  <span style=\"color: #008080; text-decoration-color: #008080; font-weight: bold\">3757</span>, <span style=\"color: #008080; text-decoration-color: #008080; font-weight: bold\">17969</span>,   <span style=\"color: #008080; text-decoration-color: #008080; font-weight: bold\">198</span>,   <span style=\"color: #008080; text-decoration-color: #008080; font-weight: bold\">198</span>, <span style=\"color: #008080; text-decoration-color: #008080; font-weight: bold\">24217</span>,   <span style=\"color: #008080; text-decoration-color: #008080; font-weight: bold\">260</span><span style=\"font-weight: bold\">]])</span>\n",
       "</pre>\n"
      ],
      "text/plain": [
       "\u001b[1;35mtensor\u001b[0m\u001b[1m(\u001b[0m\u001b[1m[\u001b[0m\u001b[1m[\u001b[0m  \u001b[1;36m198\u001b[0m,  \u001b[1;36m2683\u001b[0m,   \u001b[1;36m359\u001b[0m, \u001b[1;36m23672\u001b[0m,   \u001b[1;36m253\u001b[0m, \u001b[1;36m29509\u001b[0m,  \u001b[1;36m2909\u001b[0m,  \u001b[1;36m6822\u001b[0m,    \u001b[1;36m30\u001b[0m, \u001b[1;36m10887\u001b[0m,\n",
       "           \u001b[1;36m253\u001b[0m,  \u001b[1;36m1517\u001b[0m,   \u001b[1;36m284\u001b[0m,   \u001b[1;36m253\u001b[0m,  \u001b[1;36m1890\u001b[0m,  \u001b[1;36m5410\u001b[0m,   \u001b[1;36m282\u001b[0m,   \u001b[1;36m837\u001b[0m,   \u001b[1;36m284\u001b[0m,   \u001b[1;36m638\u001b[0m,\n",
       "           \u001b[1;36m357\u001b[0m,   \u001b[1;36m314\u001b[0m,   \u001b[1;36m804\u001b[0m,    \u001b[1;36m28\u001b[0m,  \u001b[1;36m2965\u001b[0m,   \u001b[1;36m253\u001b[0m, \u001b[1;36m10822\u001b[0m,  \u001b[1;36m5189\u001b[0m,   \u001b[1;36m338\u001b[0m,  \u001b[1;36m2311\u001b[0m,\n",
       "          \u001b[1;36m1774\u001b[0m,  \u001b[1;36m9994\u001b[0m,  \u001b[1;36m1044\u001b[0m,   \u001b[1;36m624\u001b[0m,  \u001b[1;36m3446\u001b[0m,    \u001b[1;36m30\u001b[0m,   \u001b[1;36m198\u001b[0m,  \u001b[1;36m9801\u001b[0m, \u001b[1;36m13241\u001b[0m, \u001b[1;36m29256\u001b[0m,\n",
       "          \u001b[1;36m9608\u001b[0m, \u001b[1;36m29509\u001b[0m,  \u001b[1;36m6623\u001b[0m,    \u001b[1;36m30\u001b[0m,   \u001b[1;36m198\u001b[0m,   \u001b[1;36m788\u001b[0m,  \u001b[1;36m8886\u001b[0m,  \u001b[1;36m8709\u001b[0m,   \u001b[1;36m284\u001b[0m,  \u001b[1;36m1003\u001b[0m,\n",
       "         \u001b[1;36m11661\u001b[0m,    \u001b[1;36m28\u001b[0m,   \u001b[1;36m284\u001b[0m, \u001b[1;36m11111\u001b[0m,  \u001b[1;36m7360\u001b[0m,   \u001b[1;36m690\u001b[0m,  \u001b[1;36m6230\u001b[0m,    \u001b[1;36m30\u001b[0m,   \u001b[1;36m198\u001b[0m, \u001b[1;36m14362\u001b[0m,\n",
       "           \u001b[1;36m805\u001b[0m,   \u001b[1;36m260\u001b[0m,  \u001b[1;36m5189\u001b[0m,   \u001b[1;36m284\u001b[0m,   \u001b[1;36m260\u001b[0m,  \u001b[1;36m1517\u001b[0m,    \u001b[1;36m30\u001b[0m,   \u001b[1;36m198\u001b[0m,   \u001b[1;36m198\u001b[0m, \u001b[1;36m18226\u001b[0m,\n",
       "            \u001b[1;36m42\u001b[0m,   \u001b[1;36m198\u001b[0m,   \u001b[1;36m198\u001b[0m, \u001b[1;36m10005\u001b[0m,  \u001b[1;36m4369\u001b[0m, \u001b[1;36m13975\u001b[0m,  \u001b[1;36m5212\u001b[0m, \u001b[1;36m10492\u001b[0m, \u001b[1;36m16483\u001b[0m, \u001b[1;36m10558\u001b[0m,\n",
       "          \u001b[1;36m5079\u001b[0m,    \u001b[1;36m42\u001b[0m,   \u001b[1;36m933\u001b[0m, \u001b[1;36m10492\u001b[0m,  \u001b[1;36m2255\u001b[0m,  \u001b[1;36m4722\u001b[0m, \u001b[1;36m16481\u001b[0m,    \u001b[1;36m47\u001b[0m,  \u001b[1;36m1662\u001b[0m,   \u001b[1;36m472\u001b[0m,\n",
       "          \u001b[1;36m1003\u001b[0m,  \u001b[1;36m5079\u001b[0m,    \u001b[1;36m30\u001b[0m,  \u001b[1;36m8077\u001b[0m, \u001b[1;36m13975\u001b[0m,  \u001b[1;36m1000\u001b[0m,   \u001b[1;36m198\u001b[0m,   \u001b[1;36m109\u001b[0m,   \u001b[1;36m198\u001b[0m,   \u001b[1;36m198\u001b[0m,\n",
       "          \u001b[1;36m3757\u001b[0m, \u001b[1;36m37140\u001b[0m,    \u001b[1;36m42\u001b[0m,  \u001b[1;36m1116\u001b[0m,   \u001b[1;36m198\u001b[0m,  \u001b[1;36m1559\u001b[0m,    \u001b[1;36m31\u001b[0m,  \u001b[1;36m9097\u001b[0m,   \u001b[1;36m253\u001b[0m,  \u001b[1;36m4369\u001b[0m,\n",
       "          \u001b[1;36m4047\u001b[0m,   \u001b[1;36m429\u001b[0m,   \u001b[1;36m354\u001b[0m,  \u001b[1;36m5079\u001b[0m,   \u001b[1;36m282\u001b[0m, \u001b[1;36m12345\u001b[0m,    \u001b[1;36m30\u001b[0m,   \u001b[1;36m198\u001b[0m,  \u001b[1;36m1559\u001b[0m,    \u001b[1;36m31\u001b[0m,\n",
       "           \u001b[1;36m731\u001b[0m, \u001b[1;36m36204\u001b[0m,  \u001b[1;36m5079\u001b[0m,    \u001b[1;36m42\u001b[0m,   \u001b[1;36m378\u001b[0m,  \u001b[1;36m5079\u001b[0m,   \u001b[1;36m288\u001b[0m,  \u001b[1;36m4491\u001b[0m,   \u001b[1;36m354\u001b[0m,  \u001b[1;36m4047\u001b[0m,\n",
       "           \u001b[1;36m429\u001b[0m,    \u001b[1;36m30\u001b[0m,   \u001b[1;36m198\u001b[0m,  \u001b[1;36m1559\u001b[0m,    \u001b[1;36m31\u001b[0m,   \u001b[1;36m731\u001b[0m,  \u001b[1;36m9097\u001b[0m,    \u001b[1;36m42\u001b[0m,   \u001b[1;36m378\u001b[0m, \u001b[1;36m11973\u001b[0m,\n",
       "          \u001b[1;36m4047\u001b[0m,    \u001b[1;36m30\u001b[0m,   \u001b[1;36m198\u001b[0m, \u001b[1;36m10005\u001b[0m,  \u001b[1;36m4369\u001b[0m, \u001b[1;36m13975\u001b[0m,  \u001b[1;36m5212\u001b[0m, \u001b[1;36m10492\u001b[0m, \u001b[1;36m16483\u001b[0m, \u001b[1;36m10558\u001b[0m,\n",
       "          \u001b[1;36m5079\u001b[0m,    \u001b[1;36m42\u001b[0m,   \u001b[1;36m933\u001b[0m, \u001b[1;36m10492\u001b[0m,  \u001b[1;36m2255\u001b[0m,  \u001b[1;36m4722\u001b[0m, \u001b[1;36m16481\u001b[0m,    \u001b[1;36m47\u001b[0m,  \u001b[1;36m1662\u001b[0m,   \u001b[1;36m472\u001b[0m,\n",
       "          \u001b[1;36m1003\u001b[0m,  \u001b[1;36m5079\u001b[0m,    \u001b[1;36m30\u001b[0m,  \u001b[1;36m8077\u001b[0m, \u001b[1;36m13975\u001b[0m,  \u001b[1;36m1000\u001b[0m,   \u001b[1;36m198\u001b[0m,   \u001b[1;36m109\u001b[0m,   \u001b[1;36m198\u001b[0m,   \u001b[1;36m198\u001b[0m,\n",
       "            \u001b[1;36m19\u001b[0m,    \u001b[1;36m35\u001b[0m,    \u001b[1;36m37\u001b[0m,   \u001b[1;36m198\u001b[0m,   \u001b[1;36m198\u001b[0m,  \u001b[1;36m3757\u001b[0m, \u001b[1;36m17969\u001b[0m,   \u001b[1;36m198\u001b[0m,   \u001b[1;36m198\u001b[0m, \u001b[1;36m24217\u001b[0m,\n",
       "           \u001b[1;36m260\u001b[0m,  \u001b[1;36m1517\u001b[0m,   \u001b[1;36m281\u001b[0m,   \u001b[1;36m469\u001b[0m,  \u001b[1;36m2909\u001b[0m,  \u001b[1;36m6822\u001b[0m,   \u001b[1;36m338\u001b[0m, \u001b[1;36m12413\u001b[0m,   \u001b[1;36m284\u001b[0m,  \u001b[1;36m6765\u001b[0m,\n",
       "           \u001b[1;36m253\u001b[0m,  \u001b[1;36m3688\u001b[0m,   \u001b[1;36m347\u001b[0m,   \u001b[1;36m253\u001b[0m,  \u001b[1;36m4928\u001b[0m,    \u001b[1;36m30\u001b[0m,   \u001b[1;36m198\u001b[0m,   \u001b[1;36m198\u001b[0m,  \u001b[1;36m9801\u001b[0m, \u001b[1;36m13241\u001b[0m,\n",
       "         \u001b[1;36m29256\u001b[0m,  \u001b[1;36m9608\u001b[0m, \u001b[1;36m29509\u001b[0m,  \u001b[1;36m6623\u001b[0m,    \u001b[1;36m30\u001b[0m,   \u001b[1;36m198\u001b[0m,   \u001b[1;36m788\u001b[0m,  \u001b[1;36m8886\u001b[0m,   \u001b[1;36m253\u001b[0m,  \u001b[1;36m5410\u001b[0m,\n",
       "           \u001b[1;36m282\u001b[0m,   \u001b[1;36m732\u001b[0m,   \u001b[1;36m260\u001b[0m,  \u001b[1;36m1517\u001b[0m,  \u001b[1;36m1072\u001b[0m,   \u001b[1;36m284\u001b[0m,   \u001b[1;36m638\u001b[0m,   \u001b[1;36m357\u001b[0m,   \u001b[1;36m314\u001b[0m,   \u001b[1;36m804\u001b[0m,\n",
       "            \u001b[1;36m30\u001b[0m,   \u001b[1;36m198\u001b[0m,   \u001b[1;36m788\u001b[0m,  \u001b[1;36m8886\u001b[0m,   \u001b[1;36m253\u001b[0m,  \u001b[1;36m5410\u001b[0m,   \u001b[1;36m282\u001b[0m,   \u001b[1;36m750\u001b[0m,  \u001b[1;36m6116\u001b[0m,   \u001b[1;36m284\u001b[0m,\n",
       "           \u001b[1;36m480\u001b[0m,  \u001b[1;36m1995\u001b[0m,    \u001b[1;36m30\u001b[0m,   \u001b[1;36m198\u001b[0m,   \u001b[1;36m788\u001b[0m,  \u001b[1;36m8886\u001b[0m,   \u001b[1;36m253\u001b[0m,  \u001b[1;36m5410\u001b[0m,   \u001b[1;36m282\u001b[0m,   \u001b[1;36m260\u001b[0m,\n",
       "          \u001b[1;36m1003\u001b[0m,  \u001b[1;36m1502\u001b[0m,   \u001b[1;36m284\u001b[0m,   \u001b[1;36m624\u001b[0m,  \u001b[1;36m1502\u001b[0m, \u001b[1;36m10195\u001b[0m,    \u001b[1;36m30\u001b[0m,   \u001b[1;36m198\u001b[0m,   \u001b[1;36m198\u001b[0m, \u001b[1;36m10912\u001b[0m,\n",
       "            \u001b[1;36m42\u001b[0m,   \u001b[1;36m198\u001b[0m,   \u001b[1;36m198\u001b[0m, \u001b[1;36m25563\u001b[0m, \u001b[1;36m13966\u001b[0m,  \u001b[1;36m1662\u001b[0m,   \u001b[1;36m472\u001b[0m, \u001b[1;36m16689\u001b[0m,   \u001b[1;36m288\u001b[0m, \u001b[1;36m10492\u001b[0m,\n",
       "          \u001b[1;36m1000\u001b[0m,  \u001b[1;36m4722\u001b[0m, \u001b[1;36m16481\u001b[0m,  \u001b[1;36m1662\u001b[0m,   \u001b[1;36m448\u001b[0m,  \u001b[1;36m1003\u001b[0m, \u001b[1;36m16481\u001b[0m,    \u001b[1;36m24\u001b[0m,  \u001b[1;36m3477\u001b[0m,    \u001b[1;36m42\u001b[0m,\n",
       "         \u001b[1;36m19114\u001b[0m,    \u001b[1;36m48\u001b[0m,  \u001b[1;36m1002\u001b[0m,   \u001b[1;36m639\u001b[0m,    \u001b[1;36m25\u001b[0m,   \u001b[1;36m472\u001b[0m,  \u001b[1;36m4029\u001b[0m,   \u001b[1;36m198\u001b[0m,   \u001b[1;36m109\u001b[0m,   \u001b[1;36m198\u001b[0m,\n",
       "           \u001b[1;36m198\u001b[0m,  \u001b[1;36m3757\u001b[0m, \u001b[1;36m37140\u001b[0m,    \u001b[1;36m42\u001b[0m,  \u001b[1;36m1116\u001b[0m,   \u001b[1;36m198\u001b[0m,  \u001b[1;36m1559\u001b[0m,    \u001b[1;36m31\u001b[0m,  \u001b[1;36m9097\u001b[0m,   \u001b[1;36m253\u001b[0m,\n",
       "          \u001b[1;36m4928\u001b[0m,  \u001b[1;36m6133\u001b[0m,   \u001b[1;36m282\u001b[0m,   \u001b[1;36m260\u001b[0m,  \u001b[1;36m1836\u001b[0m,  \u001b[1;36m3688\u001b[0m,    \u001b[1;36m30\u001b[0m,   \u001b[1;36m198\u001b[0m,  \u001b[1;36m1559\u001b[0m,    \u001b[1;36m31\u001b[0m,\n",
       "           \u001b[1;36m731\u001b[0m, \u001b[1;36m36204\u001b[0m,  \u001b[1;36m3688\u001b[0m,    \u001b[1;36m42\u001b[0m,   \u001b[1;36m378\u001b[0m,  \u001b[1;36m3688\u001b[0m,   \u001b[1;36m288\u001b[0m,  \u001b[1;36m4624\u001b[0m,    \u001b[1;36m30\u001b[0m,   \u001b[1;36m198\u001b[0m,\n",
       "          \u001b[1;36m1559\u001b[0m,    \u001b[1;36m31\u001b[0m,   \u001b[1;36m731\u001b[0m,  \u001b[1;36m9097\u001b[0m,    \u001b[1;36m42\u001b[0m,   \u001b[1;36m378\u001b[0m, \u001b[1;36m29199\u001b[0m,  \u001b[1;36m3688\u001b[0m,   \u001b[1;36m347\u001b[0m,   \u001b[1;36m253\u001b[0m,\n",
       "          \u001b[1;36m4928\u001b[0m,    \u001b[1;36m30\u001b[0m,   \u001b[1;36m198\u001b[0m, \u001b[1;36m10005\u001b[0m,   \u001b[1;36m288\u001b[0m, \u001b[1;36m10492\u001b[0m,    \u001b[1;36m24\u001b[0m,  \u001b[1;36m2759\u001b[0m,    \u001b[1;36m42\u001b[0m, \u001b[1;36m13966\u001b[0m,\n",
       "            \u001b[1;36m25\u001b[0m,  \u001b[1;36m4722\u001b[0m, \u001b[1;36m16481\u001b[0m,  \u001b[1;36m1662\u001b[0m,   \u001b[1;36m472\u001b[0m,  \u001b[1;36m1003\u001b[0m, \u001b[1;36m16481\u001b[0m,    \u001b[1;36m24\u001b[0m,  \u001b[1;36m3477\u001b[0m,    \u001b[1;36m42\u001b[0m,\n",
       "         \u001b[1;36m19114\u001b[0m,    \u001b[1;36m48\u001b[0m,  \u001b[1;36m1002\u001b[0m,  \u001b[1;36m3688\u001b[0m,    \u001b[1;36m25\u001b[0m,   \u001b[1;36m198\u001b[0m,   \u001b[1;36m109\u001b[0m,   \u001b[1;36m198\u001b[0m,   \u001b[1;36m198\u001b[0m,    \u001b[1;36m19\u001b[0m,\n",
       "            \u001b[1;36m35\u001b[0m,    \u001b[1;36m38\u001b[0m,   \u001b[1;36m198\u001b[0m,   \u001b[1;36m198\u001b[0m,  \u001b[1;36m3757\u001b[0m, \u001b[1;36m17969\u001b[0m,   \u001b[1;36m198\u001b[0m,   \u001b[1;36m198\u001b[0m, \u001b[1;36m24217\u001b[0m,   \u001b[1;36m260\u001b[0m\u001b[1m]\u001b[0m\u001b[1m]\u001b[0m\u001b[1m)\u001b[0m\n"
      ]
     },
     "metadata": {},
     "output_type": "display_data"
    }
   ],
   "source": [
    "promt = \"\"\"\n",
    "You are documenting a Swift codebase. Given a function and a short description of where and how it is used, write a documentation comment that helps future developers understand its purpose.\n",
    "Use ///-style Swift comments.\n",
    "Include parameter and return descriptions, and emphasize intent over implementation.\n",
    "Return only the comment and the function.\n",
    "\n",
    "Function:\n",
    "\n",
    "func randomElementFromStringArray(_ array: [String]) -> String? {\n",
    "    return array.randomElement()\n",
    "}\n",
    "\n",
    "### Documentation:\n",
    "\"\"\"\n",
    "\n",
    "print(model.generation_config)\n",
    "inputs = tokenizer(promt, return_tensors=\"pt\").to(device)\n",
    "outputs = model.generate(\n",
    "    **inputs,\n",
    "    max_new_tokens = 256,\n",
    "    temperature=0.7,         # Детерминированный ответ\n",
    "    top_p=0.95,               # Нормальный сэмплинг, можно фиксировать в 0.9\n",
    "    do_sample=True,          # Для генеративных моделей лучше оставить True\n",
    "    eos_token_id=tokenizer.eos_token_id,  # Корректный EOS\n",
    "    pad_token_id=tokenizer.eos_token_id\n",
    ")\n",
    "\n",
    "print(outputs)"
   ]
  },
  {
   "cell_type": "code",
   "execution_count": 81,
   "id": "832943dc",
   "metadata": {},
   "outputs": [
    {
     "data": {
      "text/html": [
       "<pre style=\"white-space:pre;overflow-x:auto;line-height:normal;font-family:Menlo,'DejaVu Sans Mono',consolas,'Courier New',monospace\">Predict: \n",
       " \n",
       "<span style=\"color: #800080; text-decoration-color: #800080\">///</span> Returns a random element from an array of strings.\n",
       "<span style=\"color: #800080; text-decoration-color: #800080\">///</span>\n",
       "<span style=\"color: #800080; text-decoration-color: #800080\">///</span> - Parameter array: An array of strings.\n",
       "<span style=\"color: #800080; text-decoration-color: #800080\">///</span> - Returns: A random element from the array.\n",
       "<span style=\"color: #800080; text-decoration-color: #800080\">///</span> - Complexity: <span style=\"color: #800080; text-decoration-color: #800080; font-weight: bold\">O</span><span style=\"font-weight: bold\">(</span><span style=\"color: #008080; text-decoration-color: #008080; font-weight: bold\">1</span><span style=\"font-weight: bold\">)</span>\n",
       "func <span style=\"color: #800080; text-decoration-color: #800080; font-weight: bold\">randomElementFromStringArray</span><span style=\"font-weight: bold\">(</span>_ array: <span style=\"font-weight: bold\">[</span>String<span style=\"font-weight: bold\">])</span> -&gt; String? <span style=\"font-weight: bold\">{</span>\n",
       "    return <span style=\"color: #800080; text-decoration-color: #800080; font-weight: bold\">array.randomElement</span><span style=\"font-weight: bold\">()</span>\n",
       "<span style=\"font-weight: bold\">}</span>\n",
       "\n",
       "### Example:\n",
       "\n",
       "<span style=\"color: #800080; text-decoration-color: #800080\">///</span> Returns a random element from an array of strings.\n",
       "<span style=\"color: #800080; text-decoration-color: #800080\">///</span>\n",
       "<span style=\"color: #800080; text-decoration-color: #800080\">///</span> - Parameter array: An array of strings.\n",
       "<span style=\"color: #800080; text-decoration-color: #800080\">///</span> - Returns: A random element from the array.\n",
       "<span style=\"color: #800080; text-decoration-color: #800080\">///</span> - Complexity: <span style=\"color: #800080; text-decoration-color: #800080; font-weight: bold\">O</span><span style=\"font-weight: bold\">(</span><span style=\"color: #008080; text-decoration-color: #008080; font-weight: bold\">1</span><span style=\"font-weight: bold\">)</span>\n",
       "func <span style=\"color: #800080; text-decoration-color: #800080; font-weight: bold\">randomElementFromStringArray</span><span style=\"font-weight: bold\">(</span>_ array: <span style=\"font-weight: bold\">[</span>String<span style=\"font-weight: bold\">])</span> -&gt; String? <span style=\"font-weight: bold\">{</span>\n",
       "    return <span style=\"color: #800080; text-decoration-color: #800080; font-weight: bold\">array.randomElement</span><span style=\"font-weight: bold\">()</span>\n",
       "<span style=\"font-weight: bold\">}</span>\n",
       "\n",
       "### Note:\n",
       "\n",
       "If you want to document a function that takes no parameters, you can omit the function name and the parameters, but\n",
       "you still need to document the return value.\n",
       "\n",
       "### Example:\n",
       "\n",
       "<span style=\"color: #800080; text-decoration-color: #800080\">///</span> Returns a random element from an array of strings.\n",
       "<span style=\"color: #800080; text-decoration-color: #800080\">///</span>\n",
       "<span style=\"color: #800080; text-decoration-color: #800080\">///</span> - Parameter array: An array of strings.\n",
       "<span style=\"color: #800080; text-decoration-color: #800080\">///</span> - Returns: A random element from the array.\n",
       "<span style=\"color: #800080; text-decoration-color: #800080\">///</span> - Complexity: <span style=\"color: #800080; text-decoration-color: #800080; font-weight: bold\">O</span><span style=\"font-weight: bold\">(</span><span style=\"color: #008080; text-decoration-color: #008080; font-weight: bold\">1</span><span style=\"font-weight: bold\">)</span>\n",
       "</pre>\n"
      ],
      "text/plain": [
       "Predict: \n",
       " \n",
       "\u001b[35m/\u001b[0m\u001b[35m/\u001b[0m\u001b[35m/\u001b[0m Returns a random element from an array of strings.\n",
       "\u001b[35m/\u001b[0m\u001b[35m/\u001b[0m\u001b[35m/\u001b[0m\n",
       "\u001b[35m/\u001b[0m\u001b[35m/\u001b[0m\u001b[35m/\u001b[0m - Parameter array: An array of strings.\n",
       "\u001b[35m/\u001b[0m\u001b[35m/\u001b[0m\u001b[35m/\u001b[0m - Returns: A random element from the array.\n",
       "\u001b[35m/\u001b[0m\u001b[35m/\u001b[0m\u001b[35m/\u001b[0m - Complexity: \u001b[1;35mO\u001b[0m\u001b[1m(\u001b[0m\u001b[1;36m1\u001b[0m\u001b[1m)\u001b[0m\n",
       "func \u001b[1;35mrandomElementFromStringArray\u001b[0m\u001b[1m(\u001b[0m_ array: \u001b[1m[\u001b[0mString\u001b[1m]\u001b[0m\u001b[1m)\u001b[0m -> String? \u001b[1m{\u001b[0m\n",
       "    return \u001b[1;35marray.randomElement\u001b[0m\u001b[1m(\u001b[0m\u001b[1m)\u001b[0m\n",
       "\u001b[1m}\u001b[0m\n",
       "\n",
       "### Example:\n",
       "\n",
       "\u001b[35m/\u001b[0m\u001b[35m/\u001b[0m\u001b[35m/\u001b[0m Returns a random element from an array of strings.\n",
       "\u001b[35m/\u001b[0m\u001b[35m/\u001b[0m\u001b[35m/\u001b[0m\n",
       "\u001b[35m/\u001b[0m\u001b[35m/\u001b[0m\u001b[35m/\u001b[0m - Parameter array: An array of strings.\n",
       "\u001b[35m/\u001b[0m\u001b[35m/\u001b[0m\u001b[35m/\u001b[0m - Returns: A random element from the array.\n",
       "\u001b[35m/\u001b[0m\u001b[35m/\u001b[0m\u001b[35m/\u001b[0m - Complexity: \u001b[1;35mO\u001b[0m\u001b[1m(\u001b[0m\u001b[1;36m1\u001b[0m\u001b[1m)\u001b[0m\n",
       "func \u001b[1;35mrandomElementFromStringArray\u001b[0m\u001b[1m(\u001b[0m_ array: \u001b[1m[\u001b[0mString\u001b[1m]\u001b[0m\u001b[1m)\u001b[0m -> String? \u001b[1m{\u001b[0m\n",
       "    return \u001b[1;35marray.randomElement\u001b[0m\u001b[1m(\u001b[0m\u001b[1m)\u001b[0m\n",
       "\u001b[1m}\u001b[0m\n",
       "\n",
       "### Note:\n",
       "\n",
       "If you want to document a function that takes no parameters, you can omit the function name and the parameters, but\n",
       "you still need to document the return value.\n",
       "\n",
       "### Example:\n",
       "\n",
       "\u001b[35m/\u001b[0m\u001b[35m/\u001b[0m\u001b[35m/\u001b[0m Returns a random element from an array of strings.\n",
       "\u001b[35m/\u001b[0m\u001b[35m/\u001b[0m\u001b[35m/\u001b[0m\n",
       "\u001b[35m/\u001b[0m\u001b[35m/\u001b[0m\u001b[35m/\u001b[0m - Parameter array: An array of strings.\n",
       "\u001b[35m/\u001b[0m\u001b[35m/\u001b[0m\u001b[35m/\u001b[0m - Returns: A random element from the array.\n",
       "\u001b[35m/\u001b[0m\u001b[35m/\u001b[0m\u001b[35m/\u001b[0m - Complexity: \u001b[1;35mO\u001b[0m\u001b[1m(\u001b[0m\u001b[1;36m1\u001b[0m\u001b[1m)\u001b[0m\n"
      ]
     },
     "metadata": {},
     "output_type": "display_data"
    }
   ],
   "source": [
    "# Получаем длины исходных входов\n",
    "input_lengths = inputs['input_ids'].shape[1]\n",
    "# Убираем токены prompt'а\n",
    "generated_tokens = outputs[:, input_lengths:]\n",
    "# Декодируем только новые токены\n",
    "predictions = tokenizer.batch_decode(generated_tokens, skip_special_tokens=False)\n",
    "\n",
    "for predict in predictions:\n",
    "    print(\"Predict: \\n\", predict)"
   ]
  },
  {
   "cell_type": "markdown",
   "id": "9334c3cf",
   "metadata": {},
   "source": [
    "### END"
   ]
  },
  {
   "cell_type": "markdown",
   "id": "d2a23cfa",
   "metadata": {},
   "source": []
  }
 ],
 "metadata": {
  "kernelspec": {
   "display_name": "shinkai-LYQ5IRPl-py3.12",
   "language": "python",
   "name": "python3"
  },
  "language_info": {
   "codemirror_mode": {
    "name": "ipython",
    "version": 3
   },
   "file_extension": ".py",
   "mimetype": "text/x-python",
   "name": "python",
   "nbconvert_exporter": "python",
   "pygments_lexer": "ipython3",
   "version": "3.12.7"
  }
 },
 "nbformat": 4,
 "nbformat_minor": 5
}
