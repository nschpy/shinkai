{
 "cells": [
  {
   "cell_type": "markdown",
   "id": "c8148004",
   "metadata": {},
   "source": [
    "### Генерация dataset используя `datasets`\n",
    "\n"
   ]
  },
  {
   "cell_type": "code",
   "execution_count": 69,
   "id": "8964d9a9",
   "metadata": {},
   "outputs": [],
   "source": [
    "from datasets import load_dataset, DatasetDict, load_from_disk\n",
    "from tqdm import tqdm"
   ]
  },
  {
   "cell_type": "code",
   "execution_count": 80,
   "id": "9ffe0fec",
   "metadata": {},
   "outputs": [
    {
     "name": "stdout",
     "output_type": "stream",
     "text": [
      "Dataset({\n",
      "    features: ['input', 'output'],\n",
      "    num_rows: 1096\n",
      "})\n"
     ]
    },
    {
     "data": {
      "text/plain": [
       "['func add(_ a: Int, _ b: Int) -> Int {\\n    return a + b\\n}',\n",
       " 'func average(_ a: Double, _ b: Double, _ c: Double) -> Double {\\n    return (a + b + c) / 3\\n}',\n",
       " 'func isPalindrome(_ str: String) -> Bool {\\n    let cleaned = str.lowercased().filter { $0.isLetter }\\n    return cleaned == String(cleaned.reversed())\\n}',\n",
       " 'func concatenate(_ a: String, _ b: String) -> String {\\n    return a + b\\n}',\n",
       " 'func isDivisible(_ number: Int, by divisor: Int) -> Bool {\\n    return number % divisor == 0\\n}',\n",
       " 'func rectangleArea(length: Double, width: Double) -> Double {\\n    return length * width\\n}',\n",
       " 'func celsiusToFahrenheit(_ celsius: Double) -> Double {\\n    return celsius * 9/5 + 32\\n}',\n",
       " 'func maxOfThree(_ a: Int, _ b: Int, _ c: Int) -> Int {\\n    return max(a, max(b, c))\\n}',\n",
       " 'func isEven(_ number: Int) -> Bool {\\n    return number % 2 == 0\\n}',\n",
       " 'func power(_ base: Double, _ exponent: Double) -> Double {\\n    return pow(base, exponent)\\n}']"
      ]
     },
     "execution_count": 80,
     "metadata": {},
     "output_type": "execute_result"
    }
   ],
   "source": [
    "# 1. Загрузка всего датасета из JSON (каждая строка — отдельный JSON-объект)\n",
    "#    Если у вас один большой JSON-массив, то добавьте параметр `field=None`\n",
    "ds_all = load_dataset(\n",
    "    \"json\",\n",
    "    data_files = \"./sft.dataset.json\"\n",
    ")[\"train\"]\n",
    "\n",
    "print(ds_all)\n",
    "\n",
    "ds_all[\"input\"][:10]"
   ]
  },
  {
   "cell_type": "code",
   "execution_count": 82,
   "id": "2cf7dc8e",
   "metadata": {},
   "outputs": [
    {
     "name": "stdout",
     "output_type": "stream",
     "text": [
      "DatasetDict({\n",
      "    train: Dataset({\n",
      "        features: ['input', 'output'],\n",
      "        num_rows: 876\n",
      "    })\n",
      "    test: Dataset({\n",
      "        features: ['input', 'output'],\n",
      "        num_rows: 220\n",
      "    })\n",
      "})\n"
     ]
    }
   ],
   "source": [
    "# 2. Делим на train/test (например, 80/20)\n",
    "splits = ds_all.train_test_split(test_size=0.2, seed=42)\n",
    "\n",
    "print(dataset_dict)"
   ]
  },
  {
   "cell_type": "code",
   "execution_count": 83,
   "id": "03f4945e",
   "metadata": {},
   "outputs": [
    {
     "name": "stderr",
     "output_type": "stream",
     "text": [
      "Saving the dataset (1/1 shards): 100%|██████████| 876/876 [00:00<00:00, 72546.90 examples/s]\n",
      "Saving the dataset (1/1 shards): 100%|██████████| 220/220 [00:00<00:00, 34546.87 examples/s]\n"
     ]
    }
   ],
   "source": [
    "splits.save_to_disk('./swift-dataset/')"
   ]
  },
  {
   "cell_type": "code",
   "execution_count": 87,
   "id": "b6569b66",
   "metadata": {},
   "outputs": [],
   "source": [
    "swift_dataset = load_from_disk(\"swift-dataset/\")"
   ]
  },
  {
   "cell_type": "code",
   "execution_count": 88,
   "id": "40dd685d",
   "metadata": {},
   "outputs": [
    {
     "name": "stdout",
     "output_type": "stream",
     "text": [
      "DatasetDict({\n",
      "    train: Dataset({\n",
      "        features: ['input', 'output'],\n",
      "        num_rows: 876\n",
      "    })\n",
      "    test: Dataset({\n",
      "        features: ['input', 'output'],\n",
      "        num_rows: 220\n",
      "    })\n",
      "})\n"
     ]
    }
   ],
   "source": [
    "print(swift_dataset)"
   ]
  },
  {
   "cell_type": "code",
   "execution_count": 90,
   "id": "b52983f6",
   "metadata": {},
   "outputs": [
    {
     "data": {
      "text/plain": [
       "['func flatten<T>(_ matrix: [[T]]) -> [T] {\\n    return matrix.flatMap { $0 }\\n}',\n",
       " 'func toSnakeCase(_ str: String) -> String {\\n    str.lowercased().replacingOccurrences(of: \" \", with: \"_\")\\n}',\n",
       " 'func celsiusToKelvin(_ celsius: Double) -> Double {\\n    return celsius + 273.15\\n}',\n",
       " 'func isDecimalString(_ str: String) -> Bool {\\n    return Double(str) != nil\\n}',\n",
       " 'func colorSquare(size: CGFloat) -> some View {\\n    Color.blue.frame(width: size, height: size)\\n}',\n",
       " 'func isEvenNumber(_ number: Int) -> Bool {\\n    return number % 2 == 0\\n}',\n",
       " 'func stringToWordArrayBySpaces(_ str: String) -> [String] {\\n    return str.split(separator: \" \").map { String($0) }\\n}',\n",
       " 'func multiplyArray(_ array: [Int], by multiplier: Int) -> [Int] {\\n    return array.map { $0 * multiplier }\\n}',\n",
       " 'func secondLargestNumber(_ numbers: [Int]) -> Int? {\\n    let sorted = numbers.sorted(by: >)\\n    return sorted.count > 1 ? sorted[1] : nil\\n}',\n",
       " 'func indexOf<T>(in array: [T], element: T) -> Int? where T: Equatable {\\n    return array.firstIndex(of: element)\\n}']"
      ]
     },
     "execution_count": 90,
     "metadata": {},
     "output_type": "execute_result"
    }
   ],
   "source": [
    "swift_dataset[\"train\"][\"input\"][:10]"
   ]
  },
  {
   "cell_type": "code",
   "execution_count": null,
   "id": "637a8d5a",
   "metadata": {},
   "outputs": [],
   "source": []
  }
 ],
 "metadata": {
  "kernelspec": {
   "display_name": "shinkai-HQP2GmPL-py3.12",
   "language": "python",
   "name": "python3"
  },
  "language_info": {
   "codemirror_mode": {
    "name": "ipython",
    "version": 3
   },
   "file_extension": ".py",
   "mimetype": "text/x-python",
   "name": "python",
   "nbconvert_exporter": "python",
   "pygments_lexer": "ipython3",
   "version": "3.12.7"
  }
 },
 "nbformat": 4,
 "nbformat_minor": 5
}
